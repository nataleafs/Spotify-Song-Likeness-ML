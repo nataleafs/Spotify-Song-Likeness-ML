{
 "cells": [
  {
   "cell_type": "markdown",
   "metadata": {},
   "source": [
    "# Background"
   ]
  },
  {
   "cell_type": "markdown",
   "metadata": {},
   "source": [
    "Introduction ..d\n",
    "fad "
   ]
  },
  {
   "cell_type": "markdown",
   "metadata": {
    "id": "AnHohwZidQmW"
   },
   "source": [
    "# Import Packages"
   ]
  },
  {
   "cell_type": "code",
   "execution_count": 101,
   "metadata": {
    "id": "lKs5hEbU9YpA"
   },
   "outputs": [],
   "source": [
    "import numpy as np\n",
    "import pandas as pd\n",
    "\n",
    "# Import packages\n",
    "import matplotlib.pyplot as plt\n",
    "import seaborn as sns\n",
    "\n",
    "# Import packages for logistic regression\n",
    "from sklearn.model_selection import train_test_split\n",
    "from sklearn.metrics import confusion_matrix, classification_report\n",
    "from sklearn.linear_model import LogisticRegression\n",
    "from sklearn.model_selection import train_test_split\n",
    "from sklearn.neighbors import KNeighborsClassifier \n",
    "\n",
    "# import xgboost\n",
    "import xgboost as xgb"
   ]
  },
  {
   "cell_type": "markdown",
   "metadata": {
    "id": "vZqjDUEGh4Xe"
   },
   "source": [
    "# Load Data"
   ]
  },
  {
   "cell_type": "code",
   "execution_count": 63,
   "metadata": {
    "id": "XOVIf7VEN2NE"
   },
   "outputs": [],
   "source": [
    "like_songs = pd.read_csv('../data/liked spotify songs.csv')\n",
    "dislike_songs = pd.read_csv('../data/disliked spotify songs.csv')"
   ]
  },
  {
   "cell_type": "code",
   "execution_count": 64,
   "metadata": {},
   "outputs": [
    {
     "data": {
      "text/plain": [
       "(100, 16)"
      ]
     },
     "execution_count": 64,
     "metadata": {},
     "output_type": "execute_result"
    }
   ],
   "source": [
    "like_songs.shape"
   ]
  },
  {
   "cell_type": "code",
   "execution_count": 65,
   "metadata": {},
   "outputs": [
    {
     "data": {
      "text/plain": [
       "(100, 16)"
      ]
     },
     "execution_count": 65,
     "metadata": {},
     "output_type": "execute_result"
    }
   ],
   "source": [
    "dislike_songs.shape"
   ]
  },
  {
   "cell_type": "code",
   "execution_count": 66,
   "metadata": {
    "colab": {
     "base_uri": "https://localhost:8080/",
     "height": 445
    },
    "id": "z8rfSMTg9y8p",
    "outputId": "911431c5-0534-48b6-e2c3-a4e1a8ccf8a8"
   },
   "outputs": [
    {
     "data": {
      "text/html": [
       "<div>\n",
       "<style scoped>\n",
       "    .dataframe tbody tr th:only-of-type {\n",
       "        vertical-align: middle;\n",
       "    }\n",
       "\n",
       "    .dataframe tbody tr th {\n",
       "        vertical-align: top;\n",
       "    }\n",
       "\n",
       "    .dataframe thead th {\n",
       "        text-align: right;\n",
       "    }\n",
       "</style>\n",
       "<table border=\"1\" class=\"dataframe\">\n",
       "  <thead>\n",
       "    <tr style=\"text-align: right;\">\n",
       "      <th></th>\n",
       "      <th>artist</th>\n",
       "      <th>album</th>\n",
       "      <th>track_name</th>\n",
       "      <th>track_id</th>\n",
       "      <th>danceability</th>\n",
       "      <th>energy</th>\n",
       "      <th>key</th>\n",
       "      <th>loudness</th>\n",
       "      <th>mode</th>\n",
       "      <th>speechiness</th>\n",
       "      <th>instrumentalness</th>\n",
       "      <th>liveness</th>\n",
       "      <th>valence</th>\n",
       "      <th>tempo</th>\n",
       "      <th>duration_ms</th>\n",
       "      <th>time_signature</th>\n",
       "    </tr>\n",
       "  </thead>\n",
       "  <tbody>\n",
       "    <tr>\n",
       "      <th>0</th>\n",
       "      <td>Tom Lee Hong Kong Youth NeoWinds Orchestra</td>\n",
       "      <td>2011 WASBE Chiayi City, Taiwan: Tom Lee Hong K...</td>\n",
       "      <td>Hymn to the Sun, \"With the Beat of Mother Earth\"</td>\n",
       "      <td>4olLv2XSxKmEYFeA6JtuJ2</td>\n",
       "      <td>0.161</td>\n",
       "      <td>0.293</td>\n",
       "      <td>7</td>\n",
       "      <td>-15.691</td>\n",
       "      <td>0</td>\n",
       "      <td>0.0415</td>\n",
       "      <td>0.569000</td>\n",
       "      <td>0.6610</td>\n",
       "      <td>0.0572</td>\n",
       "      <td>78.331</td>\n",
       "      <td>561640</td>\n",
       "      <td>4</td>\n",
       "    </tr>\n",
       "    <tr>\n",
       "      <th>1</th>\n",
       "      <td>LANY</td>\n",
       "      <td>Malibu Nights</td>\n",
       "      <td>Malibu Nights</td>\n",
       "      <td>0Eqg0CQ7bK3RQIMPw1A7pl</td>\n",
       "      <td>0.559</td>\n",
       "      <td>0.422</td>\n",
       "      <td>11</td>\n",
       "      <td>-11.890</td>\n",
       "      <td>1</td>\n",
       "      <td>0.1950</td>\n",
       "      <td>0.000002</td>\n",
       "      <td>0.0853</td>\n",
       "      <td>0.1910</td>\n",
       "      <td>74.002</td>\n",
       "      <td>286928</td>\n",
       "      <td>4</td>\n",
       "    </tr>\n",
       "    <tr>\n",
       "      <th>2</th>\n",
       "      <td>Ed Sheeran</td>\n",
       "      <td>+</td>\n",
       "      <td>Give Me Love</td>\n",
       "      <td>0SuG9kyzGRpDqrCWtgD6Lq</td>\n",
       "      <td>0.526</td>\n",
       "      <td>0.328</td>\n",
       "      <td>1</td>\n",
       "      <td>-9.864</td>\n",
       "      <td>1</td>\n",
       "      <td>0.0461</td>\n",
       "      <td>0.000000</td>\n",
       "      <td>0.1120</td>\n",
       "      <td>0.1100</td>\n",
       "      <td>116.068</td>\n",
       "      <td>526387</td>\n",
       "      <td>4</td>\n",
       "    </tr>\n",
       "  </tbody>\n",
       "</table>\n",
       "</div>"
      ],
      "text/plain": [
       "                                       artist  \\\n",
       "0  Tom Lee Hong Kong Youth NeoWinds Orchestra   \n",
       "1                                        LANY   \n",
       "2                                  Ed Sheeran   \n",
       "\n",
       "                                               album  \\\n",
       "0  2011 WASBE Chiayi City, Taiwan: Tom Lee Hong K...   \n",
       "1                                      Malibu Nights   \n",
       "2                                                  +   \n",
       "\n",
       "                                         track_name                track_id  \\\n",
       "0  Hymn to the Sun, \"With the Beat of Mother Earth\"  4olLv2XSxKmEYFeA6JtuJ2   \n",
       "1                                     Malibu Nights  0Eqg0CQ7bK3RQIMPw1A7pl   \n",
       "2                                      Give Me Love  0SuG9kyzGRpDqrCWtgD6Lq   \n",
       "\n",
       "   danceability  energy  key  loudness  mode  speechiness  instrumentalness  \\\n",
       "0         0.161   0.293    7   -15.691     0       0.0415          0.569000   \n",
       "1         0.559   0.422   11   -11.890     1       0.1950          0.000002   \n",
       "2         0.526   0.328    1    -9.864     1       0.0461          0.000000   \n",
       "\n",
       "   liveness  valence    tempo  duration_ms  time_signature  \n",
       "0    0.6610   0.0572   78.331       561640               4  \n",
       "1    0.0853   0.1910   74.002       286928               4  \n",
       "2    0.1120   0.1100  116.068       526387               4  "
      ]
     },
     "execution_count": 66,
     "metadata": {},
     "output_type": "execute_result"
    }
   ],
   "source": [
    "# First 5 songs in Spotify playlist with our liked songs\n",
    "like_songs.head(3)"
   ]
  },
  {
   "cell_type": "code",
   "execution_count": 67,
   "metadata": {
    "colab": {
     "base_uri": "https://localhost:8080/",
     "height": 377
    },
    "id": "gnnY8-cBYWP0",
    "outputId": "a4ab4b51-93ba-41d5-d4d4-18b4ff74ca41"
   },
   "outputs": [
    {
     "data": {
      "text/html": [
       "<div>\n",
       "<style scoped>\n",
       "    .dataframe tbody tr th:only-of-type {\n",
       "        vertical-align: middle;\n",
       "    }\n",
       "\n",
       "    .dataframe tbody tr th {\n",
       "        vertical-align: top;\n",
       "    }\n",
       "\n",
       "    .dataframe thead th {\n",
       "        text-align: right;\n",
       "    }\n",
       "</style>\n",
       "<table border=\"1\" class=\"dataframe\">\n",
       "  <thead>\n",
       "    <tr style=\"text-align: right;\">\n",
       "      <th></th>\n",
       "      <th>artist</th>\n",
       "      <th>album</th>\n",
       "      <th>track_name</th>\n",
       "      <th>track_id</th>\n",
       "      <th>danceability</th>\n",
       "      <th>energy</th>\n",
       "      <th>key</th>\n",
       "      <th>loudness</th>\n",
       "      <th>mode</th>\n",
       "      <th>speechiness</th>\n",
       "      <th>instrumentalness</th>\n",
       "      <th>liveness</th>\n",
       "      <th>valence</th>\n",
       "      <th>tempo</th>\n",
       "      <th>duration_ms</th>\n",
       "      <th>time_signature</th>\n",
       "    </tr>\n",
       "  </thead>\n",
       "  <tbody>\n",
       "    <tr>\n",
       "      <th>97</th>\n",
       "      <td>Baek Ji Young</td>\n",
       "      <td>I still love you a lot</td>\n",
       "      <td>I still love you a lot</td>\n",
       "      <td>2zCORPZHF7g9SPjZfrGVuy</td>\n",
       "      <td>0.548</td>\n",
       "      <td>0.404</td>\n",
       "      <td>4</td>\n",
       "      <td>-5.618</td>\n",
       "      <td>1</td>\n",
       "      <td>0.0314</td>\n",
       "      <td>0.00000</td>\n",
       "      <td>0.0791</td>\n",
       "      <td>0.486</td>\n",
       "      <td>129.795</td>\n",
       "      <td>227867</td>\n",
       "      <td>4</td>\n",
       "    </tr>\n",
       "    <tr>\n",
       "      <th>98</th>\n",
       "      <td>TOTO</td>\n",
       "      <td>Toto IV</td>\n",
       "      <td>Africa</td>\n",
       "      <td>2374M0fQpWi3dLnB54qaLX</td>\n",
       "      <td>0.671</td>\n",
       "      <td>0.373</td>\n",
       "      <td>9</td>\n",
       "      <td>-18.064</td>\n",
       "      <td>1</td>\n",
       "      <td>0.0323</td>\n",
       "      <td>0.00008</td>\n",
       "      <td>0.0481</td>\n",
       "      <td>0.732</td>\n",
       "      <td>92.718</td>\n",
       "      <td>295893</td>\n",
       "      <td>4</td>\n",
       "    </tr>\n",
       "    <tr>\n",
       "      <th>99</th>\n",
       "      <td>Avril Lavigne</td>\n",
       "      <td>Goodbye Lullaby (Deluxe Edition)</td>\n",
       "      <td>Wish You Were Here</td>\n",
       "      <td>72po8JKu6e1hLtQ7kGJPg3</td>\n",
       "      <td>0.460</td>\n",
       "      <td>0.866</td>\n",
       "      <td>1</td>\n",
       "      <td>-3.864</td>\n",
       "      <td>0</td>\n",
       "      <td>0.0559</td>\n",
       "      <td>0.00000</td>\n",
       "      <td>0.1900</td>\n",
       "      <td>0.345</td>\n",
       "      <td>165.956</td>\n",
       "      <td>225680</td>\n",
       "      <td>4</td>\n",
       "    </tr>\n",
       "  </tbody>\n",
       "</table>\n",
       "</div>"
      ],
      "text/plain": [
       "           artist                             album              track_name  \\\n",
       "97  Baek Ji Young            I still love you a lot  I still love you a lot   \n",
       "98           TOTO                           Toto IV                  Africa   \n",
       "99  Avril Lavigne  Goodbye Lullaby (Deluxe Edition)      Wish You Were Here   \n",
       "\n",
       "                  track_id  danceability  energy  key  loudness  mode  \\\n",
       "97  2zCORPZHF7g9SPjZfrGVuy         0.548   0.404    4    -5.618     1   \n",
       "98  2374M0fQpWi3dLnB54qaLX         0.671   0.373    9   -18.064     1   \n",
       "99  72po8JKu6e1hLtQ7kGJPg3         0.460   0.866    1    -3.864     0   \n",
       "\n",
       "    speechiness  instrumentalness  liveness  valence    tempo  duration_ms  \\\n",
       "97       0.0314           0.00000    0.0791    0.486  129.795       227867   \n",
       "98       0.0323           0.00008    0.0481    0.732   92.718       295893   \n",
       "99       0.0559           0.00000    0.1900    0.345  165.956       225680   \n",
       "\n",
       "    time_signature  \n",
       "97               4  \n",
       "98               4  \n",
       "99               4  "
      ]
     },
     "execution_count": 67,
     "metadata": {},
     "output_type": "execute_result"
    }
   ],
   "source": [
    "# Last 5 songs in Spotify playlist with our liked songs\n",
    "like_songs.tail(3)"
   ]
  },
  {
   "cell_type": "code",
   "execution_count": 68,
   "metadata": {
    "colab": {
     "base_uri": "https://localhost:8080/",
     "height": 411
    },
    "id": "KKRU6i2O9zFP",
    "outputId": "e0c60d9f-34df-45a6-c1ba-1abb73e987a7"
   },
   "outputs": [
    {
     "data": {
      "text/html": [
       "<div>\n",
       "<style scoped>\n",
       "    .dataframe tbody tr th:only-of-type {\n",
       "        vertical-align: middle;\n",
       "    }\n",
       "\n",
       "    .dataframe tbody tr th {\n",
       "        vertical-align: top;\n",
       "    }\n",
       "\n",
       "    .dataframe thead th {\n",
       "        text-align: right;\n",
       "    }\n",
       "</style>\n",
       "<table border=\"1\" class=\"dataframe\">\n",
       "  <thead>\n",
       "    <tr style=\"text-align: right;\">\n",
       "      <th></th>\n",
       "      <th>artist</th>\n",
       "      <th>album</th>\n",
       "      <th>track_name</th>\n",
       "      <th>track_id</th>\n",
       "      <th>danceability</th>\n",
       "      <th>energy</th>\n",
       "      <th>key</th>\n",
       "      <th>loudness</th>\n",
       "      <th>mode</th>\n",
       "      <th>speechiness</th>\n",
       "      <th>instrumentalness</th>\n",
       "      <th>liveness</th>\n",
       "      <th>valence</th>\n",
       "      <th>tempo</th>\n",
       "      <th>duration_ms</th>\n",
       "      <th>time_signature</th>\n",
       "    </tr>\n",
       "  </thead>\n",
       "  <tbody>\n",
       "    <tr>\n",
       "      <th>0</th>\n",
       "      <td>Katy Perry</td>\n",
       "      <td>Smile</td>\n",
       "      <td>Cry About It Later</td>\n",
       "      <td>7cLrrJ1Dk6WAQyDIj9j26A</td>\n",
       "      <td>0.699</td>\n",
       "      <td>0.669</td>\n",
       "      <td>2</td>\n",
       "      <td>-5.829</td>\n",
       "      <td>0</td>\n",
       "      <td>0.0712</td>\n",
       "      <td>0.000017</td>\n",
       "      <td>0.248</td>\n",
       "      <td>0.4440</td>\n",
       "      <td>125.994</td>\n",
       "      <td>189773</td>\n",
       "      <td>4</td>\n",
       "    </tr>\n",
       "    <tr>\n",
       "      <th>1</th>\n",
       "      <td>Meghan Trainor</td>\n",
       "      <td>TREAT MYSELF (DELUXE)</td>\n",
       "      <td>You Don't Know Me</td>\n",
       "      <td>3xGTNPcwsvonkWUQV1Wsqu</td>\n",
       "      <td>0.579</td>\n",
       "      <td>0.763</td>\n",
       "      <td>9</td>\n",
       "      <td>-4.155</td>\n",
       "      <td>0</td>\n",
       "      <td>0.0717</td>\n",
       "      <td>0.000000</td>\n",
       "      <td>0.205</td>\n",
       "      <td>0.6170</td>\n",
       "      <td>106.029</td>\n",
       "      <td>210834</td>\n",
       "      <td>4</td>\n",
       "    </tr>\n",
       "    <tr>\n",
       "      <th>2</th>\n",
       "      <td>Justin Bieber</td>\n",
       "      <td>Lonely (with benny blanco)</td>\n",
       "      <td>Lonely (with benny blanco)</td>\n",
       "      <td>4y4spB9m0Q6026KfkAvy9Q</td>\n",
       "      <td>0.631</td>\n",
       "      <td>0.239</td>\n",
       "      <td>11</td>\n",
       "      <td>-7.071</td>\n",
       "      <td>0</td>\n",
       "      <td>0.0398</td>\n",
       "      <td>0.000000</td>\n",
       "      <td>0.116</td>\n",
       "      <td>0.0927</td>\n",
       "      <td>79.859</td>\n",
       "      <td>149297</td>\n",
       "      <td>4</td>\n",
       "    </tr>\n",
       "  </tbody>\n",
       "</table>\n",
       "</div>"
      ],
      "text/plain": [
       "           artist                       album                  track_name  \\\n",
       "0      Katy Perry                       Smile          Cry About It Later   \n",
       "1  Meghan Trainor       TREAT MYSELF (DELUXE)           You Don't Know Me   \n",
       "2   Justin Bieber  Lonely (with benny blanco)  Lonely (with benny blanco)   \n",
       "\n",
       "                 track_id  danceability  energy  key  loudness  mode  \\\n",
       "0  7cLrrJ1Dk6WAQyDIj9j26A         0.699   0.669    2    -5.829     0   \n",
       "1  3xGTNPcwsvonkWUQV1Wsqu         0.579   0.763    9    -4.155     0   \n",
       "2  4y4spB9m0Q6026KfkAvy9Q         0.631   0.239   11    -7.071     0   \n",
       "\n",
       "   speechiness  instrumentalness  liveness  valence    tempo  duration_ms  \\\n",
       "0       0.0712          0.000017     0.248   0.4440  125.994       189773   \n",
       "1       0.0717          0.000000     0.205   0.6170  106.029       210834   \n",
       "2       0.0398          0.000000     0.116   0.0927   79.859       149297   \n",
       "\n",
       "   time_signature  \n",
       "0               4  \n",
       "1               4  \n",
       "2               4  "
      ]
     },
     "execution_count": 68,
     "metadata": {},
     "output_type": "execute_result"
    }
   ],
   "source": [
    "# First 5 songs in Spotify playlist with our disliked songs\n",
    "dislike_songs.head(3)"
   ]
  },
  {
   "cell_type": "code",
   "execution_count": 69,
   "metadata": {
    "colab": {
     "base_uri": "https://localhost:8080/",
     "height": 292
    },
    "id": "Y1l_8zyRZPQa",
    "outputId": "56208f65-b58a-447f-c8b7-c08faaa20d33"
   },
   "outputs": [
    {
     "data": {
      "text/html": [
       "<div>\n",
       "<style scoped>\n",
       "    .dataframe tbody tr th:only-of-type {\n",
       "        vertical-align: middle;\n",
       "    }\n",
       "\n",
       "    .dataframe tbody tr th {\n",
       "        vertical-align: top;\n",
       "    }\n",
       "\n",
       "    .dataframe thead th {\n",
       "        text-align: right;\n",
       "    }\n",
       "</style>\n",
       "<table border=\"1\" class=\"dataframe\">\n",
       "  <thead>\n",
       "    <tr style=\"text-align: right;\">\n",
       "      <th></th>\n",
       "      <th>artist</th>\n",
       "      <th>album</th>\n",
       "      <th>track_name</th>\n",
       "      <th>track_id</th>\n",
       "      <th>danceability</th>\n",
       "      <th>energy</th>\n",
       "      <th>key</th>\n",
       "      <th>loudness</th>\n",
       "      <th>mode</th>\n",
       "      <th>speechiness</th>\n",
       "      <th>instrumentalness</th>\n",
       "      <th>liveness</th>\n",
       "      <th>valence</th>\n",
       "      <th>tempo</th>\n",
       "      <th>duration_ms</th>\n",
       "      <th>time_signature</th>\n",
       "    </tr>\n",
       "  </thead>\n",
       "  <tbody>\n",
       "    <tr>\n",
       "      <th>97</th>\n",
       "      <td>Halsey</td>\n",
       "      <td>Manic</td>\n",
       "      <td>You should be sad</td>\n",
       "      <td>7lidXGPXPYLNThITAOTlkK</td>\n",
       "      <td>0.591</td>\n",
       "      <td>0.585</td>\n",
       "      <td>2</td>\n",
       "      <td>-6.350</td>\n",
       "      <td>1</td>\n",
       "      <td>0.0277</td>\n",
       "      <td>0.000000</td>\n",
       "      <td>0.109</td>\n",
       "      <td>0.324</td>\n",
       "      <td>110.940</td>\n",
       "      <td>205473</td>\n",
       "      <td>4</td>\n",
       "    </tr>\n",
       "    <tr>\n",
       "      <th>98</th>\n",
       "      <td>H.E.R.</td>\n",
       "      <td>Sometimes</td>\n",
       "      <td>Sometimes</td>\n",
       "      <td>2m0pzukUN2eFutFjnXNFXF</td>\n",
       "      <td>0.540</td>\n",
       "      <td>0.617</td>\n",
       "      <td>3</td>\n",
       "      <td>-7.560</td>\n",
       "      <td>0</td>\n",
       "      <td>0.0723</td>\n",
       "      <td>0.000854</td>\n",
       "      <td>0.109</td>\n",
       "      <td>0.369</td>\n",
       "      <td>151.838</td>\n",
       "      <td>273751</td>\n",
       "      <td>4</td>\n",
       "    </tr>\n",
       "    <tr>\n",
       "      <th>99</th>\n",
       "      <td>Chris Brown</td>\n",
       "      <td>Slime &amp; B</td>\n",
       "      <td>Go Crazy</td>\n",
       "      <td>1IIKrJVP1C9N7iPtG6eOsK</td>\n",
       "      <td>0.755</td>\n",
       "      <td>0.578</td>\n",
       "      <td>0</td>\n",
       "      <td>-8.932</td>\n",
       "      <td>0</td>\n",
       "      <td>0.1450</td>\n",
       "      <td>0.000000</td>\n",
       "      <td>0.250</td>\n",
       "      <td>0.581</td>\n",
       "      <td>94.148</td>\n",
       "      <td>176960</td>\n",
       "      <td>4</td>\n",
       "    </tr>\n",
       "  </tbody>\n",
       "</table>\n",
       "</div>"
      ],
      "text/plain": [
       "         artist      album         track_name                track_id  \\\n",
       "97       Halsey      Manic  You should be sad  7lidXGPXPYLNThITAOTlkK   \n",
       "98       H.E.R.  Sometimes          Sometimes  2m0pzukUN2eFutFjnXNFXF   \n",
       "99  Chris Brown  Slime & B           Go Crazy  1IIKrJVP1C9N7iPtG6eOsK   \n",
       "\n",
       "    danceability  energy  key  loudness  mode  speechiness  instrumentalness  \\\n",
       "97         0.591   0.585    2    -6.350     1       0.0277          0.000000   \n",
       "98         0.540   0.617    3    -7.560     0       0.0723          0.000854   \n",
       "99         0.755   0.578    0    -8.932     0       0.1450          0.000000   \n",
       "\n",
       "    liveness  valence    tempo  duration_ms  time_signature  \n",
       "97     0.109    0.324  110.940       205473               4  \n",
       "98     0.109    0.369  151.838       273751               4  \n",
       "99     0.250    0.581   94.148       176960               4  "
      ]
     },
     "execution_count": 69,
     "metadata": {},
     "output_type": "execute_result"
    }
   ],
   "source": [
    "# Last 5 songs in Spotify playlist with our disliked songs\n",
    "dislike_songs.tail(3)"
   ]
  },
  {
   "cell_type": "markdown",
   "metadata": {
    "id": "lExvsvG4M0R8"
   },
   "source": [
    "# Preliminary Analysis"
   ]
  },
  {
   "cell_type": "code",
   "execution_count": 70,
   "metadata": {
    "colab": {
     "base_uri": "https://localhost:8080/"
    },
    "id": "-VjltJhyZcP8",
    "outputId": "9803632c-63d5-4f4b-b639-e6f9e031106b"
   },
   "outputs": [
    {
     "data": {
      "text/plain": [
       "Index(['artist', 'album', 'track_name', 'track_id', 'danceability', 'energy',\n",
       "       'key', 'loudness', 'mode', 'speechiness', 'instrumentalness',\n",
       "       'liveness', 'valence', 'tempo', 'duration_ms', 'time_signature'],\n",
       "      dtype='object')"
      ]
     },
     "execution_count": 70,
     "metadata": {},
     "output_type": "execute_result"
    }
   ],
   "source": [
    "# Columns in our dataset\n",
    "like_songs.columns"
   ]
  },
  {
   "cell_type": "code",
   "execution_count": 71,
   "metadata": {
    "colab": {
     "base_uri": "https://localhost:8080/",
     "height": 317
    },
    "id": "fLJmA3toaEcH",
    "outputId": "4207656a-c56e-4dea-e278-c748df4be0cf"
   },
   "outputs": [
    {
     "data": {
      "text/html": [
       "<div>\n",
       "<style scoped>\n",
       "    .dataframe tbody tr th:only-of-type {\n",
       "        vertical-align: middle;\n",
       "    }\n",
       "\n",
       "    .dataframe tbody tr th {\n",
       "        vertical-align: top;\n",
       "    }\n",
       "\n",
       "    .dataframe thead th {\n",
       "        text-align: right;\n",
       "    }\n",
       "</style>\n",
       "<table border=\"1\" class=\"dataframe\">\n",
       "  <thead>\n",
       "    <tr style=\"text-align: right;\">\n",
       "      <th></th>\n",
       "      <th>danceability</th>\n",
       "      <th>energy</th>\n",
       "      <th>key</th>\n",
       "      <th>loudness</th>\n",
       "      <th>mode</th>\n",
       "      <th>speechiness</th>\n",
       "      <th>instrumentalness</th>\n",
       "      <th>liveness</th>\n",
       "      <th>valence</th>\n",
       "      <th>tempo</th>\n",
       "      <th>duration_ms</th>\n",
       "      <th>time_signature</th>\n",
       "    </tr>\n",
       "  </thead>\n",
       "  <tbody>\n",
       "    <tr>\n",
       "      <th>count</th>\n",
       "      <td>100.000000</td>\n",
       "      <td>100.000000</td>\n",
       "      <td>100.000000</td>\n",
       "      <td>100.000000</td>\n",
       "      <td>100.000000</td>\n",
       "      <td>100.000000</td>\n",
       "      <td>100.000000</td>\n",
       "      <td>100.000000</td>\n",
       "      <td>100.000000</td>\n",
       "      <td>100.000000</td>\n",
       "      <td>100.000000</td>\n",
       "      <td>100.000000</td>\n",
       "    </tr>\n",
       "    <tr>\n",
       "      <th>mean</th>\n",
       "      <td>0.551960</td>\n",
       "      <td>0.523324</td>\n",
       "      <td>5.430000</td>\n",
       "      <td>-7.867940</td>\n",
       "      <td>0.830000</td>\n",
       "      <td>0.057327</td>\n",
       "      <td>0.045659</td>\n",
       "      <td>0.200942</td>\n",
       "      <td>0.373591</td>\n",
       "      <td>119.756020</td>\n",
       "      <td>260022.800000</td>\n",
       "      <td>3.940000</td>\n",
       "    </tr>\n",
       "    <tr>\n",
       "      <th>std</th>\n",
       "      <td>0.151527</td>\n",
       "      <td>0.199619</td>\n",
       "      <td>3.593639</td>\n",
       "      <td>3.473365</td>\n",
       "      <td>0.377525</td>\n",
       "      <td>0.048058</td>\n",
       "      <td>0.171749</td>\n",
       "      <td>0.180012</td>\n",
       "      <td>0.211411</td>\n",
       "      <td>29.301727</td>\n",
       "      <td>88006.034145</td>\n",
       "      <td>0.238683</td>\n",
       "    </tr>\n",
       "    <tr>\n",
       "      <th>min</th>\n",
       "      <td>0.161000</td>\n",
       "      <td>0.092400</td>\n",
       "      <td>0.000000</td>\n",
       "      <td>-18.064000</td>\n",
       "      <td>0.000000</td>\n",
       "      <td>0.024300</td>\n",
       "      <td>0.000000</td>\n",
       "      <td>0.033300</td>\n",
       "      <td>0.057200</td>\n",
       "      <td>71.994000</td>\n",
       "      <td>160347.000000</td>\n",
       "      <td>3.000000</td>\n",
       "    </tr>\n",
       "    <tr>\n",
       "      <th>25%</th>\n",
       "      <td>0.467500</td>\n",
       "      <td>0.381250</td>\n",
       "      <td>2.000000</td>\n",
       "      <td>-9.537750</td>\n",
       "      <td>1.000000</td>\n",
       "      <td>0.032375</td>\n",
       "      <td>0.000000</td>\n",
       "      <td>0.096600</td>\n",
       "      <td>0.190000</td>\n",
       "      <td>94.411750</td>\n",
       "      <td>208673.750000</td>\n",
       "      <td>4.000000</td>\n",
       "    </tr>\n",
       "    <tr>\n",
       "      <th>50%</th>\n",
       "      <td>0.553500</td>\n",
       "      <td>0.485000</td>\n",
       "      <td>5.500000</td>\n",
       "      <td>-7.150500</td>\n",
       "      <td>1.000000</td>\n",
       "      <td>0.041850</td>\n",
       "      <td>0.000002</td>\n",
       "      <td>0.116000</td>\n",
       "      <td>0.334000</td>\n",
       "      <td>119.930000</td>\n",
       "      <td>235966.500000</td>\n",
       "      <td>4.000000</td>\n",
       "    </tr>\n",
       "    <tr>\n",
       "      <th>75%</th>\n",
       "      <td>0.667000</td>\n",
       "      <td>0.655000</td>\n",
       "      <td>8.000000</td>\n",
       "      <td>-5.660750</td>\n",
       "      <td>1.000000</td>\n",
       "      <td>0.059725</td>\n",
       "      <td>0.000133</td>\n",
       "      <td>0.237750</td>\n",
       "      <td>0.493500</td>\n",
       "      <td>138.633750</td>\n",
       "      <td>283189.750000</td>\n",
       "      <td>4.000000</td>\n",
       "    </tr>\n",
       "    <tr>\n",
       "      <th>max</th>\n",
       "      <td>0.897000</td>\n",
       "      <td>0.941000</td>\n",
       "      <td>11.000000</td>\n",
       "      <td>-0.323000</td>\n",
       "      <td>1.000000</td>\n",
       "      <td>0.360000</td>\n",
       "      <td>0.913000</td>\n",
       "      <td>0.795000</td>\n",
       "      <td>0.884000</td>\n",
       "      <td>192.099000</td>\n",
       "      <td>663333.000000</td>\n",
       "      <td>4.000000</td>\n",
       "    </tr>\n",
       "  </tbody>\n",
       "</table>\n",
       "</div>"
      ],
      "text/plain": [
       "       danceability      energy         key    loudness        mode  \\\n",
       "count    100.000000  100.000000  100.000000  100.000000  100.000000   \n",
       "mean       0.551960    0.523324    5.430000   -7.867940    0.830000   \n",
       "std        0.151527    0.199619    3.593639    3.473365    0.377525   \n",
       "min        0.161000    0.092400    0.000000  -18.064000    0.000000   \n",
       "25%        0.467500    0.381250    2.000000   -9.537750    1.000000   \n",
       "50%        0.553500    0.485000    5.500000   -7.150500    1.000000   \n",
       "75%        0.667000    0.655000    8.000000   -5.660750    1.000000   \n",
       "max        0.897000    0.941000   11.000000   -0.323000    1.000000   \n",
       "\n",
       "       speechiness  instrumentalness    liveness     valence       tempo  \\\n",
       "count   100.000000        100.000000  100.000000  100.000000  100.000000   \n",
       "mean      0.057327          0.045659    0.200942    0.373591  119.756020   \n",
       "std       0.048058          0.171749    0.180012    0.211411   29.301727   \n",
       "min       0.024300          0.000000    0.033300    0.057200   71.994000   \n",
       "25%       0.032375          0.000000    0.096600    0.190000   94.411750   \n",
       "50%       0.041850          0.000002    0.116000    0.334000  119.930000   \n",
       "75%       0.059725          0.000133    0.237750    0.493500  138.633750   \n",
       "max       0.360000          0.913000    0.795000    0.884000  192.099000   \n",
       "\n",
       "         duration_ms  time_signature  \n",
       "count     100.000000      100.000000  \n",
       "mean   260022.800000        3.940000  \n",
       "std     88006.034145        0.238683  \n",
       "min    160347.000000        3.000000  \n",
       "25%    208673.750000        4.000000  \n",
       "50%    235966.500000        4.000000  \n",
       "75%    283189.750000        4.000000  \n",
       "max    663333.000000        4.000000  "
      ]
     },
     "execution_count": 71,
     "metadata": {},
     "output_type": "execute_result"
    }
   ],
   "source": [
    "# Describing the columns in our liked songs dataset\n",
    "like_songs.describe()"
   ]
  },
  {
   "cell_type": "markdown",
   "metadata": {},
   "source": [
    "**Observations:**\n",
    "- The longest song is 663333ms, which is ~11mins.\n",
    "- Danceability describes how suitable a track is for dancing based on a combination of musical elements including tempo, rhythm stability, beat strength, and overall regularity. Among the 100 songs, danceability has a mean of 0.55. This could mean that our songs are pretty balanced in terms of rhythm and tempo."
   ]
  },
  {
   "cell_type": "markdown",
   "metadata": {
    "id": "wZGdJ1_UOrEx"
   },
   "source": [
    "# Preprocessing"
   ]
  },
  {
   "cell_type": "code",
   "execution_count": 72,
   "metadata": {
    "colab": {
     "base_uri": "https://localhost:8080/",
     "height": 445
    },
    "id": "tY8R2SZE9zHc",
    "outputId": "1fa06a76-71ce-4970-b6a3-6bc54f7a3b42"
   },
   "outputs": [
    {
     "data": {
      "text/html": [
       "<div>\n",
       "<style scoped>\n",
       "    .dataframe tbody tr th:only-of-type {\n",
       "        vertical-align: middle;\n",
       "    }\n",
       "\n",
       "    .dataframe tbody tr th {\n",
       "        vertical-align: top;\n",
       "    }\n",
       "\n",
       "    .dataframe thead th {\n",
       "        text-align: right;\n",
       "    }\n",
       "</style>\n",
       "<table border=\"1\" class=\"dataframe\">\n",
       "  <thead>\n",
       "    <tr style=\"text-align: right;\">\n",
       "      <th></th>\n",
       "      <th>artist</th>\n",
       "      <th>album</th>\n",
       "      <th>track_name</th>\n",
       "      <th>track_id</th>\n",
       "      <th>danceability</th>\n",
       "      <th>energy</th>\n",
       "      <th>key</th>\n",
       "      <th>loudness</th>\n",
       "      <th>mode</th>\n",
       "      <th>speechiness</th>\n",
       "      <th>instrumentalness</th>\n",
       "      <th>liveness</th>\n",
       "      <th>valence</th>\n",
       "      <th>tempo</th>\n",
       "      <th>duration_ms</th>\n",
       "      <th>time_signature</th>\n",
       "      <th>song_like</th>\n",
       "    </tr>\n",
       "  </thead>\n",
       "  <tbody>\n",
       "    <tr>\n",
       "      <th>95</th>\n",
       "      <td>JJ Lin</td>\n",
       "      <td>JJ林俊傑100天</td>\n",
       "      <td>第幾個100天</td>\n",
       "      <td>2tXTEROacuvyybcZoX9RmT</td>\n",
       "      <td>0.247</td>\n",
       "      <td>0.475</td>\n",
       "      <td>0</td>\n",
       "      <td>-6.658</td>\n",
       "      <td>1</td>\n",
       "      <td>0.0286</td>\n",
       "      <td>0.00000</td>\n",
       "      <td>0.1300</td>\n",
       "      <td>0.201</td>\n",
       "      <td>96.429</td>\n",
       "      <td>278895</td>\n",
       "      <td>3</td>\n",
       "      <td>1</td>\n",
       "    </tr>\n",
       "    <tr>\n",
       "      <th>96</th>\n",
       "      <td>Cass Elliot</td>\n",
       "      <td>Dream A Little Dream Of Me</td>\n",
       "      <td>Dream A Little Dream Of Me</td>\n",
       "      <td>3cOWCcBKwiwUs5PCYirwMI</td>\n",
       "      <td>0.410</td>\n",
       "      <td>0.532</td>\n",
       "      <td>11</td>\n",
       "      <td>-10.394</td>\n",
       "      <td>0</td>\n",
       "      <td>0.1950</td>\n",
       "      <td>0.00000</td>\n",
       "      <td>0.6980</td>\n",
       "      <td>0.406</td>\n",
       "      <td>134.128</td>\n",
       "      <td>221373</td>\n",
       "      <td>4</td>\n",
       "      <td>1</td>\n",
       "    </tr>\n",
       "    <tr>\n",
       "      <th>97</th>\n",
       "      <td>Baek Ji Young</td>\n",
       "      <td>I still love you a lot</td>\n",
       "      <td>I still love you a lot</td>\n",
       "      <td>2zCORPZHF7g9SPjZfrGVuy</td>\n",
       "      <td>0.548</td>\n",
       "      <td>0.404</td>\n",
       "      <td>4</td>\n",
       "      <td>-5.618</td>\n",
       "      <td>1</td>\n",
       "      <td>0.0314</td>\n",
       "      <td>0.00000</td>\n",
       "      <td>0.0791</td>\n",
       "      <td>0.486</td>\n",
       "      <td>129.795</td>\n",
       "      <td>227867</td>\n",
       "      <td>4</td>\n",
       "      <td>1</td>\n",
       "    </tr>\n",
       "    <tr>\n",
       "      <th>98</th>\n",
       "      <td>TOTO</td>\n",
       "      <td>Toto IV</td>\n",
       "      <td>Africa</td>\n",
       "      <td>2374M0fQpWi3dLnB54qaLX</td>\n",
       "      <td>0.671</td>\n",
       "      <td>0.373</td>\n",
       "      <td>9</td>\n",
       "      <td>-18.064</td>\n",
       "      <td>1</td>\n",
       "      <td>0.0323</td>\n",
       "      <td>0.00008</td>\n",
       "      <td>0.0481</td>\n",
       "      <td>0.732</td>\n",
       "      <td>92.718</td>\n",
       "      <td>295893</td>\n",
       "      <td>4</td>\n",
       "      <td>1</td>\n",
       "    </tr>\n",
       "    <tr>\n",
       "      <th>99</th>\n",
       "      <td>Avril Lavigne</td>\n",
       "      <td>Goodbye Lullaby (Deluxe Edition)</td>\n",
       "      <td>Wish You Were Here</td>\n",
       "      <td>72po8JKu6e1hLtQ7kGJPg3</td>\n",
       "      <td>0.460</td>\n",
       "      <td>0.866</td>\n",
       "      <td>1</td>\n",
       "      <td>-3.864</td>\n",
       "      <td>0</td>\n",
       "      <td>0.0559</td>\n",
       "      <td>0.00000</td>\n",
       "      <td>0.1900</td>\n",
       "      <td>0.345</td>\n",
       "      <td>165.956</td>\n",
       "      <td>225680</td>\n",
       "      <td>4</td>\n",
       "      <td>1</td>\n",
       "    </tr>\n",
       "  </tbody>\n",
       "</table>\n",
       "</div>"
      ],
      "text/plain": [
       "           artist                             album  \\\n",
       "95         JJ Lin                         JJ林俊傑100天   \n",
       "96    Cass Elliot        Dream A Little Dream Of Me   \n",
       "97  Baek Ji Young            I still love you a lot   \n",
       "98           TOTO                           Toto IV   \n",
       "99  Avril Lavigne  Goodbye Lullaby (Deluxe Edition)   \n",
       "\n",
       "                    track_name                track_id  danceability  energy  \\\n",
       "95                     第幾個100天  2tXTEROacuvyybcZoX9RmT         0.247   0.475   \n",
       "96  Dream A Little Dream Of Me  3cOWCcBKwiwUs5PCYirwMI         0.410   0.532   \n",
       "97      I still love you a lot  2zCORPZHF7g9SPjZfrGVuy         0.548   0.404   \n",
       "98                      Africa  2374M0fQpWi3dLnB54qaLX         0.671   0.373   \n",
       "99          Wish You Were Here  72po8JKu6e1hLtQ7kGJPg3         0.460   0.866   \n",
       "\n",
       "    key  loudness  mode  speechiness  instrumentalness  liveness  valence  \\\n",
       "95    0    -6.658     1       0.0286           0.00000    0.1300    0.201   \n",
       "96   11   -10.394     0       0.1950           0.00000    0.6980    0.406   \n",
       "97    4    -5.618     1       0.0314           0.00000    0.0791    0.486   \n",
       "98    9   -18.064     1       0.0323           0.00008    0.0481    0.732   \n",
       "99    1    -3.864     0       0.0559           0.00000    0.1900    0.345   \n",
       "\n",
       "      tempo  duration_ms  time_signature  song_like  \n",
       "95   96.429       278895               3          1  \n",
       "96  134.128       221373               4          1  \n",
       "97  129.795       227867               4          1  \n",
       "98   92.718       295893               4          1  \n",
       "99  165.956       225680               4          1  "
      ]
     },
     "execution_count": 72,
     "metadata": {},
     "output_type": "execute_result"
    }
   ],
   "source": [
    "# classification, 1 for like, 0 for dislike\n",
    "# Adding the song_like column to our liked songs dataframe\n",
    "like_songs['song_like'] = 1\n",
    "like_songs.tail()"
   ]
  },
  {
   "cell_type": "code",
   "execution_count": 73,
   "metadata": {
    "colab": {
     "base_uri": "https://localhost:8080/",
     "height": 411
    },
    "id": "FCOsne5C9zJG",
    "outputId": "5ed5bde9-4ef8-4c3b-acd7-ab3df89612fb"
   },
   "outputs": [
    {
     "data": {
      "text/html": [
       "<div>\n",
       "<style scoped>\n",
       "    .dataframe tbody tr th:only-of-type {\n",
       "        vertical-align: middle;\n",
       "    }\n",
       "\n",
       "    .dataframe tbody tr th {\n",
       "        vertical-align: top;\n",
       "    }\n",
       "\n",
       "    .dataframe thead th {\n",
       "        text-align: right;\n",
       "    }\n",
       "</style>\n",
       "<table border=\"1\" class=\"dataframe\">\n",
       "  <thead>\n",
       "    <tr style=\"text-align: right;\">\n",
       "      <th></th>\n",
       "      <th>artist</th>\n",
       "      <th>album</th>\n",
       "      <th>track_name</th>\n",
       "      <th>track_id</th>\n",
       "      <th>danceability</th>\n",
       "      <th>energy</th>\n",
       "      <th>key</th>\n",
       "      <th>loudness</th>\n",
       "      <th>mode</th>\n",
       "      <th>speechiness</th>\n",
       "      <th>instrumentalness</th>\n",
       "      <th>liveness</th>\n",
       "      <th>valence</th>\n",
       "      <th>tempo</th>\n",
       "      <th>duration_ms</th>\n",
       "      <th>time_signature</th>\n",
       "      <th>song_like</th>\n",
       "    </tr>\n",
       "  </thead>\n",
       "  <tbody>\n",
       "    <tr>\n",
       "      <th>0</th>\n",
       "      <td>Katy Perry</td>\n",
       "      <td>Smile</td>\n",
       "      <td>Cry About It Later</td>\n",
       "      <td>7cLrrJ1Dk6WAQyDIj9j26A</td>\n",
       "      <td>0.699</td>\n",
       "      <td>0.669</td>\n",
       "      <td>2</td>\n",
       "      <td>-5.829</td>\n",
       "      <td>0</td>\n",
       "      <td>0.0712</td>\n",
       "      <td>0.000017</td>\n",
       "      <td>0.2480</td>\n",
       "      <td>0.4440</td>\n",
       "      <td>125.994</td>\n",
       "      <td>189773</td>\n",
       "      <td>4</td>\n",
       "      <td>0</td>\n",
       "    </tr>\n",
       "    <tr>\n",
       "      <th>1</th>\n",
       "      <td>Meghan Trainor</td>\n",
       "      <td>TREAT MYSELF (DELUXE)</td>\n",
       "      <td>You Don't Know Me</td>\n",
       "      <td>3xGTNPcwsvonkWUQV1Wsqu</td>\n",
       "      <td>0.579</td>\n",
       "      <td>0.763</td>\n",
       "      <td>9</td>\n",
       "      <td>-4.155</td>\n",
       "      <td>0</td>\n",
       "      <td>0.0717</td>\n",
       "      <td>0.000000</td>\n",
       "      <td>0.2050</td>\n",
       "      <td>0.6170</td>\n",
       "      <td>106.029</td>\n",
       "      <td>210834</td>\n",
       "      <td>4</td>\n",
       "      <td>0</td>\n",
       "    </tr>\n",
       "    <tr>\n",
       "      <th>2</th>\n",
       "      <td>Justin Bieber</td>\n",
       "      <td>Lonely (with benny blanco)</td>\n",
       "      <td>Lonely (with benny blanco)</td>\n",
       "      <td>4y4spB9m0Q6026KfkAvy9Q</td>\n",
       "      <td>0.631</td>\n",
       "      <td>0.239</td>\n",
       "      <td>11</td>\n",
       "      <td>-7.071</td>\n",
       "      <td>0</td>\n",
       "      <td>0.0398</td>\n",
       "      <td>0.000000</td>\n",
       "      <td>0.1160</td>\n",
       "      <td>0.0927</td>\n",
       "      <td>79.859</td>\n",
       "      <td>149297</td>\n",
       "      <td>4</td>\n",
       "      <td>0</td>\n",
       "    </tr>\n",
       "    <tr>\n",
       "      <th>3</th>\n",
       "      <td>Shawn Mendes</td>\n",
       "      <td>Monster</td>\n",
       "      <td>Monster (Shawn Mendes &amp; Justin Bieber)</td>\n",
       "      <td>2Z8yfpFX0ZMavHkcIeHiO1</td>\n",
       "      <td>0.652</td>\n",
       "      <td>0.383</td>\n",
       "      <td>2</td>\n",
       "      <td>-7.076</td>\n",
       "      <td>0</td>\n",
       "      <td>0.0516</td>\n",
       "      <td>0.000000</td>\n",
       "      <td>0.0828</td>\n",
       "      <td>0.5490</td>\n",
       "      <td>145.765</td>\n",
       "      <td>178994</td>\n",
       "      <td>4</td>\n",
       "      <td>0</td>\n",
       "    </tr>\n",
       "    <tr>\n",
       "      <th>4</th>\n",
       "      <td>Justin Bieber</td>\n",
       "      <td>Purpose (Deluxe)</td>\n",
       "      <td>Love Yourself</td>\n",
       "      <td>1f8zcJPvJKvxAOjEqM0pyc</td>\n",
       "      <td>0.609</td>\n",
       "      <td>0.378</td>\n",
       "      <td>4</td>\n",
       "      <td>-9.828</td>\n",
       "      <td>1</td>\n",
       "      <td>0.4380</td>\n",
       "      <td>0.000000</td>\n",
       "      <td>0.2800</td>\n",
       "      <td>0.5150</td>\n",
       "      <td>100.418</td>\n",
       "      <td>233720</td>\n",
       "      <td>4</td>\n",
       "      <td>0</td>\n",
       "    </tr>\n",
       "  </tbody>\n",
       "</table>\n",
       "</div>"
      ],
      "text/plain": [
       "           artist                       album  \\\n",
       "0      Katy Perry                       Smile   \n",
       "1  Meghan Trainor       TREAT MYSELF (DELUXE)   \n",
       "2   Justin Bieber  Lonely (with benny blanco)   \n",
       "3    Shawn Mendes                     Monster   \n",
       "4   Justin Bieber            Purpose (Deluxe)   \n",
       "\n",
       "                               track_name                track_id  \\\n",
       "0                      Cry About It Later  7cLrrJ1Dk6WAQyDIj9j26A   \n",
       "1                       You Don't Know Me  3xGTNPcwsvonkWUQV1Wsqu   \n",
       "2              Lonely (with benny blanco)  4y4spB9m0Q6026KfkAvy9Q   \n",
       "3  Monster (Shawn Mendes & Justin Bieber)  2Z8yfpFX0ZMavHkcIeHiO1   \n",
       "4                           Love Yourself  1f8zcJPvJKvxAOjEqM0pyc   \n",
       "\n",
       "   danceability  energy  key  loudness  mode  speechiness  instrumentalness  \\\n",
       "0         0.699   0.669    2    -5.829     0       0.0712          0.000017   \n",
       "1         0.579   0.763    9    -4.155     0       0.0717          0.000000   \n",
       "2         0.631   0.239   11    -7.071     0       0.0398          0.000000   \n",
       "3         0.652   0.383    2    -7.076     0       0.0516          0.000000   \n",
       "4         0.609   0.378    4    -9.828     1       0.4380          0.000000   \n",
       "\n",
       "   liveness  valence    tempo  duration_ms  time_signature  song_like  \n",
       "0    0.2480   0.4440  125.994       189773               4          0  \n",
       "1    0.2050   0.6170  106.029       210834               4          0  \n",
       "2    0.1160   0.0927   79.859       149297               4          0  \n",
       "3    0.0828   0.5490  145.765       178994               4          0  \n",
       "4    0.2800   0.5150  100.418       233720               4          0  "
      ]
     },
     "execution_count": 73,
     "metadata": {},
     "output_type": "execute_result"
    }
   ],
   "source": [
    "# Adding the song_like column to our disliked songs dataframe\n",
    "dislike_songs['song_like'] = 0\n",
    "dislike_songs.head()"
   ]
  },
  {
   "cell_type": "code",
   "execution_count": 74,
   "metadata": {
    "colab": {
     "base_uri": "https://localhost:8080/"
    },
    "id": "0Rs907hIBikk",
    "outputId": "ed90b65c-1de4-4007-bd95-9862c31e21fc"
   },
   "outputs": [
    {
     "data": {
      "text/plain": [
       "(200, 17)"
      ]
     },
     "execution_count": 74,
     "metadata": {},
     "output_type": "execute_result"
    }
   ],
   "source": [
    "# Combine the liked_songs and disliked_songs dataframe\n",
    "songs = like_songs.append(dislike_songs,ignore_index=False)\n",
    "songs.shape"
   ]
  },
  {
   "cell_type": "code",
   "execution_count": 75,
   "metadata": {
    "colab": {
     "base_uri": "https://localhost:8080/"
    },
    "id": "9wQYXNcIBir9",
    "outputId": "e0836570-ded7-4461-acf4-01b9a168d390"
   },
   "outputs": [
    {
     "data": {
      "text/plain": [
       "(200, 17)"
      ]
     },
     "execution_count": 75,
     "metadata": {},
     "output_type": "execute_result"
    }
   ],
   "source": [
    "# Drop duplicated songs\n",
    "songs = songs.drop_duplicates()\n",
    "songs.shape"
   ]
  },
  {
   "cell_type": "code",
   "execution_count": 76,
   "metadata": {
    "id": "K6ADr4klCDEy"
   },
   "outputs": [],
   "source": [
    "# drop track_name and artist cuz we are going to build a model\n",
    "# we do not drop previously, cuz we will need track_name and artist to \n",
    "# show case our results\n",
    "df = songs.drop(['track_name','artist','track_id','album'], axis = 1)"
   ]
  },
  {
   "cell_type": "code",
   "execution_count": 77,
   "metadata": {
    "colab": {
     "base_uri": "https://localhost:8080/",
     "height": 224
    },
    "id": "5vYNRmO5CDJy",
    "outputId": "0573dd7a-bbdd-4411-fc65-dcce9e44e3ab"
   },
   "outputs": [
    {
     "data": {
      "text/html": [
       "<div>\n",
       "<style scoped>\n",
       "    .dataframe tbody tr th:only-of-type {\n",
       "        vertical-align: middle;\n",
       "    }\n",
       "\n",
       "    .dataframe tbody tr th {\n",
       "        vertical-align: top;\n",
       "    }\n",
       "\n",
       "    .dataframe thead th {\n",
       "        text-align: right;\n",
       "    }\n",
       "</style>\n",
       "<table border=\"1\" class=\"dataframe\">\n",
       "  <thead>\n",
       "    <tr style=\"text-align: right;\">\n",
       "      <th></th>\n",
       "      <th>danceability</th>\n",
       "      <th>energy</th>\n",
       "      <th>key</th>\n",
       "      <th>loudness</th>\n",
       "      <th>mode</th>\n",
       "      <th>speechiness</th>\n",
       "      <th>instrumentalness</th>\n",
       "      <th>liveness</th>\n",
       "      <th>valence</th>\n",
       "      <th>tempo</th>\n",
       "      <th>duration_ms</th>\n",
       "      <th>time_signature</th>\n",
       "      <th>song_like</th>\n",
       "    </tr>\n",
       "  </thead>\n",
       "  <tbody>\n",
       "    <tr>\n",
       "      <th>0</th>\n",
       "      <td>0.161</td>\n",
       "      <td>0.293</td>\n",
       "      <td>7</td>\n",
       "      <td>-15.691</td>\n",
       "      <td>0</td>\n",
       "      <td>0.0415</td>\n",
       "      <td>0.569000</td>\n",
       "      <td>0.6610</td>\n",
       "      <td>0.0572</td>\n",
       "      <td>78.331</td>\n",
       "      <td>561640</td>\n",
       "      <td>4</td>\n",
       "      <td>1</td>\n",
       "    </tr>\n",
       "    <tr>\n",
       "      <th>1</th>\n",
       "      <td>0.559</td>\n",
       "      <td>0.422</td>\n",
       "      <td>11</td>\n",
       "      <td>-11.890</td>\n",
       "      <td>1</td>\n",
       "      <td>0.1950</td>\n",
       "      <td>0.000002</td>\n",
       "      <td>0.0853</td>\n",
       "      <td>0.1910</td>\n",
       "      <td>74.002</td>\n",
       "      <td>286928</td>\n",
       "      <td>4</td>\n",
       "      <td>1</td>\n",
       "    </tr>\n",
       "    <tr>\n",
       "      <th>2</th>\n",
       "      <td>0.526</td>\n",
       "      <td>0.328</td>\n",
       "      <td>1</td>\n",
       "      <td>-9.864</td>\n",
       "      <td>1</td>\n",
       "      <td>0.0461</td>\n",
       "      <td>0.000000</td>\n",
       "      <td>0.1120</td>\n",
       "      <td>0.1100</td>\n",
       "      <td>116.068</td>\n",
       "      <td>526387</td>\n",
       "      <td>4</td>\n",
       "      <td>1</td>\n",
       "    </tr>\n",
       "    <tr>\n",
       "      <th>3</th>\n",
       "      <td>0.318</td>\n",
       "      <td>0.219</td>\n",
       "      <td>7</td>\n",
       "      <td>-17.426</td>\n",
       "      <td>0</td>\n",
       "      <td>0.0406</td>\n",
       "      <td>0.913000</td>\n",
       "      <td>0.7760</td>\n",
       "      <td>0.2930</td>\n",
       "      <td>134.380</td>\n",
       "      <td>500973</td>\n",
       "      <td>4</td>\n",
       "      <td>1</td>\n",
       "    </tr>\n",
       "    <tr>\n",
       "      <th>4</th>\n",
       "      <td>0.709</td>\n",
       "      <td>0.220</td>\n",
       "      <td>7</td>\n",
       "      <td>-11.856</td>\n",
       "      <td>1</td>\n",
       "      <td>0.0327</td>\n",
       "      <td>0.000000</td>\n",
       "      <td>0.1750</td>\n",
       "      <td>0.5300</td>\n",
       "      <td>110.076</td>\n",
       "      <td>219040</td>\n",
       "      <td>4</td>\n",
       "      <td>1</td>\n",
       "    </tr>\n",
       "  </tbody>\n",
       "</table>\n",
       "</div>"
      ],
      "text/plain": [
       "   danceability  energy  key  loudness  mode  speechiness  instrumentalness  \\\n",
       "0         0.161   0.293    7   -15.691     0       0.0415          0.569000   \n",
       "1         0.559   0.422   11   -11.890     1       0.1950          0.000002   \n",
       "2         0.526   0.328    1    -9.864     1       0.0461          0.000000   \n",
       "3         0.318   0.219    7   -17.426     0       0.0406          0.913000   \n",
       "4         0.709   0.220    7   -11.856     1       0.0327          0.000000   \n",
       "\n",
       "   liveness  valence    tempo  duration_ms  time_signature  song_like  \n",
       "0    0.6610   0.0572   78.331       561640               4          1  \n",
       "1    0.0853   0.1910   74.002       286928               4          1  \n",
       "2    0.1120   0.1100  116.068       526387               4          1  \n",
       "3    0.7760   0.2930  134.380       500973               4          1  \n",
       "4    0.1750   0.5300  110.076       219040               4          1  "
      ]
     },
     "execution_count": 77,
     "metadata": {},
     "output_type": "execute_result"
    }
   ],
   "source": [
    "df.head()"
   ]
  },
  {
   "cell_type": "markdown",
   "metadata": {
    "id": "dr7eWmpuib-s"
   },
   "source": [
    "# Exploratory Data Analysis"
   ]
  },
  {
   "cell_type": "code",
   "execution_count": 78,
   "metadata": {
    "colab": {
     "base_uri": "https://localhost:8080/",
     "height": 401
    },
    "id": "JaigPjWRaSOu",
    "outputId": "c191e608-9903-400f-ac58-4f823e82e4c3"
   },
   "outputs": [
    {
     "data": {
      "image/png": "[encoded data removed]",
      "text/plain": [
       "<Figure size 504x360 with 2 Axes>"
      ]
     },
     "metadata": {},
     "output_type": "display_data"
    }
   ],
   "source": [
    "# Сorrelation matrix\n",
    "plt.figure(figsize=[7,5])\n",
    "sns.heatmap(like_songs.corr())\n",
    "plt.show()"
   ]
  },
  {
   "cell_type": "markdown",
   "metadata": {},
   "source": [
    "Based on correlation plot, `loudness` and `energy` are very correlated. This makes sense because we can infer that high energy songs are usually loud in character."
   ]
  },
  {
   "cell_type": "code",
   "execution_count": 79,
   "metadata": {
    "colab": {
     "base_uri": "https://localhost:8080/",
     "height": 721
    },
    "id": "kux1QktGcQDt",
    "outputId": "2bbca4ab-6af4-493d-bbb9-c35b86b69d09"
   },
   "outputs": [
    {
     "data": {
      "text/plain": [
       "Text(0.5, 1.0, 'Artist Name vs Count of songs')"
      ]
     },
     "execution_count": 79,
     "metadata": {},
     "output_type": "execute_result"
    },
    {
     "data": {
      "image/png": "[encoded data removed]",
      "text/plain": [
       "<Figure size 1080x504 with 1 Axes>"
      ]
     },
     "metadata": {},
     "output_type": "display_data"
    }
   ],
   "source": [
    "# Bar chart showing artists with a higher song count in our liked songs playlist\n",
    "fig = plt.figure(figsize = (15,7))\n",
    "like_songs.groupby('artist')['track_name'].agg(len).sort_values(ascending = False).plot(kind = 'bar')\n",
    "plt.xlabel('Artist', fontsize = 20)\n",
    "plt.ylabel('Count of songs', fontsize = 20)\n",
    "plt.title('Artist Name vs Count of songs', fontsize = 30)"
   ]
  },
  {
   "cell_type": "code",
   "execution_count": 80,
   "metadata": {
    "id": "F5THNe7U1Ggw"
   },
   "outputs": [],
   "source": [
    "# Object data to category\n",
    "for col in like_songs.select_dtypes(include=['object']).columns:\n",
    "    like_songs[col] = like_songs[col].astype('category')\n",
    "    \n",
    "# Encoding categorical features\n",
    "for col in like_songs.select_dtypes(include=['category']).columns:\n",
    "    like_songs[col] = like_songs[col].cat.codes"
   ]
  },
  {
   "cell_type": "code",
   "execution_count": 81,
   "metadata": {
    "colab": {
     "base_uri": "https://localhost:8080/",
     "height": 296
    },
    "id": "x14IPbDa1ZvY",
    "outputId": "0f4b07b7-204f-42e0-ca84-ed17d34c054d"
   },
   "outputs": [
    {
     "data": {
      "text/plain": [
       "<matplotlib.axes._subplots.AxesSubplot at 0x7fe6d80f81f0>"
      ]
     },
     "execution_count": 81,
     "metadata": {},
     "output_type": "execute_result"
    },
    {
     "data": {
      "image/png": "[encoded data removed]",
      "text/plain": [
       "<Figure size 432x288 with 1 Axes>"
      ]
     },
     "metadata": {},
     "output_type": "display_data"
    }
   ],
   "source": [
    "# Scatter plot showing relationship between loudness and energy of our liked songs\n",
    "sns.scatterplot(data=like_songs, x='loudness', y='energy', hue='track_name')"
   ]
  },
  {
   "cell_type": "code",
   "execution_count": 82,
   "metadata": {
    "colab": {
     "base_uri": "https://localhost:8080/",
     "height": 560
    },
    "id": "__sfUH98K2Cu",
    "outputId": "87b10dda-0203-4249-806f-cc799cd7e337"
   },
   "outputs": [
    {
     "data": {
      "text/plain": [
       "<matplotlib.legend.Legend at 0x7fe6d8681430>"
      ]
     },
     "execution_count": 82,
     "metadata": {},
     "output_type": "execute_result"
    },
    {
     "data": {
      "image/png": "[encoded data removed]",
      "text/plain": [
       "<Figure size 1152x1152 with 4 Axes>"
      ]
     },
     "metadata": {},
     "output_type": "display_data"
    }
   ],
   "source": [
    "# Visualization of danceability, energy, key and loudness song data\n",
    "plt.figure(figsize=(16,16))\n",
    "plt.subplot(4,4,1)\n",
    "sns.distplot(songs[songs['song_like']==1]['danceability'], color='red', bins=40)\n",
    "sns.distplot(songs[songs['song_like']==0]['danceability'], color='blue', bins=40)\n",
    "plt.subplot(4,4,2)\n",
    "sns.distplot(songs[songs['song_like']==1]['energy'], color='red', bins=40)\n",
    "sns.distplot(songs[songs['song_like']==0]['energy'], color='blue', bins=40)\n",
    "plt.subplot(4,4,3)\n",
    "sns.distplot(songs[songs['song_like']==1]['key'], color='red', bins=40)\n",
    "sns.distplot(songs[songs['song_like']==0]['key'], color='blue', bins=40)\n",
    "plt.subplot(4,4,4)\n",
    "sns.distplot(songs[songs['song_like']==1]['loudness'], color='red', bins=40)\n",
    "sns.distplot(songs[songs['song_like']==0]['loudness'], color='blue', bins=40)\n",
    "plt.legend((1,0))"
   ]
  },
  {
   "cell_type": "markdown",
   "metadata": {},
   "source": [
    "**Observations**:\n",
    "- For liked songs, `danceability` and `energy` has a lower mean than that of unliked songs. This implies that these liked songs have a lower `danceability` and `energy` score, which could mean soothing, calming songs. \n",
    "- As for `loudness`, both liked and unliked songs have roughly similar distributions (left-skew)."
   ]
  },
  {
   "cell_type": "code",
   "execution_count": 83,
   "metadata": {
    "colab": {
     "base_uri": "https://localhost:8080/",
     "height": 572
    },
    "id": "1BI6uszvK2Ee",
    "outputId": "9be4d9fb-63d5-4a0b-e6ec-06e1095eb130"
   },
   "outputs": [
    {
     "name": "stderr",
     "output_type": "stream",
     "text": [
      "/Users/longwind48/opt/anaconda3/lib/python3.8/site-packages/seaborn/distributions.py:369: UserWarning: Default bandwidth for data is 0; skipping density estimation.\n",
      "  warnings.warn(msg, UserWarning)\n",
      "/Users/longwind48/opt/anaconda3/lib/python3.8/site-packages/seaborn/distributions.py:369: UserWarning: Default bandwidth for data is 0; skipping density estimation.\n",
      "  warnings.warn(msg, UserWarning)\n"
     ]
    },
    {
     "data": {
      "text/plain": [
       "<matplotlib.legend.Legend at 0x7fe6d8e0ff40>"
      ]
     },
     "execution_count": 83,
     "metadata": {},
     "output_type": "execute_result"
    },
    {
     "data": {
      "image/png": "[encoded data removed]",
      "text/plain": [
       "<Figure size 1152x1152 with 4 Axes>"
      ]
     },
     "metadata": {},
     "output_type": "display_data"
    }
   ],
   "source": [
    " # Visualization of valence, tempo, duration_ms and time signature data\n",
    "plt.figure(figsize=(16,16))\n",
    "plt.subplot(4,4,1)\n",
    "sns.distplot(songs[songs['song_like']==1]['valence'], color='red', bins=40)\n",
    "sns.distplot(songs[songs['song_like']==0]['valence'], color='blue', bins=40)\n",
    "plt.subplot(4,4,2)\n",
    "sns.distplot(songs[songs['song_like']==1]['tempo'], color='red', bins=40)\n",
    "sns.distplot(songs[songs['song_like']==0]['tempo'], color='blue', bins=40)\n",
    "plt.subplot(4,4,3)\n",
    "sns.distplot(songs[songs['song_like']==1]['duration_ms'], color='red', bins=40)\n",
    "sns.distplot(songs[songs['song_like']==0]['duration_ms'], color='blue', bins=40)\n",
    "plt.subplot(4,4,4)\n",
    "sns.distplot(songs[songs['song_like']==1]['time_signature'], color='red', bins=40)\n",
    "sns.distplot(songs[songs['song_like']==0]['time_signature'], color='blue', bins=40)\n",
    "plt.legend((1,0))"
   ]
  },
  {
   "cell_type": "code",
   "execution_count": 84,
   "metadata": {
    "colab": {
     "base_uri": "https://localhost:8080/",
     "height": 523
    },
    "id": "WRcOJoEsK110",
    "outputId": "e830803e-08c6-4101-d856-f0b30ec3cd51"
   },
   "outputs": [
    {
     "data": {
      "text/plain": [
       "Text(0.5, 0, 'artist')"
      ]
     },
     "execution_count": 84,
     "metadata": {},
     "output_type": "execute_result"
    },
    {
     "data": {
      "image/png": "[encoded data removed]",
      "text/plain": [
       "<Figure size 1152x576 with 1 Axes>"
      ]
     },
     "metadata": {},
     "output_type": "display_data"
    }
   ],
   "source": [
    "# Loudness of songs based on artists\n",
    "plt.figure(figsize=(16, 8))\n",
    "sns.set(style=\"whitegrid\")\n",
    "columns = [\"loudness\"]\n",
    "for col in columns:\n",
    "    x = like_songs.groupby(\"artist\")[col].mean()\n",
    "    ax= sns.lineplot(x=x.index,y=x,label=col)\n",
    "ax.set_title('loudness of songs based on artists')\n",
    "ax.set_ylabel('Count')\n",
    "ax.set_xlabel('artist')"
   ]
  },
  {
   "cell_type": "markdown",
   "metadata": {
    "id": "ZZZI8Q41mnEH"
   },
   "source": [
    "# Modelling"
   ]
  },
  {
   "cell_type": "code",
   "execution_count": 85,
   "metadata": {},
   "outputs": [],
   "source": []
  },
  {
   "cell_type": "code",
   "execution_count": 86,
   "metadata": {},
   "outputs": [],
   "source": [
    "X = df.drop('song_like', axis=1)\n",
    "y = df['song_like']"
   ]
  },
  {
   "cell_type": "code",
   "execution_count": 87,
   "metadata": {},
   "outputs": [],
   "source": [
    "X_train, X_test, y_train, y_test = train_test_split(X, y, test_size=0.33, random_state=42)"
   ]
  },
  {
   "cell_type": "code",
   "execution_count": 88,
   "metadata": {},
   "outputs": [
    {
     "data": {
      "text/plain": [
       "(134, 12)"
      ]
     },
     "execution_count": 88,
     "metadata": {},
     "output_type": "execute_result"
    }
   ],
   "source": [
    "X_train.shape"
   ]
  },
  {
   "cell_type": "code",
   "execution_count": 91,
   "metadata": {},
   "outputs": [
    {
     "data": {
      "text/plain": [
       "(134,)"
      ]
     },
     "execution_count": 91,
     "metadata": {},
     "output_type": "execute_result"
    }
   ],
   "source": [
    "y_train.shape"
   ]
  },
  {
   "cell_type": "code",
   "execution_count": 89,
   "metadata": {},
   "outputs": [
    {
     "data": {
      "text/plain": [
       "(66, 12)"
      ]
     },
     "execution_count": 89,
     "metadata": {},
     "output_type": "execute_result"
    }
   ],
   "source": [
    "X_test.shape"
   ]
  },
  {
   "cell_type": "code",
   "execution_count": 92,
   "metadata": {},
   "outputs": [
    {
     "data": {
      "text/plain": [
       "(66,)"
      ]
     },
     "execution_count": 92,
     "metadata": {},
     "output_type": "execute_result"
    }
   ],
   "source": [
    "y_test.shape"
   ]
  },
  {
   "cell_type": "markdown",
   "metadata": {
    "id": "0py0uzNHmwCK"
   },
   "source": [
    "## Logistic Regression"
   ]
  },
  {
   "cell_type": "code",
   "execution_count": 93,
   "metadata": {
    "colab": {
     "base_uri": "https://localhost:8080/"
    },
    "id": "n-Xj1LXXFuNg",
    "outputId": "6eddea63-507b-49d6-b1c8-4dcc0be116e6"
   },
   "outputs": [
    {
     "data": {
      "text/plain": [
       "LogisticRegression()"
      ]
     },
     "execution_count": 93,
     "metadata": {},
     "output_type": "execute_result"
    }
   ],
   "source": [
    "# create model and fitted over the data\n",
    "lr_model = LogisticRegression()\n",
    "lr_model.fit(X_train, y_train)"
   ]
  },
  {
   "cell_type": "code",
   "execution_count": 94,
   "metadata": {
    "colab": {
     "base_uri": "https://localhost:8080/"
    },
    "id": "a_HqLPR-FuQZ",
    "outputId": "12284600-a897-41cb-9340-f9c70d04a253"
   },
   "outputs": [
    {
     "name": "stdout",
     "output_type": "stream",
     "text": [
      "[[19 12]\n",
      " [14 21]]\n",
      "\n",
      "\n",
      "              precision    recall  f1-score   support\n",
      "\n",
      "           0       0.58      0.61      0.59        31\n",
      "           1       0.64      0.60      0.62        35\n",
      "\n",
      "    accuracy                           0.61        66\n",
      "   macro avg       0.61      0.61      0.61        66\n",
      "weighted avg       0.61      0.61      0.61        66\n",
      "\n"
     ]
    }
   ],
   "source": [
    "lr_pred = lr_model.predict(X_test)\n",
    "print(confusion_matrix(y_test, lr_pred))\n",
    "print('\\n') # space\n",
    "print(classification_report(y_test, lr_pred))"
   ]
  },
  {
   "cell_type": "markdown",
   "metadata": {
    "id": "vQW9RaqVeYML"
   },
   "source": [
    "**Observations:**\n",
    "-  Accuracy of this model is 61%.\n",
    "- F1-score of like and unlike predictions are quite similar, (0.59 vs 0.62). This is expected because we have a balanced class distribution."
   ]
  },
  {
   "cell_type": "markdown",
   "metadata": {
    "id": "Owy4J8EfZFRr"
   },
   "source": [
    "Checking the model by analyze its performance with confusion matrix and classification report\n",
    "1. precision --> correctly predicted positive observations to the total predicted positive observations\n",
    "2. recall --> ratio of correctly predicted positive observations to all observations\n",
    "3. f1 score --> weighted average of precision and recall (accuracy of the model)"
   ]
  },
  {
   "cell_type": "markdown",
   "metadata": {
    "id": "HOi8PlazqlmF"
   },
   "source": [
    "## K-Nearest Neighbours (KNN)"
   ]
  },
  {
   "cell_type": "code",
   "execution_count": 96,
   "metadata": {
    "colab": {
     "base_uri": "https://localhost:8080/"
    },
    "id": "T34CcUigGK2b",
    "outputId": "1c172b86-cbfe-4231-cbca-3758e8ce7a53"
   },
   "outputs": [
    {
     "data": {
      "text/plain": [
       "KNeighborsClassifier()"
      ]
     },
     "execution_count": 96,
     "metadata": {},
     "output_type": "execute_result"
    }
   ],
   "source": [
    "# train vanilla knn\n",
    "knn_model = KNeighborsClassifier() \n",
    "knn_model.fit(X_train, y_train) "
   ]
  },
  {
   "cell_type": "code",
   "execution_count": 97,
   "metadata": {
    "colab": {
     "base_uri": "https://localhost:8080/"
    },
    "id": "iuSh56KQGLIq",
    "outputId": "427a5702-c667-49ba-b6c9-b8f6fc94024c"
   },
   "outputs": [
    {
     "name": "stdout",
     "output_type": "stream",
     "text": [
      "[[19 12]\n",
      " [13 22]]\n",
      "\n",
      "\n",
      "              precision    recall  f1-score   support\n",
      "\n",
      "           0       0.59      0.61      0.60        31\n",
      "           1       0.65      0.63      0.64        35\n",
      "\n",
      "    accuracy                           0.62        66\n",
      "   macro avg       0.62      0.62      0.62        66\n",
      "weighted avg       0.62      0.62      0.62        66\n",
      "\n"
     ]
    }
   ],
   "source": [
    "# checking the model performances\n",
    "knn_pred = knn_model.predict(X_test)\n",
    "print(confusion_matrix(y_test, knn_pred))\n",
    "print('\\n')\n",
    "print(classification_report(y_test, knn_pred))"
   ]
  },
  {
   "cell_type": "markdown",
   "metadata": {
    "id": "9oVgiINHeSWD"
   },
   "source": [
    "..dsfa\n",
    "sdfa"
   ]
  },
  {
   "cell_type": "markdown",
   "metadata": {
    "id": "ljy92L1ZZkwy"
   },
   "source": [
    "## XG Boost"
   ]
  },
  {
   "cell_type": "code",
   "execution_count": 102,
   "metadata": {
    "colab": {
     "base_uri": "https://localhost:8080/"
    },
    "id": "JxFA0RrNZrSH",
    "outputId": "d06968b7-de28-48bd-904a-2b6fef5e913b"
   },
   "outputs": [
    {
     "data": {
      "text/plain": [
       "XGBClassifier(base_score=0.5, booster='gbtree', colsample_bylevel=1,\n",
       "              colsample_bynode=1, colsample_bytree=1, gamma=0, gpu_id=-1,\n",
       "              importance_type='gain', interaction_constraints='',\n",
       "              learning_rate=0.2, max_delta_step=0, max_depth=10,\n",
       "              min_child_weight=10, missing=nan, monotone_constraints='()',\n",
       "              n_estimators=250, n_jobs=0, num_parallel_tree=1, random_state=0,\n",
       "              reg_alpha=0, reg_lambda=1, scale_pos_weight=1, subsample=1,\n",
       "              tree_method='exact', validate_parameters=1, verbosity=None)"
      ]
     },
     "execution_count": 102,
     "metadata": {},
     "output_type": "execute_result"
    }
   ],
   "source": [
    "# create model and fitted\n",
    "xgb_model = xgb.XGBClassifier(learning_rate=0.2, \n",
    "                              max_depth=10, \n",
    "                              min_child_weight=10, \n",
    "                              n_estimators=250)\n",
    "xgb_model.fit(X_train, y_train)"
   ]
  },
  {
   "cell_type": "code",
   "execution_count": 103,
   "metadata": {
    "colab": {
     "base_uri": "https://localhost:8080/"
    },
    "id": "iJ9ABdJRZwMC",
    "outputId": "401ea5c9-8094-4faf-8319-e4ed2dd5156b"
   },
   "outputs": [
    {
     "name": "stdout",
     "output_type": "stream",
     "text": [
      "[[24  7]\n",
      " [12 23]]\n",
      "\n",
      "              precision    recall  f1-score   support\n",
      "\n",
      "           0       0.67      0.77      0.72        31\n",
      "           1       0.77      0.66      0.71        35\n",
      "\n",
      "    accuracy                           0.71        66\n",
      "   macro avg       0.72      0.72      0.71        66\n",
      "weighted avg       0.72      0.71      0.71        66\n",
      "\n"
     ]
    }
   ],
   "source": [
    "# checking the model performances\n",
    "xgb_pred = xgb_model.predict(X_test)\n",
    "print(confusion_matrix(y_test,xgb_pred))\n",
    "print('')\n",
    "print(classification_report(y_test, xgb_pred))"
   ]
  },
  {
   "cell_type": "markdown",
   "metadata": {
    "id": "Nw7HnZQiepR-"
   },
   "source": [
    "dfalkjndlakfd"
   ]
  },
  {
   "cell_type": "markdown",
   "metadata": {
    "id": "g83hQJgQaIK3"
   },
   "source": [
    "As expected, tree-boosting algorithms like Xgboost yields the best performance, compared to logistic regression and KNN. \n",
    "\n",
    "Insert reasons."
   ]
  },
  {
   "cell_type": "code",
   "execution_count": 107,
   "metadata": {},
   "outputs": [
    {
     "data": {
      "text/plain": [
       "200"
      ]
     },
     "execution_count": 107,
     "metadata": {},
     "output_type": "execute_result"
    }
   ],
   "source": [
    "len(songs)"
   ]
  },
  {
   "cell_type": "code",
   "execution_count": 133,
   "metadata": {
    "id": "UYJHzfV6GK6c",
    "scrolled": true
   },
   "outputs": [
    {
     "name": "stderr",
     "output_type": "stream",
     "text": [
      "<ipython-input-133-fa1feedf77ca>:1: SettingWithCopyWarning: \n",
      "A value is trying to be set on a copy of a slice from a DataFrame.\n",
      "Try using .loc[row_indexer,col_indexer] = value instead\n",
      "\n",
      "See the caveats in the documentation: https://pandas.pydata.org/pandas-docs/stable/user_guide/indexing.html#returning-a-view-versus-a-copy\n",
      "  X_test['y_pred'] = xgb_pred\n",
      "<ipython-input-133-fa1feedf77ca>:2: SettingWithCopyWarning: \n",
      "A value is trying to be set on a copy of a slice from a DataFrame.\n",
      "Try using .loc[row_indexer,col_indexer] = value instead\n",
      "\n",
      "See the caveats in the documentation: https://pandas.pydata.org/pandas-docs/stable/user_guide/indexing.html#returning-a-view-versus-a-copy\n",
      "  X_test['y_true'] = y_test\n"
     ]
    }
   ],
   "source": [
    "X_test['y_pred'] = xgb_pred\n",
    "X_test['y_true'] = y_test"
   ]
  },
  {
   "cell_type": "code",
   "execution_count": 119,
   "metadata": {},
   "outputs": [
    {
     "data": {
      "text/html": [
       "<div>\n",
       "<style scoped>\n",
       "    .dataframe tbody tr th:only-of-type {\n",
       "        vertical-align: middle;\n",
       "    }\n",
       "\n",
       "    .dataframe tbody tr th {\n",
       "        vertical-align: top;\n",
       "    }\n",
       "\n",
       "    .dataframe thead th {\n",
       "        text-align: right;\n",
       "    }\n",
       "</style>\n",
       "<table border=\"1\" class=\"dataframe\">\n",
       "  <thead>\n",
       "    <tr style=\"text-align: right;\">\n",
       "      <th></th>\n",
       "      <th>danceability</th>\n",
       "      <th>energy</th>\n",
       "      <th>key</th>\n",
       "      <th>loudness</th>\n",
       "      <th>mode</th>\n",
       "      <th>speechiness</th>\n",
       "      <th>instrumentalness</th>\n",
       "      <th>liveness</th>\n",
       "      <th>valence</th>\n",
       "      <th>tempo</th>\n",
       "      <th>duration_ms</th>\n",
       "      <th>time_signature</th>\n",
       "      <th>y_pred</th>\n",
       "      <th>y_true</th>\n",
       "    </tr>\n",
       "  </thead>\n",
       "  <tbody>\n",
       "    <tr>\n",
       "      <th>95</th>\n",
       "      <td>0.247</td>\n",
       "      <td>0.475</td>\n",
       "      <td>0</td>\n",
       "      <td>-6.658</td>\n",
       "      <td>1</td>\n",
       "      <td>0.0286</td>\n",
       "      <td>0.0</td>\n",
       "      <td>0.130</td>\n",
       "      <td>0.201</td>\n",
       "      <td>96.429</td>\n",
       "      <td>278895</td>\n",
       "      <td>3</td>\n",
       "      <td>1</td>\n",
       "      <td>1</td>\n",
       "    </tr>\n",
       "    <tr>\n",
       "      <th>15</th>\n",
       "      <td>0.795</td>\n",
       "      <td>0.178</td>\n",
       "      <td>0</td>\n",
       "      <td>-11.991</td>\n",
       "      <td>1</td>\n",
       "      <td>0.0574</td>\n",
       "      <td>0.0</td>\n",
       "      <td>0.623</td>\n",
       "      <td>0.608</td>\n",
       "      <td>93.982</td>\n",
       "      <td>181613</td>\n",
       "      <td>4</td>\n",
       "      <td>1</td>\n",
       "      <td>1</td>\n",
       "    </tr>\n",
       "  </tbody>\n",
       "</table>\n",
       "</div>"
      ],
      "text/plain": [
       "    danceability  energy  key  loudness  mode  speechiness  instrumentalness  \\\n",
       "95         0.247   0.475    0    -6.658     1       0.0286               0.0   \n",
       "15         0.795   0.178    0   -11.991     1       0.0574               0.0   \n",
       "\n",
       "    liveness  valence   tempo  duration_ms  time_signature  y_pred  y_true  \n",
       "95     0.130    0.201  96.429       278895               3       1       1  \n",
       "15     0.623    0.608  93.982       181613               4       1       1  "
      ]
     },
     "execution_count": 119,
     "metadata": {},
     "output_type": "execute_result"
    }
   ],
   "source": [
    "X_test.head(2)"
   ]
  },
  {
   "cell_type": "code",
   "execution_count": 123,
   "metadata": {},
   "outputs": [
    {
     "name": "stderr",
     "output_type": "stream",
     "text": [
      "<ipython-input-123-f6f1e09c1771>:1: SettingWithCopyWarning: \n",
      "A value is trying to be set on a copy of a slice from a DataFrame.\n",
      "Try using .loc[row_indexer,col_indexer] = value instead\n",
      "\n",
      "See the caveats in the documentation: https://pandas.pydata.org/pandas-docs/stable/user_guide/indexing.html#returning-a-view-versus-a-copy\n",
      "  X_test['is_correct'] = X_test.apply(lambda row: True if row['y_pred']==row['y_true'] else False, axis=1)\n"
     ]
    }
   ],
   "source": [
    "X_test['is_correct'] = X_test.apply(lambda row: True if row['y_pred']==row['y_true'] else False, axis=1)"
   ]
  },
  {
   "cell_type": "code",
   "execution_count": 124,
   "metadata": {},
   "outputs": [
    {
     "data": {
      "text/plain": [
       "True     47\n",
       "False    19\n",
       "Name: is_correct, dtype: int64"
      ]
     },
     "execution_count": 124,
     "metadata": {},
     "output_type": "execute_result"
    }
   ],
   "source": [
    "X_test['is_correct'].value_counts()"
   ]
  },
  {
   "cell_type": "code",
   "execution_count": 126,
   "metadata": {},
   "outputs": [
    {
     "data": {
      "text/plain": [
       "Int64Index([95, 15, 30, 58, 28, 15, 69, 70, 74, 66, 82, 65, 86, 77, 56, 52, 82,\n",
       "            68, 24, 93, 65, 84, 67, 25, 32, 55, 50, 35, 64, 76, 38, 24, 95, 29,\n",
       "            19, 43, 14, 73, 26, 73, 40, 98, 72, 69, 97, 31, 12],\n",
       "           dtype='int64')"
      ]
     },
     "execution_count": 126,
     "metadata": {},
     "output_type": "execute_result"
    }
   ],
   "source": [
    "X_test[X_test['is_correct']].index"
   ]
  },
  {
   "cell_type": "code",
   "execution_count": 129,
   "metadata": {},
   "outputs": [
    {
     "data": {
      "text/html": [
       "<div>\n",
       "<style scoped>\n",
       "    .dataframe tbody tr th:only-of-type {\n",
       "        vertical-align: middle;\n",
       "    }\n",
       "\n",
       "    .dataframe tbody tr th {\n",
       "        vertical-align: top;\n",
       "    }\n",
       "\n",
       "    .dataframe thead th {\n",
       "        text-align: right;\n",
       "    }\n",
       "</style>\n",
       "<table border=\"1\" class=\"dataframe\">\n",
       "  <thead>\n",
       "    <tr style=\"text-align: right;\">\n",
       "      <th></th>\n",
       "      <th>artist</th>\n",
       "      <th>album</th>\n",
       "      <th>track_name</th>\n",
       "      <th>track_id</th>\n",
       "      <th>danceability</th>\n",
       "      <th>energy</th>\n",
       "      <th>key</th>\n",
       "      <th>loudness</th>\n",
       "      <th>mode</th>\n",
       "      <th>speechiness</th>\n",
       "      <th>instrumentalness</th>\n",
       "      <th>liveness</th>\n",
       "      <th>valence</th>\n",
       "      <th>tempo</th>\n",
       "      <th>duration_ms</th>\n",
       "      <th>time_signature</th>\n",
       "      <th>song_like</th>\n",
       "    </tr>\n",
       "  </thead>\n",
       "  <tbody>\n",
       "    <tr>\n",
       "      <th>95</th>\n",
       "      <td>JJ Lin</td>\n",
       "      <td>JJ林俊傑100天</td>\n",
       "      <td>第幾個100天</td>\n",
       "      <td>2tXTEROacuvyybcZoX9RmT</td>\n",
       "      <td>0.247</td>\n",
       "      <td>0.475</td>\n",
       "      <td>0</td>\n",
       "      <td>-6.658</td>\n",
       "      <td>1</td>\n",
       "      <td>0.0286</td>\n",
       "      <td>0.000000</td>\n",
       "      <td>0.130</td>\n",
       "      <td>0.201</td>\n",
       "      <td>96.429</td>\n",
       "      <td>278895</td>\n",
       "      <td>3</td>\n",
       "      <td>1</td>\n",
       "    </tr>\n",
       "    <tr>\n",
       "      <th>95</th>\n",
       "      <td>Brent Faiyaz</td>\n",
       "      <td>Fuck The World</td>\n",
       "      <td>Let Me Know</td>\n",
       "      <td>0dJhXJKZTpiaxTUc7uItIN</td>\n",
       "      <td>0.743</td>\n",
       "      <td>0.548</td>\n",
       "      <td>6</td>\n",
       "      <td>-6.545</td>\n",
       "      <td>0</td>\n",
       "      <td>0.0947</td>\n",
       "      <td>0.000180</td>\n",
       "      <td>0.088</td>\n",
       "      <td>0.558</td>\n",
       "      <td>85.017</td>\n",
       "      <td>215058</td>\n",
       "      <td>4</td>\n",
       "      <td>0</td>\n",
       "    </tr>\n",
       "    <tr>\n",
       "      <th>15</th>\n",
       "      <td>Jeremy Zucker</td>\n",
       "      <td>summer,</td>\n",
       "      <td>comethru</td>\n",
       "      <td>18uwL0vNUanqZH0ro2QcOP</td>\n",
       "      <td>0.795</td>\n",
       "      <td>0.178</td>\n",
       "      <td>0</td>\n",
       "      <td>-11.991</td>\n",
       "      <td>1</td>\n",
       "      <td>0.0574</td>\n",
       "      <td>0.000000</td>\n",
       "      <td>0.623</td>\n",
       "      <td>0.608</td>\n",
       "      <td>93.982</td>\n",
       "      <td>181613</td>\n",
       "      <td>4</td>\n",
       "      <td>1</td>\n",
       "    </tr>\n",
       "    <tr>\n",
       "      <th>15</th>\n",
       "      <td>Katy Perry</td>\n",
       "      <td>PRISM</td>\n",
       "      <td>Roar</td>\n",
       "      <td>27tNWlhdAryQY04Gb2ZhUI</td>\n",
       "      <td>0.671</td>\n",
       "      <td>0.771</td>\n",
       "      <td>7</td>\n",
       "      <td>-4.821</td>\n",
       "      <td>0</td>\n",
       "      <td>0.0316</td>\n",
       "      <td>0.000007</td>\n",
       "      <td>0.354</td>\n",
       "      <td>0.436</td>\n",
       "      <td>90.003</td>\n",
       "      <td>223546</td>\n",
       "      <td>4</td>\n",
       "      <td>0</td>\n",
       "    </tr>\n",
       "    <tr>\n",
       "      <th>30</th>\n",
       "      <td>Official HIGE DANdism</td>\n",
       "      <td>Pretender</td>\n",
       "      <td>Pretender</td>\n",
       "      <td>1OBAWkIciXl8rmbKtrp9ZG</td>\n",
       "      <td>0.526</td>\n",
       "      <td>0.860</td>\n",
       "      <td>8</td>\n",
       "      <td>-3.370</td>\n",
       "      <td>1</td>\n",
       "      <td>0.0270</td>\n",
       "      <td>0.000000</td>\n",
       "      <td>0.129</td>\n",
       "      <td>0.403</td>\n",
       "      <td>91.955</td>\n",
       "      <td>326440</td>\n",
       "      <td>4</td>\n",
       "      <td>1</td>\n",
       "    </tr>\n",
       "  </tbody>\n",
       "</table>\n",
       "</div>"
      ],
      "text/plain": [
       "                   artist           album   track_name  \\\n",
       "95                 JJ Lin       JJ林俊傑100天      第幾個100天   \n",
       "95           Brent Faiyaz  Fuck The World  Let Me Know   \n",
       "15          Jeremy Zucker         summer,     comethru   \n",
       "15             Katy Perry           PRISM         Roar   \n",
       "30  Official HIGE DANdism       Pretender    Pretender   \n",
       "\n",
       "                  track_id  danceability  energy  key  loudness  mode  \\\n",
       "95  2tXTEROacuvyybcZoX9RmT         0.247   0.475    0    -6.658     1   \n",
       "95  0dJhXJKZTpiaxTUc7uItIN         0.743   0.548    6    -6.545     0   \n",
       "15  18uwL0vNUanqZH0ro2QcOP         0.795   0.178    0   -11.991     1   \n",
       "15  27tNWlhdAryQY04Gb2ZhUI         0.671   0.771    7    -4.821     0   \n",
       "30  1OBAWkIciXl8rmbKtrp9ZG         0.526   0.860    8    -3.370     1   \n",
       "\n",
       "    speechiness  instrumentalness  liveness  valence   tempo  duration_ms  \\\n",
       "95       0.0286          0.000000     0.130    0.201  96.429       278895   \n",
       "95       0.0947          0.000180     0.088    0.558  85.017       215058   \n",
       "15       0.0574          0.000000     0.623    0.608  93.982       181613   \n",
       "15       0.0316          0.000007     0.354    0.436  90.003       223546   \n",
       "30       0.0270          0.000000     0.129    0.403  91.955       326440   \n",
       "\n",
       "    time_signature  song_like  \n",
       "95               3          1  \n",
       "95               4          0  \n",
       "15               4          1  \n",
       "15               4          0  \n",
       "30               4          1  "
      ]
     },
     "execution_count": 129,
     "metadata": {},
     "output_type": "execute_result"
    }
   ],
   "source": [
    "# songs that we predicted correctly\n",
    "songs.loc[X_test[X_test['is_correct']].index].head()"
   ]
  },
  {
   "cell_type": "code",
   "execution_count": 130,
   "metadata": {},
   "outputs": [
    {
     "data": {
      "text/html": [
       "<div>\n",
       "<style scoped>\n",
       "    .dataframe tbody tr th:only-of-type {\n",
       "        vertical-align: middle;\n",
       "    }\n",
       "\n",
       "    .dataframe tbody tr th {\n",
       "        vertical-align: top;\n",
       "    }\n",
       "\n",
       "    .dataframe thead th {\n",
       "        text-align: right;\n",
       "    }\n",
       "</style>\n",
       "<table border=\"1\" class=\"dataframe\">\n",
       "  <thead>\n",
       "    <tr style=\"text-align: right;\">\n",
       "      <th></th>\n",
       "      <th>artist</th>\n",
       "      <th>album</th>\n",
       "      <th>track_name</th>\n",
       "      <th>track_id</th>\n",
       "      <th>danceability</th>\n",
       "      <th>energy</th>\n",
       "      <th>key</th>\n",
       "      <th>loudness</th>\n",
       "      <th>mode</th>\n",
       "      <th>speechiness</th>\n",
       "      <th>instrumentalness</th>\n",
       "      <th>liveness</th>\n",
       "      <th>valence</th>\n",
       "      <th>tempo</th>\n",
       "      <th>duration_ms</th>\n",
       "      <th>time_signature</th>\n",
       "      <th>song_like</th>\n",
       "    </tr>\n",
       "  </thead>\n",
       "  <tbody>\n",
       "    <tr>\n",
       "      <th>45</th>\n",
       "      <td>Maroon 5</td>\n",
       "      <td>V (Asia Tour Edition)</td>\n",
       "      <td>Sugar</td>\n",
       "      <td>5d6Mjuu2uCGRPYpFjGpCX5</td>\n",
       "      <td>0.748</td>\n",
       "      <td>0.788</td>\n",
       "      <td>1</td>\n",
       "      <td>-7.055</td>\n",
       "      <td>1</td>\n",
       "      <td>0.0334</td>\n",
       "      <td>0.000000</td>\n",
       "      <td>0.0863</td>\n",
       "      <td>0.884</td>\n",
       "      <td>120.076</td>\n",
       "      <td>235493</td>\n",
       "      <td>4</td>\n",
       "      <td>1</td>\n",
       "    </tr>\n",
       "    <tr>\n",
       "      <th>45</th>\n",
       "      <td>GD X TAEYANG</td>\n",
       "      <td>GOOD BOY</td>\n",
       "      <td>GOOD BOY</td>\n",
       "      <td>3F1mueW8iouZUgjmawhVhe</td>\n",
       "      <td>0.745</td>\n",
       "      <td>0.825</td>\n",
       "      <td>1</td>\n",
       "      <td>-3.162</td>\n",
       "      <td>0</td>\n",
       "      <td>0.0352</td>\n",
       "      <td>0.000218</td>\n",
       "      <td>0.0828</td>\n",
       "      <td>0.242</td>\n",
       "      <td>95.001</td>\n",
       "      <td>245192</td>\n",
       "      <td>4</td>\n",
       "      <td>0</td>\n",
       "    </tr>\n",
       "    <tr>\n",
       "      <th>78</th>\n",
       "      <td>Bren Joy</td>\n",
       "      <td>Twenties</td>\n",
       "      <td>Henny in the Hamptons</td>\n",
       "      <td>19NKbRV1zevCIzePp88Wzh</td>\n",
       "      <td>0.631</td>\n",
       "      <td>0.634</td>\n",
       "      <td>1</td>\n",
       "      <td>-6.786</td>\n",
       "      <td>0</td>\n",
       "      <td>0.1150</td>\n",
       "      <td>0.000000</td>\n",
       "      <td>0.1680</td>\n",
       "      <td>0.479</td>\n",
       "      <td>87.903</td>\n",
       "      <td>197375</td>\n",
       "      <td>4</td>\n",
       "      <td>1</td>\n",
       "    </tr>\n",
       "    <tr>\n",
       "      <th>78</th>\n",
       "      <td>Shamir</td>\n",
       "      <td>On My Own</td>\n",
       "      <td>On My Own</td>\n",
       "      <td>4AE5On9A262Wg8zm3st3De</td>\n",
       "      <td>0.624</td>\n",
       "      <td>0.863</td>\n",
       "      <td>1</td>\n",
       "      <td>-5.012</td>\n",
       "      <td>0</td>\n",
       "      <td>0.0395</td>\n",
       "      <td>0.001260</td>\n",
       "      <td>0.0917</td>\n",
       "      <td>0.636</td>\n",
       "      <td>100.013</td>\n",
       "      <td>251464</td>\n",
       "      <td>4</td>\n",
       "      <td>0</td>\n",
       "    </tr>\n",
       "    <tr>\n",
       "      <th>16</th>\n",
       "      <td>HONNE</td>\n",
       "      <td>Love Me / Love Me Not</td>\n",
       "      <td>Location Unknown ◐</td>\n",
       "      <td>6A1GBCMwbfhkB9e1thR8a8</td>\n",
       "      <td>0.682</td>\n",
       "      <td>0.650</td>\n",
       "      <td>5</td>\n",
       "      <td>-7.231</td>\n",
       "      <td>1</td>\n",
       "      <td>0.0457</td>\n",
       "      <td>0.000009</td>\n",
       "      <td>0.0947</td>\n",
       "      <td>0.378</td>\n",
       "      <td>109.986</td>\n",
       "      <td>290385</td>\n",
       "      <td>4</td>\n",
       "      <td>1</td>\n",
       "    </tr>\n",
       "  </tbody>\n",
       "</table>\n",
       "</div>"
      ],
      "text/plain": [
       "          artist                  album             track_name  \\\n",
       "45      Maroon 5  V (Asia Tour Edition)                  Sugar   \n",
       "45  GD X TAEYANG               GOOD BOY               GOOD BOY   \n",
       "78      Bren Joy               Twenties  Henny in the Hamptons   \n",
       "78        Shamir              On My Own              On My Own   \n",
       "16         HONNE  Love Me / Love Me Not     Location Unknown ◐   \n",
       "\n",
       "                  track_id  danceability  energy  key  loudness  mode  \\\n",
       "45  5d6Mjuu2uCGRPYpFjGpCX5         0.748   0.788    1    -7.055     1   \n",
       "45  3F1mueW8iouZUgjmawhVhe         0.745   0.825    1    -3.162     0   \n",
       "78  19NKbRV1zevCIzePp88Wzh         0.631   0.634    1    -6.786     0   \n",
       "78  4AE5On9A262Wg8zm3st3De         0.624   0.863    1    -5.012     0   \n",
       "16  6A1GBCMwbfhkB9e1thR8a8         0.682   0.650    5    -7.231     1   \n",
       "\n",
       "    speechiness  instrumentalness  liveness  valence    tempo  duration_ms  \\\n",
       "45       0.0334          0.000000    0.0863    0.884  120.076       235493   \n",
       "45       0.0352          0.000218    0.0828    0.242   95.001       245192   \n",
       "78       0.1150          0.000000    0.1680    0.479   87.903       197375   \n",
       "78       0.0395          0.001260    0.0917    0.636  100.013       251464   \n",
       "16       0.0457          0.000009    0.0947    0.378  109.986       290385   \n",
       "\n",
       "    time_signature  song_like  \n",
       "45               4          1  \n",
       "45               4          0  \n",
       "78               4          1  \n",
       "78               4          0  \n",
       "16               4          1  "
      ]
     },
     "execution_count": 130,
     "metadata": {},
     "output_type": "execute_result"
    }
   ],
   "source": [
    "# songs that we predicted incorrectly\n",
    "songs.loc[X_test[~X_test['is_correct']].index].head()"
   ]
  },
  {
   "cell_type": "markdown",
   "metadata": {},
   "source": [
    "# Conclusion"
   ]
  },
  {
   "cell_type": "code",
   "execution_count": null,
   "metadata": {},
   "outputs": [],
   "source": []
  }
 ],
 "metadata": {
  "colab": {
   "collapsed_sections": [],
   "name": "DAC TEAM 5 (new)",
   "provenance": []
  },
  "kernelspec": {
   "display_name": "Python 3",
   "language": "python",
   "name": "python3"
  },
  "language_info": {
   "codemirror_mode": {
    "name": "ipython",
    "version": 3
   },
   "file_extension": ".py",
   "mimetype": "text/x-python",
   "name": "python",
   "nbconvert_exporter": "python",
   "pygments_lexer": "ipython3",
   "version": "3.8.3"
  }
 },
 "nbformat": 4,
 "nbformat_minor": 1
}
