{
  "nbformat": 4,
  "nbformat_minor": 0,
  "metadata": {
    "colab": {
      "name": "codes",
      "provenance": [],
      "collapsed_sections": []
    },
    "kernelspec": {
      "name": "python3",
      "display_name": "Python 3"
    }
  },
  "cells": [
    {
      "cell_type": "markdown",
      "metadata": {
        "id": "AnHohwZidQmW"
      },
      "source": [
        "**Importing Packages**"
      ]
    },
    {
      "cell_type": "code",
      "metadata": {
        "id": "lKs5hEbU9YpA"
      },
      "source": [
        "import numpy as np\n",
        "import pandas as pd"
      ],
      "execution_count": null,
      "outputs": []
    },
    {
      "cell_type": "markdown",
      "metadata": {
        "id": "vZqjDUEGh4Xe"
      },
      "source": [
        "**Loading Dataset**"
      ]
    },
    {
      "cell_type": "code",
      "metadata": {
        "id": "XOVIf7VEN2NE"
      },
      "source": [
        "like_songs = pd.read_csv('group 5 spotify.csv')\n",
        "dislike_songs = pd.read_csv('group 5 spotify 2.csv')"
      ],
      "execution_count": null,
      "outputs": []
    },
    {
      "cell_type": "code",
      "metadata": {
        "colab": {
          "base_uri": "https://localhost:8080/",
          "height": 445
        },
        "id": "z8rfSMTg9y8p",
        "outputId": "911431c5-0534-48b6-e2c3-a4e1a8ccf8a8"
      },
      "source": [
        "# First 5 songs in Spotify playlist with our liked songs\n",
        "like_songs.head()"
      ],
      "execution_count": null,
      "outputs": [
        {
          "output_type": "execute_result",
          "data": {
            "text/html": [
              "<div>\n",
              "<style scoped>\n",
              "    .dataframe tbody tr th:only-of-type {\n",
              "        vertical-align: middle;\n",
              "    }\n",
              "\n",
              "    .dataframe tbody tr th {\n",
              "        vertical-align: top;\n",
              "    }\n",
              "\n",
              "    .dataframe thead th {\n",
              "        text-align: right;\n",
              "    }\n",
              "</style>\n",
              "<table border=\"1\" class=\"dataframe\">\n",
              "  <thead>\n",
              "    <tr style=\"text-align: right;\">\n",
              "      <th></th>\n",
              "      <th>artist</th>\n",
              "      <th>album</th>\n",
              "      <th>track_name</th>\n",
              "      <th>track_id</th>\n",
              "      <th>danceability</th>\n",
              "      <th>energy</th>\n",
              "      <th>key</th>\n",
              "      <th>loudness</th>\n",
              "      <th>mode</th>\n",
              "      <th>speechiness</th>\n",
              "      <th>instrumentalness</th>\n",
              "      <th>liveness</th>\n",
              "      <th>valence</th>\n",
              "      <th>tempo</th>\n",
              "      <th>duration_ms</th>\n",
              "      <th>time_signature</th>\n",
              "    </tr>\n",
              "  </thead>\n",
              "  <tbody>\n",
              "    <tr>\n",
              "      <th>0</th>\n",
              "      <td>Tom Lee Hong Kong Youth NeoWinds Orchestra</td>\n",
              "      <td>2011 WASBE Chiayi City, Taiwan: Tom Lee Hong K...</td>\n",
              "      <td>Hymn to the Sun, \"With the Beat of Mother Earth\"</td>\n",
              "      <td>4olLv2XSxKmEYFeA6JtuJ2</td>\n",
              "      <td>0.161</td>\n",
              "      <td>0.293</td>\n",
              "      <td>7</td>\n",
              "      <td>-15.691</td>\n",
              "      <td>0</td>\n",
              "      <td>0.0415</td>\n",
              "      <td>0.569000</td>\n",
              "      <td>0.6610</td>\n",
              "      <td>0.0572</td>\n",
              "      <td>78.331</td>\n",
              "      <td>561640</td>\n",
              "      <td>4</td>\n",
              "    </tr>\n",
              "    <tr>\n",
              "      <th>1</th>\n",
              "      <td>LANY</td>\n",
              "      <td>Malibu Nights</td>\n",
              "      <td>Malibu Nights</td>\n",
              "      <td>0Eqg0CQ7bK3RQIMPw1A7pl</td>\n",
              "      <td>0.559</td>\n",
              "      <td>0.422</td>\n",
              "      <td>11</td>\n",
              "      <td>-11.890</td>\n",
              "      <td>1</td>\n",
              "      <td>0.1950</td>\n",
              "      <td>0.000002</td>\n",
              "      <td>0.0853</td>\n",
              "      <td>0.1910</td>\n",
              "      <td>74.002</td>\n",
              "      <td>286928</td>\n",
              "      <td>4</td>\n",
              "    </tr>\n",
              "    <tr>\n",
              "      <th>2</th>\n",
              "      <td>Ed Sheeran</td>\n",
              "      <td>+</td>\n",
              "      <td>Give Me Love</td>\n",
              "      <td>0SuG9kyzGRpDqrCWtgD6Lq</td>\n",
              "      <td>0.526</td>\n",
              "      <td>0.328</td>\n",
              "      <td>1</td>\n",
              "      <td>-9.864</td>\n",
              "      <td>1</td>\n",
              "      <td>0.0461</td>\n",
              "      <td>0.000000</td>\n",
              "      <td>0.1120</td>\n",
              "      <td>0.1100</td>\n",
              "      <td>116.068</td>\n",
              "      <td>526387</td>\n",
              "      <td>4</td>\n",
              "    </tr>\n",
              "    <tr>\n",
              "      <th>3</th>\n",
              "      <td>Coastal Communities Concert Band</td>\n",
              "      <td>37th Anniversary Concert 2020</td>\n",
              "      <td>Persis Overture - Live</td>\n",
              "      <td>0U8Di9rRSR7xvxn0fJAaAp</td>\n",
              "      <td>0.318</td>\n",
              "      <td>0.219</td>\n",
              "      <td>7</td>\n",
              "      <td>-17.426</td>\n",
              "      <td>0</td>\n",
              "      <td>0.0406</td>\n",
              "      <td>0.913000</td>\n",
              "      <td>0.7760</td>\n",
              "      <td>0.2930</td>\n",
              "      <td>134.380</td>\n",
              "      <td>500973</td>\n",
              "      <td>4</td>\n",
              "    </tr>\n",
              "    <tr>\n",
              "      <th>4</th>\n",
              "      <td>One Direction</td>\n",
              "      <td>Take Me Home (Expanded Edition)</td>\n",
              "      <td>Little Things</td>\n",
              "      <td>0TAmnCzOtqRfvA38DDLTjj</td>\n",
              "      <td>0.709</td>\n",
              "      <td>0.220</td>\n",
              "      <td>7</td>\n",
              "      <td>-11.856</td>\n",
              "      <td>1</td>\n",
              "      <td>0.0327</td>\n",
              "      <td>0.000000</td>\n",
              "      <td>0.1750</td>\n",
              "      <td>0.5300</td>\n",
              "      <td>110.076</td>\n",
              "      <td>219040</td>\n",
              "      <td>4</td>\n",
              "    </tr>\n",
              "  </tbody>\n",
              "</table>\n",
              "</div>"
            ],
            "text/plain": [
              "                                       artist  ... time_signature\n",
              "0  Tom Lee Hong Kong Youth NeoWinds Orchestra  ...              4\n",
              "1                                        LANY  ...              4\n",
              "2                                  Ed Sheeran  ...              4\n",
              "3            Coastal Communities Concert Band  ...              4\n",
              "4                               One Direction  ...              4\n",
              "\n",
              "[5 rows x 16 columns]"
            ]
          },
          "metadata": {
            "tags": []
          },
          "execution_count": 3
        }
      ]
    },
    {
      "cell_type": "code",
      "metadata": {
        "id": "gnnY8-cBYWP0",
        "colab": {
          "base_uri": "https://localhost:8080/",
          "height": 377
        },
        "outputId": "a4ab4b51-93ba-41d5-d4d4-18b4ff74ca41"
      },
      "source": [
        "# Last 5 songs in Spotify playlist with our liked songs\n",
        "like_songs.tail()"
      ],
      "execution_count": null,
      "outputs": [
        {
          "output_type": "execute_result",
          "data": {
            "text/html": [
              "<div>\n",
              "<style scoped>\n",
              "    .dataframe tbody tr th:only-of-type {\n",
              "        vertical-align: middle;\n",
              "    }\n",
              "\n",
              "    .dataframe tbody tr th {\n",
              "        vertical-align: top;\n",
              "    }\n",
              "\n",
              "    .dataframe thead th {\n",
              "        text-align: right;\n",
              "    }\n",
              "</style>\n",
              "<table border=\"1\" class=\"dataframe\">\n",
              "  <thead>\n",
              "    <tr style=\"text-align: right;\">\n",
              "      <th></th>\n",
              "      <th>artist</th>\n",
              "      <th>album</th>\n",
              "      <th>track_name</th>\n",
              "      <th>track_id</th>\n",
              "      <th>danceability</th>\n",
              "      <th>energy</th>\n",
              "      <th>key</th>\n",
              "      <th>loudness</th>\n",
              "      <th>mode</th>\n",
              "      <th>speechiness</th>\n",
              "      <th>instrumentalness</th>\n",
              "      <th>liveness</th>\n",
              "      <th>valence</th>\n",
              "      <th>tempo</th>\n",
              "      <th>duration_ms</th>\n",
              "      <th>time_signature</th>\n",
              "    </tr>\n",
              "  </thead>\n",
              "  <tbody>\n",
              "    <tr>\n",
              "      <th>95</th>\n",
              "      <td>JJ Lin</td>\n",
              "      <td>JJ林俊傑100天</td>\n",
              "      <td>第幾個100天</td>\n",
              "      <td>2tXTEROacuvyybcZoX9RmT</td>\n",
              "      <td>0.247</td>\n",
              "      <td>0.475</td>\n",
              "      <td>0</td>\n",
              "      <td>-6.658</td>\n",
              "      <td>1</td>\n",
              "      <td>0.0286</td>\n",
              "      <td>0.00000</td>\n",
              "      <td>0.1300</td>\n",
              "      <td>0.201</td>\n",
              "      <td>96.429</td>\n",
              "      <td>278895</td>\n",
              "      <td>3</td>\n",
              "    </tr>\n",
              "    <tr>\n",
              "      <th>96</th>\n",
              "      <td>Cass Elliot</td>\n",
              "      <td>Dream A Little Dream Of Me</td>\n",
              "      <td>Dream A Little Dream Of Me</td>\n",
              "      <td>3cOWCcBKwiwUs5PCYirwMI</td>\n",
              "      <td>0.410</td>\n",
              "      <td>0.532</td>\n",
              "      <td>11</td>\n",
              "      <td>-10.394</td>\n",
              "      <td>0</td>\n",
              "      <td>0.1950</td>\n",
              "      <td>0.00000</td>\n",
              "      <td>0.6980</td>\n",
              "      <td>0.406</td>\n",
              "      <td>134.128</td>\n",
              "      <td>221373</td>\n",
              "      <td>4</td>\n",
              "    </tr>\n",
              "    <tr>\n",
              "      <th>97</th>\n",
              "      <td>Baek Ji Young</td>\n",
              "      <td>I still love you a lot</td>\n",
              "      <td>I still love you a lot</td>\n",
              "      <td>2zCORPZHF7g9SPjZfrGVuy</td>\n",
              "      <td>0.548</td>\n",
              "      <td>0.404</td>\n",
              "      <td>4</td>\n",
              "      <td>-5.618</td>\n",
              "      <td>1</td>\n",
              "      <td>0.0314</td>\n",
              "      <td>0.00000</td>\n",
              "      <td>0.0791</td>\n",
              "      <td>0.486</td>\n",
              "      <td>129.795</td>\n",
              "      <td>227867</td>\n",
              "      <td>4</td>\n",
              "    </tr>\n",
              "    <tr>\n",
              "      <th>98</th>\n",
              "      <td>TOTO</td>\n",
              "      <td>Toto IV</td>\n",
              "      <td>Africa</td>\n",
              "      <td>2374M0fQpWi3dLnB54qaLX</td>\n",
              "      <td>0.671</td>\n",
              "      <td>0.373</td>\n",
              "      <td>9</td>\n",
              "      <td>-18.064</td>\n",
              "      <td>1</td>\n",
              "      <td>0.0323</td>\n",
              "      <td>0.00008</td>\n",
              "      <td>0.0481</td>\n",
              "      <td>0.732</td>\n",
              "      <td>92.718</td>\n",
              "      <td>295893</td>\n",
              "      <td>4</td>\n",
              "    </tr>\n",
              "    <tr>\n",
              "      <th>99</th>\n",
              "      <td>Avril Lavigne</td>\n",
              "      <td>Goodbye Lullaby (Deluxe Edition)</td>\n",
              "      <td>Wish You Were Here</td>\n",
              "      <td>72po8JKu6e1hLtQ7kGJPg3</td>\n",
              "      <td>0.460</td>\n",
              "      <td>0.866</td>\n",
              "      <td>1</td>\n",
              "      <td>-3.864</td>\n",
              "      <td>0</td>\n",
              "      <td>0.0559</td>\n",
              "      <td>0.00000</td>\n",
              "      <td>0.1900</td>\n",
              "      <td>0.345</td>\n",
              "      <td>165.956</td>\n",
              "      <td>225680</td>\n",
              "      <td>4</td>\n",
              "    </tr>\n",
              "  </tbody>\n",
              "</table>\n",
              "</div>"
            ],
            "text/plain": [
              "           artist  ... time_signature\n",
              "95         JJ Lin  ...              3\n",
              "96    Cass Elliot  ...              4\n",
              "97  Baek Ji Young  ...              4\n",
              "98           TOTO  ...              4\n",
              "99  Avril Lavigne  ...              4\n",
              "\n",
              "[5 rows x 16 columns]"
            ]
          },
          "metadata": {
            "tags": []
          },
          "execution_count": 4
        }
      ]
    },
    {
      "cell_type": "code",
      "metadata": {
        "id": "KKRU6i2O9zFP",
        "colab": {
          "base_uri": "https://localhost:8080/",
          "height": 411
        },
        "outputId": "e0c60d9f-34df-45a6-c1ba-1abb73e987a7"
      },
      "source": [
        "# First 5 songs in Spotify playlist with our disliked songs\n",
        "dislike_songs.head()"
      ],
      "execution_count": null,
      "outputs": [
        {
          "output_type": "execute_result",
          "data": {
            "text/html": [
              "<div>\n",
              "<style scoped>\n",
              "    .dataframe tbody tr th:only-of-type {\n",
              "        vertical-align: middle;\n",
              "    }\n",
              "\n",
              "    .dataframe tbody tr th {\n",
              "        vertical-align: top;\n",
              "    }\n",
              "\n",
              "    .dataframe thead th {\n",
              "        text-align: right;\n",
              "    }\n",
              "</style>\n",
              "<table border=\"1\" class=\"dataframe\">\n",
              "  <thead>\n",
              "    <tr style=\"text-align: right;\">\n",
              "      <th></th>\n",
              "      <th>artist</th>\n",
              "      <th>album</th>\n",
              "      <th>track_name</th>\n",
              "      <th>track_id</th>\n",
              "      <th>danceability</th>\n",
              "      <th>energy</th>\n",
              "      <th>key</th>\n",
              "      <th>loudness</th>\n",
              "      <th>mode</th>\n",
              "      <th>speechiness</th>\n",
              "      <th>instrumentalness</th>\n",
              "      <th>liveness</th>\n",
              "      <th>valence</th>\n",
              "      <th>tempo</th>\n",
              "      <th>duration_ms</th>\n",
              "      <th>time_signature</th>\n",
              "    </tr>\n",
              "  </thead>\n",
              "  <tbody>\n",
              "    <tr>\n",
              "      <th>0</th>\n",
              "      <td>Katy Perry</td>\n",
              "      <td>Smile</td>\n",
              "      <td>Cry About It Later</td>\n",
              "      <td>7cLrrJ1Dk6WAQyDIj9j26A</td>\n",
              "      <td>0.699</td>\n",
              "      <td>0.669</td>\n",
              "      <td>2</td>\n",
              "      <td>-5.829</td>\n",
              "      <td>0</td>\n",
              "      <td>0.0712</td>\n",
              "      <td>0.000017</td>\n",
              "      <td>0.2480</td>\n",
              "      <td>0.4440</td>\n",
              "      <td>125.994</td>\n",
              "      <td>189773</td>\n",
              "      <td>4</td>\n",
              "    </tr>\n",
              "    <tr>\n",
              "      <th>1</th>\n",
              "      <td>Meghan Trainor</td>\n",
              "      <td>TREAT MYSELF (DELUXE)</td>\n",
              "      <td>You Don't Know Me</td>\n",
              "      <td>3xGTNPcwsvonkWUQV1Wsqu</td>\n",
              "      <td>0.579</td>\n",
              "      <td>0.763</td>\n",
              "      <td>9</td>\n",
              "      <td>-4.155</td>\n",
              "      <td>0</td>\n",
              "      <td>0.0717</td>\n",
              "      <td>0.000000</td>\n",
              "      <td>0.2050</td>\n",
              "      <td>0.6170</td>\n",
              "      <td>106.029</td>\n",
              "      <td>210834</td>\n",
              "      <td>4</td>\n",
              "    </tr>\n",
              "    <tr>\n",
              "      <th>2</th>\n",
              "      <td>Justin Bieber</td>\n",
              "      <td>Lonely (with benny blanco)</td>\n",
              "      <td>Lonely (with benny blanco)</td>\n",
              "      <td>4y4spB9m0Q6026KfkAvy9Q</td>\n",
              "      <td>0.631</td>\n",
              "      <td>0.239</td>\n",
              "      <td>11</td>\n",
              "      <td>-7.071</td>\n",
              "      <td>0</td>\n",
              "      <td>0.0398</td>\n",
              "      <td>0.000000</td>\n",
              "      <td>0.1160</td>\n",
              "      <td>0.0927</td>\n",
              "      <td>79.859</td>\n",
              "      <td>149297</td>\n",
              "      <td>4</td>\n",
              "    </tr>\n",
              "    <tr>\n",
              "      <th>3</th>\n",
              "      <td>Shawn Mendes</td>\n",
              "      <td>Monster</td>\n",
              "      <td>Monster (Shawn Mendes &amp; Justin Bieber)</td>\n",
              "      <td>2Z8yfpFX0ZMavHkcIeHiO1</td>\n",
              "      <td>0.652</td>\n",
              "      <td>0.383</td>\n",
              "      <td>2</td>\n",
              "      <td>-7.076</td>\n",
              "      <td>0</td>\n",
              "      <td>0.0516</td>\n",
              "      <td>0.000000</td>\n",
              "      <td>0.0828</td>\n",
              "      <td>0.5490</td>\n",
              "      <td>145.765</td>\n",
              "      <td>178994</td>\n",
              "      <td>4</td>\n",
              "    </tr>\n",
              "    <tr>\n",
              "      <th>4</th>\n",
              "      <td>Justin Bieber</td>\n",
              "      <td>Purpose (Deluxe)</td>\n",
              "      <td>Love Yourself</td>\n",
              "      <td>1f8zcJPvJKvxAOjEqM0pyc</td>\n",
              "      <td>0.609</td>\n",
              "      <td>0.378</td>\n",
              "      <td>4</td>\n",
              "      <td>-9.828</td>\n",
              "      <td>1</td>\n",
              "      <td>0.4380</td>\n",
              "      <td>0.000000</td>\n",
              "      <td>0.2800</td>\n",
              "      <td>0.5150</td>\n",
              "      <td>100.418</td>\n",
              "      <td>233720</td>\n",
              "      <td>4</td>\n",
              "    </tr>\n",
              "  </tbody>\n",
              "</table>\n",
              "</div>"
            ],
            "text/plain": [
              "           artist                       album  ... duration_ms time_signature\n",
              "0      Katy Perry                       Smile  ...      189773              4\n",
              "1  Meghan Trainor       TREAT MYSELF (DELUXE)  ...      210834              4\n",
              "2   Justin Bieber  Lonely (with benny blanco)  ...      149297              4\n",
              "3    Shawn Mendes                     Monster  ...      178994              4\n",
              "4   Justin Bieber            Purpose (Deluxe)  ...      233720              4\n",
              "\n",
              "[5 rows x 16 columns]"
            ]
          },
          "metadata": {
            "tags": []
          },
          "execution_count": 5
        }
      ]
    },
    {
      "cell_type": "code",
      "metadata": {
        "colab": {
          "base_uri": "https://localhost:8080/",
          "height": 292
        },
        "id": "Y1l_8zyRZPQa",
        "outputId": "56208f65-b58a-447f-c8b7-c08faaa20d33"
      },
      "source": [
        "# Last 5 songs in Spotify playlist with our disliked songs\n",
        "dislike_songs.tail()"
      ],
      "execution_count": null,
      "outputs": [
        {
          "output_type": "execute_result",
          "data": {
            "text/html": [
              "<div>\n",
              "<style scoped>\n",
              "    .dataframe tbody tr th:only-of-type {\n",
              "        vertical-align: middle;\n",
              "    }\n",
              "\n",
              "    .dataframe tbody tr th {\n",
              "        vertical-align: top;\n",
              "    }\n",
              "\n",
              "    .dataframe thead th {\n",
              "        text-align: right;\n",
              "    }\n",
              "</style>\n",
              "<table border=\"1\" class=\"dataframe\">\n",
              "  <thead>\n",
              "    <tr style=\"text-align: right;\">\n",
              "      <th></th>\n",
              "      <th>artist</th>\n",
              "      <th>album</th>\n",
              "      <th>track_name</th>\n",
              "      <th>track_id</th>\n",
              "      <th>danceability</th>\n",
              "      <th>energy</th>\n",
              "      <th>key</th>\n",
              "      <th>loudness</th>\n",
              "      <th>mode</th>\n",
              "      <th>speechiness</th>\n",
              "      <th>instrumentalness</th>\n",
              "      <th>liveness</th>\n",
              "      <th>valence</th>\n",
              "      <th>tempo</th>\n",
              "      <th>duration_ms</th>\n",
              "      <th>time_signature</th>\n",
              "    </tr>\n",
              "  </thead>\n",
              "  <tbody>\n",
              "    <tr>\n",
              "      <th>95</th>\n",
              "      <td>Brent Faiyaz</td>\n",
              "      <td>Fuck The World</td>\n",
              "      <td>Let Me Know</td>\n",
              "      <td>0dJhXJKZTpiaxTUc7uItIN</td>\n",
              "      <td>0.743</td>\n",
              "      <td>0.548</td>\n",
              "      <td>6</td>\n",
              "      <td>-6.545</td>\n",
              "      <td>0</td>\n",
              "      <td>0.0947</td>\n",
              "      <td>0.000180</td>\n",
              "      <td>0.088</td>\n",
              "      <td>0.558</td>\n",
              "      <td>85.017</td>\n",
              "      <td>215058</td>\n",
              "      <td>4</td>\n",
              "    </tr>\n",
              "    <tr>\n",
              "      <th>96</th>\n",
              "      <td>Mac Miller</td>\n",
              "      <td>Circles</td>\n",
              "      <td>Good News</td>\n",
              "      <td>1DWZUa5Mzf2BwzpHtgbHPY</td>\n",
              "      <td>0.794</td>\n",
              "      <td>0.320</td>\n",
              "      <td>1</td>\n",
              "      <td>-12.920</td>\n",
              "      <td>0</td>\n",
              "      <td>0.1730</td>\n",
              "      <td>0.134000</td>\n",
              "      <td>0.112</td>\n",
              "      <td>0.241</td>\n",
              "      <td>174.088</td>\n",
              "      <td>342040</td>\n",
              "      <td>4</td>\n",
              "    </tr>\n",
              "    <tr>\n",
              "      <th>97</th>\n",
              "      <td>Halsey</td>\n",
              "      <td>Manic</td>\n",
              "      <td>You should be sad</td>\n",
              "      <td>7lidXGPXPYLNThITAOTlkK</td>\n",
              "      <td>0.591</td>\n",
              "      <td>0.585</td>\n",
              "      <td>2</td>\n",
              "      <td>-6.350</td>\n",
              "      <td>1</td>\n",
              "      <td>0.0277</td>\n",
              "      <td>0.000000</td>\n",
              "      <td>0.109</td>\n",
              "      <td>0.324</td>\n",
              "      <td>110.940</td>\n",
              "      <td>205473</td>\n",
              "      <td>4</td>\n",
              "    </tr>\n",
              "    <tr>\n",
              "      <th>98</th>\n",
              "      <td>H.E.R.</td>\n",
              "      <td>Sometimes</td>\n",
              "      <td>Sometimes</td>\n",
              "      <td>2m0pzukUN2eFutFjnXNFXF</td>\n",
              "      <td>0.540</td>\n",
              "      <td>0.617</td>\n",
              "      <td>3</td>\n",
              "      <td>-7.560</td>\n",
              "      <td>0</td>\n",
              "      <td>0.0723</td>\n",
              "      <td>0.000854</td>\n",
              "      <td>0.109</td>\n",
              "      <td>0.369</td>\n",
              "      <td>151.838</td>\n",
              "      <td>273751</td>\n",
              "      <td>4</td>\n",
              "    </tr>\n",
              "    <tr>\n",
              "      <th>99</th>\n",
              "      <td>Chris Brown</td>\n",
              "      <td>Slime &amp; B</td>\n",
              "      <td>Go Crazy</td>\n",
              "      <td>1IIKrJVP1C9N7iPtG6eOsK</td>\n",
              "      <td>0.755</td>\n",
              "      <td>0.578</td>\n",
              "      <td>0</td>\n",
              "      <td>-8.932</td>\n",
              "      <td>0</td>\n",
              "      <td>0.1450</td>\n",
              "      <td>0.000000</td>\n",
              "      <td>0.250</td>\n",
              "      <td>0.581</td>\n",
              "      <td>94.148</td>\n",
              "      <td>176960</td>\n",
              "      <td>4</td>\n",
              "    </tr>\n",
              "  </tbody>\n",
              "</table>\n",
              "</div>"
            ],
            "text/plain": [
              "          artist           album  ... duration_ms time_signature\n",
              "95  Brent Faiyaz  Fuck The World  ...      215058              4\n",
              "96    Mac Miller         Circles  ...      342040              4\n",
              "97        Halsey           Manic  ...      205473              4\n",
              "98        H.E.R.       Sometimes  ...      273751              4\n",
              "99   Chris Brown       Slime & B  ...      176960              4\n",
              "\n",
              "[5 rows x 16 columns]"
            ]
          },
          "metadata": {
            "tags": []
          },
          "execution_count": 6
        }
      ]
    },
    {
      "cell_type": "markdown",
      "metadata": {
        "id": "lExvsvG4M0R8"
      },
      "source": [
        "**Exploratory Data Analysis**"
      ]
    },
    {
      "cell_type": "code",
      "metadata": {
        "colab": {
          "base_uri": "https://localhost:8080/"
        },
        "id": "-VjltJhyZcP8",
        "outputId": "9803632c-63d5-4f4b-b639-e6f9e031106b"
      },
      "source": [
        "# Columns in our dataset\n",
        "like_songs.columns"
      ],
      "execution_count": null,
      "outputs": [
        {
          "output_type": "execute_result",
          "data": {
            "text/plain": [
              "Index(['artist', 'album', 'track_name', 'track_id', 'danceability', 'energy',\n",
              "       'key', 'loudness', 'mode', 'speechiness', 'instrumentalness',\n",
              "       'liveness', 'valence', 'tempo', 'duration_ms', 'time_signature'],\n",
              "      dtype='object')"
            ]
          },
          "metadata": {
            "tags": []
          },
          "execution_count": 7
        }
      ]
    },
    {
      "cell_type": "code",
      "metadata": {
        "colab": {
          "base_uri": "https://localhost:8080/",
          "height": 317
        },
        "id": "fLJmA3toaEcH",
        "outputId": "4207656a-c56e-4dea-e278-c748df4be0cf"
      },
      "source": [
        "# Describing the columns in our liked songs dataset\n",
        "like_songs.describe()"
      ],
      "execution_count": null,
      "outputs": [
        {
          "output_type": "execute_result",
          "data": {
            "text/html": [
              "<div>\n",
              "<style scoped>\n",
              "    .dataframe tbody tr th:only-of-type {\n",
              "        vertical-align: middle;\n",
              "    }\n",
              "\n",
              "    .dataframe tbody tr th {\n",
              "        vertical-align: top;\n",
              "    }\n",
              "\n",
              "    .dataframe thead th {\n",
              "        text-align: right;\n",
              "    }\n",
              "</style>\n",
              "<table border=\"1\" class=\"dataframe\">\n",
              "  <thead>\n",
              "    <tr style=\"text-align: right;\">\n",
              "      <th></th>\n",
              "      <th>danceability</th>\n",
              "      <th>energy</th>\n",
              "      <th>key</th>\n",
              "      <th>loudness</th>\n",
              "      <th>mode</th>\n",
              "      <th>speechiness</th>\n",
              "      <th>instrumentalness</th>\n",
              "      <th>liveness</th>\n",
              "      <th>valence</th>\n",
              "      <th>tempo</th>\n",
              "      <th>duration_ms</th>\n",
              "      <th>time_signature</th>\n",
              "    </tr>\n",
              "  </thead>\n",
              "  <tbody>\n",
              "    <tr>\n",
              "      <th>count</th>\n",
              "      <td>100.000000</td>\n",
              "      <td>100.000000</td>\n",
              "      <td>100.000000</td>\n",
              "      <td>100.000000</td>\n",
              "      <td>100.000000</td>\n",
              "      <td>100.000000</td>\n",
              "      <td>100.000000</td>\n",
              "      <td>100.000000</td>\n",
              "      <td>100.000000</td>\n",
              "      <td>100.000000</td>\n",
              "      <td>100.000000</td>\n",
              "      <td>100.000000</td>\n",
              "    </tr>\n",
              "    <tr>\n",
              "      <th>mean</th>\n",
              "      <td>0.551960</td>\n",
              "      <td>0.523324</td>\n",
              "      <td>5.430000</td>\n",
              "      <td>-7.867940</td>\n",
              "      <td>0.830000</td>\n",
              "      <td>0.057327</td>\n",
              "      <td>0.045659</td>\n",
              "      <td>0.200942</td>\n",
              "      <td>0.373591</td>\n",
              "      <td>119.756020</td>\n",
              "      <td>260022.800000</td>\n",
              "      <td>3.940000</td>\n",
              "    </tr>\n",
              "    <tr>\n",
              "      <th>std</th>\n",
              "      <td>0.151527</td>\n",
              "      <td>0.199619</td>\n",
              "      <td>3.593639</td>\n",
              "      <td>3.473365</td>\n",
              "      <td>0.377525</td>\n",
              "      <td>0.048058</td>\n",
              "      <td>0.171749</td>\n",
              "      <td>0.180012</td>\n",
              "      <td>0.211411</td>\n",
              "      <td>29.301727</td>\n",
              "      <td>88006.034145</td>\n",
              "      <td>0.238683</td>\n",
              "    </tr>\n",
              "    <tr>\n",
              "      <th>min</th>\n",
              "      <td>0.161000</td>\n",
              "      <td>0.092400</td>\n",
              "      <td>0.000000</td>\n",
              "      <td>-18.064000</td>\n",
              "      <td>0.000000</td>\n",
              "      <td>0.024300</td>\n",
              "      <td>0.000000</td>\n",
              "      <td>0.033300</td>\n",
              "      <td>0.057200</td>\n",
              "      <td>71.994000</td>\n",
              "      <td>160347.000000</td>\n",
              "      <td>3.000000</td>\n",
              "    </tr>\n",
              "    <tr>\n",
              "      <th>25%</th>\n",
              "      <td>0.467500</td>\n",
              "      <td>0.381250</td>\n",
              "      <td>2.000000</td>\n",
              "      <td>-9.537750</td>\n",
              "      <td>1.000000</td>\n",
              "      <td>0.032375</td>\n",
              "      <td>0.000000</td>\n",
              "      <td>0.096600</td>\n",
              "      <td>0.190000</td>\n",
              "      <td>94.411750</td>\n",
              "      <td>208673.750000</td>\n",
              "      <td>4.000000</td>\n",
              "    </tr>\n",
              "    <tr>\n",
              "      <th>50%</th>\n",
              "      <td>0.553500</td>\n",
              "      <td>0.485000</td>\n",
              "      <td>5.500000</td>\n",
              "      <td>-7.150500</td>\n",
              "      <td>1.000000</td>\n",
              "      <td>0.041850</td>\n",
              "      <td>0.000002</td>\n",
              "      <td>0.116000</td>\n",
              "      <td>0.334000</td>\n",
              "      <td>119.930000</td>\n",
              "      <td>235966.500000</td>\n",
              "      <td>4.000000</td>\n",
              "    </tr>\n",
              "    <tr>\n",
              "      <th>75%</th>\n",
              "      <td>0.667000</td>\n",
              "      <td>0.655000</td>\n",
              "      <td>8.000000</td>\n",
              "      <td>-5.660750</td>\n",
              "      <td>1.000000</td>\n",
              "      <td>0.059725</td>\n",
              "      <td>0.000133</td>\n",
              "      <td>0.237750</td>\n",
              "      <td>0.493500</td>\n",
              "      <td>138.633750</td>\n",
              "      <td>283189.750000</td>\n",
              "      <td>4.000000</td>\n",
              "    </tr>\n",
              "    <tr>\n",
              "      <th>max</th>\n",
              "      <td>0.897000</td>\n",
              "      <td>0.941000</td>\n",
              "      <td>11.000000</td>\n",
              "      <td>-0.323000</td>\n",
              "      <td>1.000000</td>\n",
              "      <td>0.360000</td>\n",
              "      <td>0.913000</td>\n",
              "      <td>0.795000</td>\n",
              "      <td>0.884000</td>\n",
              "      <td>192.099000</td>\n",
              "      <td>663333.000000</td>\n",
              "      <td>4.000000</td>\n",
              "    </tr>\n",
              "  </tbody>\n",
              "</table>\n",
              "</div>"
            ],
            "text/plain": [
              "       danceability      energy  ...    duration_ms  time_signature\n",
              "count    100.000000  100.000000  ...     100.000000      100.000000\n",
              "mean       0.551960    0.523324  ...  260022.800000        3.940000\n",
              "std        0.151527    0.199619  ...   88006.034145        0.238683\n",
              "min        0.161000    0.092400  ...  160347.000000        3.000000\n",
              "25%        0.467500    0.381250  ...  208673.750000        4.000000\n",
              "50%        0.553500    0.485000  ...  235966.500000        4.000000\n",
              "75%        0.667000    0.655000  ...  283189.750000        4.000000\n",
              "max        0.897000    0.941000  ...  663333.000000        4.000000\n",
              "\n",
              "[8 rows x 12 columns]"
            ]
          },
          "metadata": {
            "tags": []
          },
          "execution_count": 8
        }
      ]
    },
    {
      "cell_type": "markdown",
      "metadata": {
        "id": "wZGdJ1_UOrEx"
      },
      "source": [
        "**Classification Like or Dislike**"
      ]
    },
    {
      "cell_type": "code",
      "metadata": {
        "id": "tY8R2SZE9zHc",
        "colab": {
          "base_uri": "https://localhost:8080/",
          "height": 445
        },
        "outputId": "1fa06a76-71ce-4970-b6a3-6bc54f7a3b42"
      },
      "source": [
        "# classification, 1 for like, 0 for dislike\n",
        "# Adding the song_like column to our liked songs dataframe\n",
        "like_songs['song_like'] = np.ones((len(like_songs), 1), dtype=int)\n",
        "like_songs.head()"
      ],
      "execution_count": null,
      "outputs": [
        {
          "output_type": "execute_result",
          "data": {
            "text/html": [
              "<div>\n",
              "<style scoped>\n",
              "    .dataframe tbody tr th:only-of-type {\n",
              "        vertical-align: middle;\n",
              "    }\n",
              "\n",
              "    .dataframe tbody tr th {\n",
              "        vertical-align: top;\n",
              "    }\n",
              "\n",
              "    .dataframe thead th {\n",
              "        text-align: right;\n",
              "    }\n",
              "</style>\n",
              "<table border=\"1\" class=\"dataframe\">\n",
              "  <thead>\n",
              "    <tr style=\"text-align: right;\">\n",
              "      <th></th>\n",
              "      <th>artist</th>\n",
              "      <th>album</th>\n",
              "      <th>track_name</th>\n",
              "      <th>track_id</th>\n",
              "      <th>danceability</th>\n",
              "      <th>energy</th>\n",
              "      <th>key</th>\n",
              "      <th>loudness</th>\n",
              "      <th>mode</th>\n",
              "      <th>speechiness</th>\n",
              "      <th>instrumentalness</th>\n",
              "      <th>liveness</th>\n",
              "      <th>valence</th>\n",
              "      <th>tempo</th>\n",
              "      <th>duration_ms</th>\n",
              "      <th>time_signature</th>\n",
              "      <th>song_like</th>\n",
              "    </tr>\n",
              "  </thead>\n",
              "  <tbody>\n",
              "    <tr>\n",
              "      <th>0</th>\n",
              "      <td>Tom Lee Hong Kong Youth NeoWinds Orchestra</td>\n",
              "      <td>2011 WASBE Chiayi City, Taiwan: Tom Lee Hong K...</td>\n",
              "      <td>Hymn to the Sun, \"With the Beat of Mother Earth\"</td>\n",
              "      <td>4olLv2XSxKmEYFeA6JtuJ2</td>\n",
              "      <td>0.161</td>\n",
              "      <td>0.293</td>\n",
              "      <td>7</td>\n",
              "      <td>-15.691</td>\n",
              "      <td>0</td>\n",
              "      <td>0.0415</td>\n",
              "      <td>0.569000</td>\n",
              "      <td>0.6610</td>\n",
              "      <td>0.0572</td>\n",
              "      <td>78.331</td>\n",
              "      <td>561640</td>\n",
              "      <td>4</td>\n",
              "      <td>1</td>\n",
              "    </tr>\n",
              "    <tr>\n",
              "      <th>1</th>\n",
              "      <td>LANY</td>\n",
              "      <td>Malibu Nights</td>\n",
              "      <td>Malibu Nights</td>\n",
              "      <td>0Eqg0CQ7bK3RQIMPw1A7pl</td>\n",
              "      <td>0.559</td>\n",
              "      <td>0.422</td>\n",
              "      <td>11</td>\n",
              "      <td>-11.890</td>\n",
              "      <td>1</td>\n",
              "      <td>0.1950</td>\n",
              "      <td>0.000002</td>\n",
              "      <td>0.0853</td>\n",
              "      <td>0.1910</td>\n",
              "      <td>74.002</td>\n",
              "      <td>286928</td>\n",
              "      <td>4</td>\n",
              "      <td>1</td>\n",
              "    </tr>\n",
              "    <tr>\n",
              "      <th>2</th>\n",
              "      <td>Ed Sheeran</td>\n",
              "      <td>+</td>\n",
              "      <td>Give Me Love</td>\n",
              "      <td>0SuG9kyzGRpDqrCWtgD6Lq</td>\n",
              "      <td>0.526</td>\n",
              "      <td>0.328</td>\n",
              "      <td>1</td>\n",
              "      <td>-9.864</td>\n",
              "      <td>1</td>\n",
              "      <td>0.0461</td>\n",
              "      <td>0.000000</td>\n",
              "      <td>0.1120</td>\n",
              "      <td>0.1100</td>\n",
              "      <td>116.068</td>\n",
              "      <td>526387</td>\n",
              "      <td>4</td>\n",
              "      <td>1</td>\n",
              "    </tr>\n",
              "    <tr>\n",
              "      <th>3</th>\n",
              "      <td>Coastal Communities Concert Band</td>\n",
              "      <td>37th Anniversary Concert 2020</td>\n",
              "      <td>Persis Overture - Live</td>\n",
              "      <td>0U8Di9rRSR7xvxn0fJAaAp</td>\n",
              "      <td>0.318</td>\n",
              "      <td>0.219</td>\n",
              "      <td>7</td>\n",
              "      <td>-17.426</td>\n",
              "      <td>0</td>\n",
              "      <td>0.0406</td>\n",
              "      <td>0.913000</td>\n",
              "      <td>0.7760</td>\n",
              "      <td>0.2930</td>\n",
              "      <td>134.380</td>\n",
              "      <td>500973</td>\n",
              "      <td>4</td>\n",
              "      <td>1</td>\n",
              "    </tr>\n",
              "    <tr>\n",
              "      <th>4</th>\n",
              "      <td>One Direction</td>\n",
              "      <td>Take Me Home (Expanded Edition)</td>\n",
              "      <td>Little Things</td>\n",
              "      <td>0TAmnCzOtqRfvA38DDLTjj</td>\n",
              "      <td>0.709</td>\n",
              "      <td>0.220</td>\n",
              "      <td>7</td>\n",
              "      <td>-11.856</td>\n",
              "      <td>1</td>\n",
              "      <td>0.0327</td>\n",
              "      <td>0.000000</td>\n",
              "      <td>0.1750</td>\n",
              "      <td>0.5300</td>\n",
              "      <td>110.076</td>\n",
              "      <td>219040</td>\n",
              "      <td>4</td>\n",
              "      <td>1</td>\n",
              "    </tr>\n",
              "  </tbody>\n",
              "</table>\n",
              "</div>"
            ],
            "text/plain": [
              "                                       artist  ... song_like\n",
              "0  Tom Lee Hong Kong Youth NeoWinds Orchestra  ...         1\n",
              "1                                        LANY  ...         1\n",
              "2                                  Ed Sheeran  ...         1\n",
              "3            Coastal Communities Concert Band  ...         1\n",
              "4                               One Direction  ...         1\n",
              "\n",
              "[5 rows x 17 columns]"
            ]
          },
          "metadata": {
            "tags": []
          },
          "execution_count": 9
        }
      ]
    },
    {
      "cell_type": "code",
      "metadata": {
        "id": "FCOsne5C9zJG",
        "colab": {
          "base_uri": "https://localhost:8080/",
          "height": 411
        },
        "outputId": "5ed5bde9-4ef8-4c3b-acd7-ab3df89612fb"
      },
      "source": [
        "# Adding the song_like column to our disliked songs dataframe\n",
        "dislike_songs['song_like'] = np.zeros((len(dislike_songs), 1), dtype=int)\n",
        "dislike_songs.head()"
      ],
      "execution_count": null,
      "outputs": [
        {
          "output_type": "execute_result",
          "data": {
            "text/html": [
              "<div>\n",
              "<style scoped>\n",
              "    .dataframe tbody tr th:only-of-type {\n",
              "        vertical-align: middle;\n",
              "    }\n",
              "\n",
              "    .dataframe tbody tr th {\n",
              "        vertical-align: top;\n",
              "    }\n",
              "\n",
              "    .dataframe thead th {\n",
              "        text-align: right;\n",
              "    }\n",
              "</style>\n",
              "<table border=\"1\" class=\"dataframe\">\n",
              "  <thead>\n",
              "    <tr style=\"text-align: right;\">\n",
              "      <th></th>\n",
              "      <th>artist</th>\n",
              "      <th>album</th>\n",
              "      <th>track_name</th>\n",
              "      <th>track_id</th>\n",
              "      <th>danceability</th>\n",
              "      <th>energy</th>\n",
              "      <th>key</th>\n",
              "      <th>loudness</th>\n",
              "      <th>mode</th>\n",
              "      <th>speechiness</th>\n",
              "      <th>instrumentalness</th>\n",
              "      <th>liveness</th>\n",
              "      <th>valence</th>\n",
              "      <th>tempo</th>\n",
              "      <th>duration_ms</th>\n",
              "      <th>time_signature</th>\n",
              "      <th>song_like</th>\n",
              "    </tr>\n",
              "  </thead>\n",
              "  <tbody>\n",
              "    <tr>\n",
              "      <th>0</th>\n",
              "      <td>Katy Perry</td>\n",
              "      <td>Smile</td>\n",
              "      <td>Cry About It Later</td>\n",
              "      <td>7cLrrJ1Dk6WAQyDIj9j26A</td>\n",
              "      <td>0.699</td>\n",
              "      <td>0.669</td>\n",
              "      <td>2</td>\n",
              "      <td>-5.829</td>\n",
              "      <td>0</td>\n",
              "      <td>0.0712</td>\n",
              "      <td>0.000017</td>\n",
              "      <td>0.2480</td>\n",
              "      <td>0.4440</td>\n",
              "      <td>125.994</td>\n",
              "      <td>189773</td>\n",
              "      <td>4</td>\n",
              "      <td>0</td>\n",
              "    </tr>\n",
              "    <tr>\n",
              "      <th>1</th>\n",
              "      <td>Meghan Trainor</td>\n",
              "      <td>TREAT MYSELF (DELUXE)</td>\n",
              "      <td>You Don't Know Me</td>\n",
              "      <td>3xGTNPcwsvonkWUQV1Wsqu</td>\n",
              "      <td>0.579</td>\n",
              "      <td>0.763</td>\n",
              "      <td>9</td>\n",
              "      <td>-4.155</td>\n",
              "      <td>0</td>\n",
              "      <td>0.0717</td>\n",
              "      <td>0.000000</td>\n",
              "      <td>0.2050</td>\n",
              "      <td>0.6170</td>\n",
              "      <td>106.029</td>\n",
              "      <td>210834</td>\n",
              "      <td>4</td>\n",
              "      <td>0</td>\n",
              "    </tr>\n",
              "    <tr>\n",
              "      <th>2</th>\n",
              "      <td>Justin Bieber</td>\n",
              "      <td>Lonely (with benny blanco)</td>\n",
              "      <td>Lonely (with benny blanco)</td>\n",
              "      <td>4y4spB9m0Q6026KfkAvy9Q</td>\n",
              "      <td>0.631</td>\n",
              "      <td>0.239</td>\n",
              "      <td>11</td>\n",
              "      <td>-7.071</td>\n",
              "      <td>0</td>\n",
              "      <td>0.0398</td>\n",
              "      <td>0.000000</td>\n",
              "      <td>0.1160</td>\n",
              "      <td>0.0927</td>\n",
              "      <td>79.859</td>\n",
              "      <td>149297</td>\n",
              "      <td>4</td>\n",
              "      <td>0</td>\n",
              "    </tr>\n",
              "    <tr>\n",
              "      <th>3</th>\n",
              "      <td>Shawn Mendes</td>\n",
              "      <td>Monster</td>\n",
              "      <td>Monster (Shawn Mendes &amp; Justin Bieber)</td>\n",
              "      <td>2Z8yfpFX0ZMavHkcIeHiO1</td>\n",
              "      <td>0.652</td>\n",
              "      <td>0.383</td>\n",
              "      <td>2</td>\n",
              "      <td>-7.076</td>\n",
              "      <td>0</td>\n",
              "      <td>0.0516</td>\n",
              "      <td>0.000000</td>\n",
              "      <td>0.0828</td>\n",
              "      <td>0.5490</td>\n",
              "      <td>145.765</td>\n",
              "      <td>178994</td>\n",
              "      <td>4</td>\n",
              "      <td>0</td>\n",
              "    </tr>\n",
              "    <tr>\n",
              "      <th>4</th>\n",
              "      <td>Justin Bieber</td>\n",
              "      <td>Purpose (Deluxe)</td>\n",
              "      <td>Love Yourself</td>\n",
              "      <td>1f8zcJPvJKvxAOjEqM0pyc</td>\n",
              "      <td>0.609</td>\n",
              "      <td>0.378</td>\n",
              "      <td>4</td>\n",
              "      <td>-9.828</td>\n",
              "      <td>1</td>\n",
              "      <td>0.4380</td>\n",
              "      <td>0.000000</td>\n",
              "      <td>0.2800</td>\n",
              "      <td>0.5150</td>\n",
              "      <td>100.418</td>\n",
              "      <td>233720</td>\n",
              "      <td>4</td>\n",
              "      <td>0</td>\n",
              "    </tr>\n",
              "  </tbody>\n",
              "</table>\n",
              "</div>"
            ],
            "text/plain": [
              "           artist                       album  ... time_signature song_like\n",
              "0      Katy Perry                       Smile  ...              4         0\n",
              "1  Meghan Trainor       TREAT MYSELF (DELUXE)  ...              4         0\n",
              "2   Justin Bieber  Lonely (with benny blanco)  ...              4         0\n",
              "3    Shawn Mendes                     Monster  ...              4         0\n",
              "4   Justin Bieber            Purpose (Deluxe)  ...              4         0\n",
              "\n",
              "[5 rows x 17 columns]"
            ]
          },
          "metadata": {
            "tags": []
          },
          "execution_count": 10
        }
      ]
    },
    {
      "cell_type": "code",
      "metadata": {
        "id": "myAtj0r-9zLc",
        "colab": {
          "base_uri": "https://localhost:8080/"
        },
        "outputId": "71acef1c-2abc-4a80-95c6-abebe2a526e0"
      },
      "source": [
        "# Dimensions of liked songs dataframe\n",
        "like_songs.shape"
      ],
      "execution_count": null,
      "outputs": [
        {
          "output_type": "execute_result",
          "data": {
            "text/plain": [
              "(100, 17)"
            ]
          },
          "metadata": {
            "tags": []
          },
          "execution_count": 11
        }
      ]
    },
    {
      "cell_type": "code",
      "metadata": {
        "id": "6VBhLpIO9zNe",
        "colab": {
          "base_uri": "https://localhost:8080/"
        },
        "outputId": "83f58ac3-09c6-4ec5-c5e9-1ebd299f7d93"
      },
      "source": [
        "# Dimensions of disliked songs dataframe\n",
        "dislike_songs.shape"
      ],
      "execution_count": null,
      "outputs": [
        {
          "output_type": "execute_result",
          "data": {
            "text/plain": [
              "(100, 17)"
            ]
          },
          "metadata": {
            "tags": []
          },
          "execution_count": 12
        }
      ]
    },
    {
      "cell_type": "code",
      "metadata": {
        "id": "0Rs907hIBikk",
        "colab": {
          "base_uri": "https://localhost:8080/"
        },
        "outputId": "ed90b65c-1de4-4007-bd95-9862c31e21fc"
      },
      "source": [
        "# Combine the liked_songs and disliked_songs dataframe\n",
        "songs = like_songs.append(dislike_songs,ignore_index=False)\n",
        "songs.shape\n",
        "\n",
        "# should be 200 (like_songs+dislike_songs = 200 songs)"
      ],
      "execution_count": null,
      "outputs": [
        {
          "output_type": "execute_result",
          "data": {
            "text/plain": [
              "(200, 17)"
            ]
          },
          "metadata": {
            "tags": []
          },
          "execution_count": 13
        }
      ]
    },
    {
      "cell_type": "code",
      "metadata": {
        "colab": {
          "base_uri": "https://localhost:8080/",
          "height": 445
        },
        "id": "5la6sWrjPhUB",
        "outputId": "9a5c7fe7-b82f-4c48-f147-5ec4189245d7"
      },
      "source": [
        "# First 5 songs of combined dataframe\n",
        "songs.head()"
      ],
      "execution_count": null,
      "outputs": [
        {
          "output_type": "execute_result",
          "data": {
            "text/html": [
              "<div>\n",
              "<style scoped>\n",
              "    .dataframe tbody tr th:only-of-type {\n",
              "        vertical-align: middle;\n",
              "    }\n",
              "\n",
              "    .dataframe tbody tr th {\n",
              "        vertical-align: top;\n",
              "    }\n",
              "\n",
              "    .dataframe thead th {\n",
              "        text-align: right;\n",
              "    }\n",
              "</style>\n",
              "<table border=\"1\" class=\"dataframe\">\n",
              "  <thead>\n",
              "    <tr style=\"text-align: right;\">\n",
              "      <th></th>\n",
              "      <th>artist</th>\n",
              "      <th>album</th>\n",
              "      <th>track_name</th>\n",
              "      <th>track_id</th>\n",
              "      <th>danceability</th>\n",
              "      <th>energy</th>\n",
              "      <th>key</th>\n",
              "      <th>loudness</th>\n",
              "      <th>mode</th>\n",
              "      <th>speechiness</th>\n",
              "      <th>instrumentalness</th>\n",
              "      <th>liveness</th>\n",
              "      <th>valence</th>\n",
              "      <th>tempo</th>\n",
              "      <th>duration_ms</th>\n",
              "      <th>time_signature</th>\n",
              "      <th>song_like</th>\n",
              "    </tr>\n",
              "  </thead>\n",
              "  <tbody>\n",
              "    <tr>\n",
              "      <th>0</th>\n",
              "      <td>Tom Lee Hong Kong Youth NeoWinds Orchestra</td>\n",
              "      <td>2011 WASBE Chiayi City, Taiwan: Tom Lee Hong K...</td>\n",
              "      <td>Hymn to the Sun, \"With the Beat of Mother Earth\"</td>\n",
              "      <td>4olLv2XSxKmEYFeA6JtuJ2</td>\n",
              "      <td>0.161</td>\n",
              "      <td>0.293</td>\n",
              "      <td>7</td>\n",
              "      <td>-15.691</td>\n",
              "      <td>0</td>\n",
              "      <td>0.0415</td>\n",
              "      <td>0.569000</td>\n",
              "      <td>0.6610</td>\n",
              "      <td>0.0572</td>\n",
              "      <td>78.331</td>\n",
              "      <td>561640</td>\n",
              "      <td>4</td>\n",
              "      <td>1</td>\n",
              "    </tr>\n",
              "    <tr>\n",
              "      <th>1</th>\n",
              "      <td>LANY</td>\n",
              "      <td>Malibu Nights</td>\n",
              "      <td>Malibu Nights</td>\n",
              "      <td>0Eqg0CQ7bK3RQIMPw1A7pl</td>\n",
              "      <td>0.559</td>\n",
              "      <td>0.422</td>\n",
              "      <td>11</td>\n",
              "      <td>-11.890</td>\n",
              "      <td>1</td>\n",
              "      <td>0.1950</td>\n",
              "      <td>0.000002</td>\n",
              "      <td>0.0853</td>\n",
              "      <td>0.1910</td>\n",
              "      <td>74.002</td>\n",
              "      <td>286928</td>\n",
              "      <td>4</td>\n",
              "      <td>1</td>\n",
              "    </tr>\n",
              "    <tr>\n",
              "      <th>2</th>\n",
              "      <td>Ed Sheeran</td>\n",
              "      <td>+</td>\n",
              "      <td>Give Me Love</td>\n",
              "      <td>0SuG9kyzGRpDqrCWtgD6Lq</td>\n",
              "      <td>0.526</td>\n",
              "      <td>0.328</td>\n",
              "      <td>1</td>\n",
              "      <td>-9.864</td>\n",
              "      <td>1</td>\n",
              "      <td>0.0461</td>\n",
              "      <td>0.000000</td>\n",
              "      <td>0.1120</td>\n",
              "      <td>0.1100</td>\n",
              "      <td>116.068</td>\n",
              "      <td>526387</td>\n",
              "      <td>4</td>\n",
              "      <td>1</td>\n",
              "    </tr>\n",
              "    <tr>\n",
              "      <th>3</th>\n",
              "      <td>Coastal Communities Concert Band</td>\n",
              "      <td>37th Anniversary Concert 2020</td>\n",
              "      <td>Persis Overture - Live</td>\n",
              "      <td>0U8Di9rRSR7xvxn0fJAaAp</td>\n",
              "      <td>0.318</td>\n",
              "      <td>0.219</td>\n",
              "      <td>7</td>\n",
              "      <td>-17.426</td>\n",
              "      <td>0</td>\n",
              "      <td>0.0406</td>\n",
              "      <td>0.913000</td>\n",
              "      <td>0.7760</td>\n",
              "      <td>0.2930</td>\n",
              "      <td>134.380</td>\n",
              "      <td>500973</td>\n",
              "      <td>4</td>\n",
              "      <td>1</td>\n",
              "    </tr>\n",
              "    <tr>\n",
              "      <th>4</th>\n",
              "      <td>One Direction</td>\n",
              "      <td>Take Me Home (Expanded Edition)</td>\n",
              "      <td>Little Things</td>\n",
              "      <td>0TAmnCzOtqRfvA38DDLTjj</td>\n",
              "      <td>0.709</td>\n",
              "      <td>0.220</td>\n",
              "      <td>7</td>\n",
              "      <td>-11.856</td>\n",
              "      <td>1</td>\n",
              "      <td>0.0327</td>\n",
              "      <td>0.000000</td>\n",
              "      <td>0.1750</td>\n",
              "      <td>0.5300</td>\n",
              "      <td>110.076</td>\n",
              "      <td>219040</td>\n",
              "      <td>4</td>\n",
              "      <td>1</td>\n",
              "    </tr>\n",
              "  </tbody>\n",
              "</table>\n",
              "</div>"
            ],
            "text/plain": [
              "                                       artist  ... song_like\n",
              "0  Tom Lee Hong Kong Youth NeoWinds Orchestra  ...         1\n",
              "1                                        LANY  ...         1\n",
              "2                                  Ed Sheeran  ...         1\n",
              "3            Coastal Communities Concert Band  ...         1\n",
              "4                               One Direction  ...         1\n",
              "\n",
              "[5 rows x 17 columns]"
            ]
          },
          "metadata": {
            "tags": []
          },
          "execution_count": 14
        }
      ]
    },
    {
      "cell_type": "code",
      "metadata": {
        "colab": {
          "base_uri": "https://localhost:8080/",
          "height": 292
        },
        "id": "Du4H8nGfhPEW",
        "outputId": "789da21f-45c9-4fb9-fbf8-6b08ad79050a"
      },
      "source": [
        "# Last 5 songs of combined dataframe\n",
        "songs.tail()"
      ],
      "execution_count": null,
      "outputs": [
        {
          "output_type": "execute_result",
          "data": {
            "text/html": [
              "<div>\n",
              "<style scoped>\n",
              "    .dataframe tbody tr th:only-of-type {\n",
              "        vertical-align: middle;\n",
              "    }\n",
              "\n",
              "    .dataframe tbody tr th {\n",
              "        vertical-align: top;\n",
              "    }\n",
              "\n",
              "    .dataframe thead th {\n",
              "        text-align: right;\n",
              "    }\n",
              "</style>\n",
              "<table border=\"1\" class=\"dataframe\">\n",
              "  <thead>\n",
              "    <tr style=\"text-align: right;\">\n",
              "      <th></th>\n",
              "      <th>artist</th>\n",
              "      <th>album</th>\n",
              "      <th>track_name</th>\n",
              "      <th>track_id</th>\n",
              "      <th>danceability</th>\n",
              "      <th>energy</th>\n",
              "      <th>key</th>\n",
              "      <th>loudness</th>\n",
              "      <th>mode</th>\n",
              "      <th>speechiness</th>\n",
              "      <th>instrumentalness</th>\n",
              "      <th>liveness</th>\n",
              "      <th>valence</th>\n",
              "      <th>tempo</th>\n",
              "      <th>duration_ms</th>\n",
              "      <th>time_signature</th>\n",
              "      <th>song_like</th>\n",
              "    </tr>\n",
              "  </thead>\n",
              "  <tbody>\n",
              "    <tr>\n",
              "      <th>95</th>\n",
              "      <td>Brent Faiyaz</td>\n",
              "      <td>Fuck The World</td>\n",
              "      <td>Let Me Know</td>\n",
              "      <td>0dJhXJKZTpiaxTUc7uItIN</td>\n",
              "      <td>0.743</td>\n",
              "      <td>0.548</td>\n",
              "      <td>6</td>\n",
              "      <td>-6.545</td>\n",
              "      <td>0</td>\n",
              "      <td>0.0947</td>\n",
              "      <td>0.000180</td>\n",
              "      <td>0.088</td>\n",
              "      <td>0.558</td>\n",
              "      <td>85.017</td>\n",
              "      <td>215058</td>\n",
              "      <td>4</td>\n",
              "      <td>0</td>\n",
              "    </tr>\n",
              "    <tr>\n",
              "      <th>96</th>\n",
              "      <td>Mac Miller</td>\n",
              "      <td>Circles</td>\n",
              "      <td>Good News</td>\n",
              "      <td>1DWZUa5Mzf2BwzpHtgbHPY</td>\n",
              "      <td>0.794</td>\n",
              "      <td>0.320</td>\n",
              "      <td>1</td>\n",
              "      <td>-12.920</td>\n",
              "      <td>0</td>\n",
              "      <td>0.1730</td>\n",
              "      <td>0.134000</td>\n",
              "      <td>0.112</td>\n",
              "      <td>0.241</td>\n",
              "      <td>174.088</td>\n",
              "      <td>342040</td>\n",
              "      <td>4</td>\n",
              "      <td>0</td>\n",
              "    </tr>\n",
              "    <tr>\n",
              "      <th>97</th>\n",
              "      <td>Halsey</td>\n",
              "      <td>Manic</td>\n",
              "      <td>You should be sad</td>\n",
              "      <td>7lidXGPXPYLNThITAOTlkK</td>\n",
              "      <td>0.591</td>\n",
              "      <td>0.585</td>\n",
              "      <td>2</td>\n",
              "      <td>-6.350</td>\n",
              "      <td>1</td>\n",
              "      <td>0.0277</td>\n",
              "      <td>0.000000</td>\n",
              "      <td>0.109</td>\n",
              "      <td>0.324</td>\n",
              "      <td>110.940</td>\n",
              "      <td>205473</td>\n",
              "      <td>4</td>\n",
              "      <td>0</td>\n",
              "    </tr>\n",
              "    <tr>\n",
              "      <th>98</th>\n",
              "      <td>H.E.R.</td>\n",
              "      <td>Sometimes</td>\n",
              "      <td>Sometimes</td>\n",
              "      <td>2m0pzukUN2eFutFjnXNFXF</td>\n",
              "      <td>0.540</td>\n",
              "      <td>0.617</td>\n",
              "      <td>3</td>\n",
              "      <td>-7.560</td>\n",
              "      <td>0</td>\n",
              "      <td>0.0723</td>\n",
              "      <td>0.000854</td>\n",
              "      <td>0.109</td>\n",
              "      <td>0.369</td>\n",
              "      <td>151.838</td>\n",
              "      <td>273751</td>\n",
              "      <td>4</td>\n",
              "      <td>0</td>\n",
              "    </tr>\n",
              "    <tr>\n",
              "      <th>99</th>\n",
              "      <td>Chris Brown</td>\n",
              "      <td>Slime &amp; B</td>\n",
              "      <td>Go Crazy</td>\n",
              "      <td>1IIKrJVP1C9N7iPtG6eOsK</td>\n",
              "      <td>0.755</td>\n",
              "      <td>0.578</td>\n",
              "      <td>0</td>\n",
              "      <td>-8.932</td>\n",
              "      <td>0</td>\n",
              "      <td>0.1450</td>\n",
              "      <td>0.000000</td>\n",
              "      <td>0.250</td>\n",
              "      <td>0.581</td>\n",
              "      <td>94.148</td>\n",
              "      <td>176960</td>\n",
              "      <td>4</td>\n",
              "      <td>0</td>\n",
              "    </tr>\n",
              "  </tbody>\n",
              "</table>\n",
              "</div>"
            ],
            "text/plain": [
              "          artist           album  ... time_signature song_like\n",
              "95  Brent Faiyaz  Fuck The World  ...              4         0\n",
              "96    Mac Miller         Circles  ...              4         0\n",
              "97        Halsey           Manic  ...              4         0\n",
              "98        H.E.R.       Sometimes  ...              4         0\n",
              "99   Chris Brown       Slime & B  ...              4         0\n",
              "\n",
              "[5 rows x 17 columns]"
            ]
          },
          "metadata": {
            "tags": []
          },
          "execution_count": 15
        }
      ]
    },
    {
      "cell_type": "code",
      "metadata": {
        "id": "9wQYXNcIBir9",
        "colab": {
          "base_uri": "https://localhost:8080/"
        },
        "outputId": "e0836570-ded7-4461-acf4-01b9a168d390"
      },
      "source": [
        "# Drop duplicated songs\n",
        "songs = songs.drop_duplicates()\n",
        "songs.shape"
      ],
      "execution_count": null,
      "outputs": [
        {
          "output_type": "execute_result",
          "data": {
            "text/plain": [
              "(200, 17)"
            ]
          },
          "metadata": {
            "tags": []
          },
          "execution_count": 16
        }
      ]
    },
    {
      "cell_type": "code",
      "metadata": {
        "id": "Be8yeMCBJ5sa",
        "colab": {
          "base_uri": "https://localhost:8080/",
          "height": 377
        },
        "outputId": "04987011-9e47-46cc-c349-54fd8ecd4f10"
      },
      "source": [
        "# we are predicting whether the user like a song or not\n",
        "# Drop track_id and album columns because not important\n",
        "songs = songs.drop(['track_id','album'], axis = 1)\n",
        "songs.head()"
      ],
      "execution_count": null,
      "outputs": [
        {
          "output_type": "execute_result",
          "data": {
            "text/html": [
              "<div>\n",
              "<style scoped>\n",
              "    .dataframe tbody tr th:only-of-type {\n",
              "        vertical-align: middle;\n",
              "    }\n",
              "\n",
              "    .dataframe tbody tr th {\n",
              "        vertical-align: top;\n",
              "    }\n",
              "\n",
              "    .dataframe thead th {\n",
              "        text-align: right;\n",
              "    }\n",
              "</style>\n",
              "<table border=\"1\" class=\"dataframe\">\n",
              "  <thead>\n",
              "    <tr style=\"text-align: right;\">\n",
              "      <th></th>\n",
              "      <th>artist</th>\n",
              "      <th>track_name</th>\n",
              "      <th>danceability</th>\n",
              "      <th>energy</th>\n",
              "      <th>key</th>\n",
              "      <th>loudness</th>\n",
              "      <th>mode</th>\n",
              "      <th>speechiness</th>\n",
              "      <th>instrumentalness</th>\n",
              "      <th>liveness</th>\n",
              "      <th>valence</th>\n",
              "      <th>tempo</th>\n",
              "      <th>duration_ms</th>\n",
              "      <th>time_signature</th>\n",
              "      <th>song_like</th>\n",
              "    </tr>\n",
              "  </thead>\n",
              "  <tbody>\n",
              "    <tr>\n",
              "      <th>0</th>\n",
              "      <td>Tom Lee Hong Kong Youth NeoWinds Orchestra</td>\n",
              "      <td>Hymn to the Sun, \"With the Beat of Mother Earth\"</td>\n",
              "      <td>0.161</td>\n",
              "      <td>0.293</td>\n",
              "      <td>7</td>\n",
              "      <td>-15.691</td>\n",
              "      <td>0</td>\n",
              "      <td>0.0415</td>\n",
              "      <td>0.569000</td>\n",
              "      <td>0.6610</td>\n",
              "      <td>0.0572</td>\n",
              "      <td>78.331</td>\n",
              "      <td>561640</td>\n",
              "      <td>4</td>\n",
              "      <td>1</td>\n",
              "    </tr>\n",
              "    <tr>\n",
              "      <th>1</th>\n",
              "      <td>LANY</td>\n",
              "      <td>Malibu Nights</td>\n",
              "      <td>0.559</td>\n",
              "      <td>0.422</td>\n",
              "      <td>11</td>\n",
              "      <td>-11.890</td>\n",
              "      <td>1</td>\n",
              "      <td>0.1950</td>\n",
              "      <td>0.000002</td>\n",
              "      <td>0.0853</td>\n",
              "      <td>0.1910</td>\n",
              "      <td>74.002</td>\n",
              "      <td>286928</td>\n",
              "      <td>4</td>\n",
              "      <td>1</td>\n",
              "    </tr>\n",
              "    <tr>\n",
              "      <th>2</th>\n",
              "      <td>Ed Sheeran</td>\n",
              "      <td>Give Me Love</td>\n",
              "      <td>0.526</td>\n",
              "      <td>0.328</td>\n",
              "      <td>1</td>\n",
              "      <td>-9.864</td>\n",
              "      <td>1</td>\n",
              "      <td>0.0461</td>\n",
              "      <td>0.000000</td>\n",
              "      <td>0.1120</td>\n",
              "      <td>0.1100</td>\n",
              "      <td>116.068</td>\n",
              "      <td>526387</td>\n",
              "      <td>4</td>\n",
              "      <td>1</td>\n",
              "    </tr>\n",
              "    <tr>\n",
              "      <th>3</th>\n",
              "      <td>Coastal Communities Concert Band</td>\n",
              "      <td>Persis Overture - Live</td>\n",
              "      <td>0.318</td>\n",
              "      <td>0.219</td>\n",
              "      <td>7</td>\n",
              "      <td>-17.426</td>\n",
              "      <td>0</td>\n",
              "      <td>0.0406</td>\n",
              "      <td>0.913000</td>\n",
              "      <td>0.7760</td>\n",
              "      <td>0.2930</td>\n",
              "      <td>134.380</td>\n",
              "      <td>500973</td>\n",
              "      <td>4</td>\n",
              "      <td>1</td>\n",
              "    </tr>\n",
              "    <tr>\n",
              "      <th>4</th>\n",
              "      <td>One Direction</td>\n",
              "      <td>Little Things</td>\n",
              "      <td>0.709</td>\n",
              "      <td>0.220</td>\n",
              "      <td>7</td>\n",
              "      <td>-11.856</td>\n",
              "      <td>1</td>\n",
              "      <td>0.0327</td>\n",
              "      <td>0.000000</td>\n",
              "      <td>0.1750</td>\n",
              "      <td>0.5300</td>\n",
              "      <td>110.076</td>\n",
              "      <td>219040</td>\n",
              "      <td>4</td>\n",
              "      <td>1</td>\n",
              "    </tr>\n",
              "  </tbody>\n",
              "</table>\n",
              "</div>"
            ],
            "text/plain": [
              "                                       artist  ... song_like\n",
              "0  Tom Lee Hong Kong Youth NeoWinds Orchestra  ...         1\n",
              "1                                        LANY  ...         1\n",
              "2                                  Ed Sheeran  ...         1\n",
              "3            Coastal Communities Concert Band  ...         1\n",
              "4                               One Direction  ...         1\n",
              "\n",
              "[5 rows x 15 columns]"
            ]
          },
          "metadata": {
            "tags": []
          },
          "execution_count": 17
        }
      ]
    },
    {
      "cell_type": "code",
      "metadata": {
        "id": "K6ADr4klCDEy"
      },
      "source": [
        "# drop track_name cuz we are going to build a model\n",
        "# we do not drop previously, cuz we will need track_name and artist to \n",
        "# show case our results\n",
        "prediction = songs.drop(['track_name','artist'], axis = 1)"
      ],
      "execution_count": null,
      "outputs": []
    },
    {
      "cell_type": "code",
      "metadata": {
        "id": "5vYNRmO5CDJy",
        "colab": {
          "base_uri": "https://localhost:8080/",
          "height": 224
        },
        "outputId": "0573dd7a-bbdd-4411-fc65-dcce9e44e3ab"
      },
      "source": [
        "prediction.head()"
      ],
      "execution_count": null,
      "outputs": [
        {
          "output_type": "execute_result",
          "data": {
            "text/html": [
              "<div>\n",
              "<style scoped>\n",
              "    .dataframe tbody tr th:only-of-type {\n",
              "        vertical-align: middle;\n",
              "    }\n",
              "\n",
              "    .dataframe tbody tr th {\n",
              "        vertical-align: top;\n",
              "    }\n",
              "\n",
              "    .dataframe thead th {\n",
              "        text-align: right;\n",
              "    }\n",
              "</style>\n",
              "<table border=\"1\" class=\"dataframe\">\n",
              "  <thead>\n",
              "    <tr style=\"text-align: right;\">\n",
              "      <th></th>\n",
              "      <th>danceability</th>\n",
              "      <th>energy</th>\n",
              "      <th>key</th>\n",
              "      <th>loudness</th>\n",
              "      <th>mode</th>\n",
              "      <th>speechiness</th>\n",
              "      <th>instrumentalness</th>\n",
              "      <th>liveness</th>\n",
              "      <th>valence</th>\n",
              "      <th>tempo</th>\n",
              "      <th>duration_ms</th>\n",
              "      <th>time_signature</th>\n",
              "      <th>song_like</th>\n",
              "    </tr>\n",
              "  </thead>\n",
              "  <tbody>\n",
              "    <tr>\n",
              "      <th>0</th>\n",
              "      <td>0.161</td>\n",
              "      <td>0.293</td>\n",
              "      <td>7</td>\n",
              "      <td>-15.691</td>\n",
              "      <td>0</td>\n",
              "      <td>0.0415</td>\n",
              "      <td>0.569000</td>\n",
              "      <td>0.6610</td>\n",
              "      <td>0.0572</td>\n",
              "      <td>78.331</td>\n",
              "      <td>561640</td>\n",
              "      <td>4</td>\n",
              "      <td>1</td>\n",
              "    </tr>\n",
              "    <tr>\n",
              "      <th>1</th>\n",
              "      <td>0.559</td>\n",
              "      <td>0.422</td>\n",
              "      <td>11</td>\n",
              "      <td>-11.890</td>\n",
              "      <td>1</td>\n",
              "      <td>0.1950</td>\n",
              "      <td>0.000002</td>\n",
              "      <td>0.0853</td>\n",
              "      <td>0.1910</td>\n",
              "      <td>74.002</td>\n",
              "      <td>286928</td>\n",
              "      <td>4</td>\n",
              "      <td>1</td>\n",
              "    </tr>\n",
              "    <tr>\n",
              "      <th>2</th>\n",
              "      <td>0.526</td>\n",
              "      <td>0.328</td>\n",
              "      <td>1</td>\n",
              "      <td>-9.864</td>\n",
              "      <td>1</td>\n",
              "      <td>0.0461</td>\n",
              "      <td>0.000000</td>\n",
              "      <td>0.1120</td>\n",
              "      <td>0.1100</td>\n",
              "      <td>116.068</td>\n",
              "      <td>526387</td>\n",
              "      <td>4</td>\n",
              "      <td>1</td>\n",
              "    </tr>\n",
              "    <tr>\n",
              "      <th>3</th>\n",
              "      <td>0.318</td>\n",
              "      <td>0.219</td>\n",
              "      <td>7</td>\n",
              "      <td>-17.426</td>\n",
              "      <td>0</td>\n",
              "      <td>0.0406</td>\n",
              "      <td>0.913000</td>\n",
              "      <td>0.7760</td>\n",
              "      <td>0.2930</td>\n",
              "      <td>134.380</td>\n",
              "      <td>500973</td>\n",
              "      <td>4</td>\n",
              "      <td>1</td>\n",
              "    </tr>\n",
              "    <tr>\n",
              "      <th>4</th>\n",
              "      <td>0.709</td>\n",
              "      <td>0.220</td>\n",
              "      <td>7</td>\n",
              "      <td>-11.856</td>\n",
              "      <td>1</td>\n",
              "      <td>0.0327</td>\n",
              "      <td>0.000000</td>\n",
              "      <td>0.1750</td>\n",
              "      <td>0.5300</td>\n",
              "      <td>110.076</td>\n",
              "      <td>219040</td>\n",
              "      <td>4</td>\n",
              "      <td>1</td>\n",
              "    </tr>\n",
              "  </tbody>\n",
              "</table>\n",
              "</div>"
            ],
            "text/plain": [
              "   danceability  energy  key  ...  duration_ms  time_signature  song_like\n",
              "0         0.161   0.293    7  ...       561640               4          1\n",
              "1         0.559   0.422   11  ...       286928               4          1\n",
              "2         0.526   0.328    1  ...       526387               4          1\n",
              "3         0.318   0.219    7  ...       500973               4          1\n",
              "4         0.709   0.220    7  ...       219040               4          1\n",
              "\n",
              "[5 rows x 13 columns]"
            ]
          },
          "metadata": {
            "tags": []
          },
          "execution_count": 19
        }
      ]
    },
    {
      "cell_type": "markdown",
      "metadata": {
        "id": "dr7eWmpuib-s"
      },
      "source": [
        "**Data Visualization**"
      ]
    },
    {
      "cell_type": "code",
      "metadata": {
        "id": "hXh7AmKMK1-N"
      },
      "source": [
        "# Import packages\n",
        "import matplotlib.pyplot as plt\n",
        "import seaborn as sns"
      ],
      "execution_count": null,
      "outputs": []
    },
    {
      "cell_type": "code",
      "metadata": {
        "colab": {
          "base_uri": "https://localhost:8080/",
          "height": 401
        },
        "id": "JaigPjWRaSOu",
        "outputId": "c191e608-9903-400f-ac58-4f823e82e4c3"
      },
      "source": [
        "# Сorrelation matrix\n",
        "plt.figure(figsize=[7,5])\n",
        "sns.heatmap(like_songs.corr())\n",
        "plt.show()"
      ],
      "execution_count": null,
      "outputs": [
        {
          "output_type": "display_data",
          "data": {
            "image/png": "[encoded data removed]",
            "text/plain": [
              "<Figure size 504x360 with 2 Axes>"
            ]
          },
          "metadata": {
            "tags": [],
            "needs_background": "light"
          }
        }
      ]
    },
    {
      "cell_type": "code",
      "metadata": {
        "colab": {
          "base_uri": "https://localhost:8080/",
          "height": 721
        },
        "id": "kux1QktGcQDt",
        "outputId": "2bbca4ab-6af4-493d-bbb9-c35b86b69d09"
      },
      "source": [
        "# Bar chart showing artists with a higher song count in our liked songs playlist\n",
        "fig = plt.figure(figsize = (15,7))\n",
        "like_songs.groupby('artist')['track_name'].agg(len).sort_values(ascending = False).plot(kind = 'bar')\n",
        "plt.xlabel('Artist', fontsize = 20)\n",
        "plt.ylabel('Count of songs', fontsize = 20)\n",
        "plt.title('Artist Name vs Count of songs', fontsize = 30)"
      ],
      "execution_count": null,
      "outputs": [
        {
          "output_type": "execute_result",
          "data": {
            "text/plain": [
              "Text(0.5, 1.0, 'Artist Name vs Count of songs')"
            ]
          },
          "metadata": {
            "tags": []
          },
          "execution_count": 22
        },
        {
          "output_type": "display_data",
          "data": {
            "image/png": "[encoded data removed]",
            "text/plain": [
              "<Figure size 1080x504 with 1 Axes>"
            ]
          },
          "metadata": {
            "tags": [],
            "needs_background": "light"
          }
        }
      ]
    },
    {
      "cell_type": "code",
      "metadata": {
        "id": "F5THNe7U1Ggw"
      },
      "source": [
        "# Object data to category\n",
        "for col in like_songs.select_dtypes(include=['object']).columns:\n",
        "   like_songs[col] = like_songs[col].astype('category')\n",
        "    \n",
        "# Encoding categorical features\n",
        "for col in like_songs.select_dtypes(include=['category']).columns:\n",
        "   like_songs[col] = like_songs[col].cat.codes"
      ],
      "execution_count": null,
      "outputs": []
    },
    {
      "cell_type": "code",
      "metadata": {
        "colab": {
          "base_uri": "https://localhost:8080/",
          "height": 296
        },
        "id": "x14IPbDa1ZvY",
        "outputId": "0f4b07b7-204f-42e0-ca84-ed17d34c054d"
      },
      "source": [
        "# Scatter plot showing relationship between loudness and energy of our liked songs\n",
        "sns.scatterplot(data=like_songs, x='loudness', y='energy', hue='track_name')"
      ],
      "execution_count": null,
      "outputs": [
        {
          "output_type": "execute_result",
          "data": {
            "text/plain": [
              "<matplotlib.axes._subplots.AxesSubplot at 0x7f21a6cd52b0>"
            ]
          },
          "metadata": {
            "tags": []
          },
          "execution_count": 24
        },
        {
          "output_type": "display_data",
          "data": {
            "image/png": "[encoded data removed]",
            "text/plain": [
              "<Figure size 432x288 with 1 Axes>"
            ]
          },
          "metadata": {
            "tags": [],
            "needs_background": "light"
          }
        }
      ]
    },
    {
      "cell_type": "code",
      "metadata": {
        "id": "__sfUH98K2Cu",
        "colab": {
          "base_uri": "https://localhost:8080/",
          "height": 560
        },
        "outputId": "87b10dda-0203-4249-806f-cc799cd7e337"
      },
      "source": [
        "# Visualization of danceability, energy, key and loudness song data\n",
        "plt.figure(figsize=(16,16))\n",
        "plt.subplot(4,4,1)\n",
        "sns.distplot(songs[songs['song_like']==1]['danceability'], color='red', bins=40)\n",
        "sns.distplot(songs[songs['song_like']==0]['danceability'], color='blue', bins=40)\n",
        "plt.subplot(4,4,2)\n",
        "sns.distplot(songs[songs['song_like']==1]['energy'], color='red', bins=40)\n",
        "sns.distplot(songs[songs['song_like']==0]['energy'], color='blue', bins=40)\n",
        "plt.subplot(4,4,3)\n",
        "sns.distplot(songs[songs['song_like']==1]['key'], color='red', bins=40)\n",
        "sns.distplot(songs[songs['song_like']==0]['key'], color='blue', bins=40)\n",
        "plt.subplot(4,4,4)\n",
        "sns.distplot(songs[songs['song_like']==1]['loudness'], color='red', bins=40)\n",
        "sns.distplot(songs[songs['song_like']==0]['loudness'], color='blue', bins=40)\n",
        "plt.legend((1,0))"
      ],
      "execution_count": null,
      "outputs": [
        {
          "output_type": "stream",
          "text": [
            "/usr/local/lib/python3.6/dist-packages/seaborn/distributions.py:2551: FutureWarning: `distplot` is a deprecated function and will be removed in a future version. Please adapt your code to use either `displot` (a figure-level function with similar flexibility) or `histplot` (an axes-level function for histograms).\n",
            "  warnings.warn(msg, FutureWarning)\n",
            "/usr/local/lib/python3.6/dist-packages/seaborn/distributions.py:2551: FutureWarning: `distplot` is a deprecated function and will be removed in a future version. Please adapt your code to use either `displot` (a figure-level function with similar flexibility) or `histplot` (an axes-level function for histograms).\n",
            "  warnings.warn(msg, FutureWarning)\n",
            "/usr/local/lib/python3.6/dist-packages/seaborn/distributions.py:2551: FutureWarning: `distplot` is a deprecated function and will be removed in a future version. Please adapt your code to use either `displot` (a figure-level function with similar flexibility) or `histplot` (an axes-level function for histograms).\n",
            "  warnings.warn(msg, FutureWarning)\n",
            "/usr/local/lib/python3.6/dist-packages/seaborn/distributions.py:2551: FutureWarning: `distplot` is a deprecated function and will be removed in a future version. Please adapt your code to use either `displot` (a figure-level function with similar flexibility) or `histplot` (an axes-level function for histograms).\n",
            "  warnings.warn(msg, FutureWarning)\n",
            "/usr/local/lib/python3.6/dist-packages/seaborn/distributions.py:2551: FutureWarning: `distplot` is a deprecated function and will be removed in a future version. Please adapt your code to use either `displot` (a figure-level function with similar flexibility) or `histplot` (an axes-level function for histograms).\n",
            "  warnings.warn(msg, FutureWarning)\n",
            "/usr/local/lib/python3.6/dist-packages/seaborn/distributions.py:2551: FutureWarning: `distplot` is a deprecated function and will be removed in a future version. Please adapt your code to use either `displot` (a figure-level function with similar flexibility) or `histplot` (an axes-level function for histograms).\n",
            "  warnings.warn(msg, FutureWarning)\n",
            "/usr/local/lib/python3.6/dist-packages/seaborn/distributions.py:2551: FutureWarning: `distplot` is a deprecated function and will be removed in a future version. Please adapt your code to use either `displot` (a figure-level function with similar flexibility) or `histplot` (an axes-level function for histograms).\n",
            "  warnings.warn(msg, FutureWarning)\n",
            "/usr/local/lib/python3.6/dist-packages/seaborn/distributions.py:2551: FutureWarning: `distplot` is a deprecated function and will be removed in a future version. Please adapt your code to use either `displot` (a figure-level function with similar flexibility) or `histplot` (an axes-level function for histograms).\n",
            "  warnings.warn(msg, FutureWarning)\n"
          ],
          "name": "stderr"
        },
        {
          "output_type": "execute_result",
          "data": {
            "text/plain": [
              "<matplotlib.legend.Legend at 0x7f21a4691b00>"
            ]
          },
          "metadata": {
            "tags": []
          },
          "execution_count": 25
        },
        {
          "output_type": "display_data",
          "data": {
            "image/png": "[encoded data removed]",
            "text/plain": [
              "<Figure size 1152x1152 with 4 Axes>"
            ]
          },
          "metadata": {
            "tags": [],
            "needs_background": "light"
          }
        }
      ]
    },
    {
      "cell_type": "code",
      "metadata": {
        "id": "1BI6uszvK2Ee",
        "colab": {
          "base_uri": "https://localhost:8080/",
          "height": 572
        },
        "outputId": "9be4d9fb-63d5-4a0b-e6ec-06e1095eb130"
      },
      "source": [
        " # Visualization of valence, tempo, duration_ms and time signature data\n",
        "plt.figure(figsize=(16,16))\n",
        "plt.subplot(4,4,1)\n",
        "sns.distplot(songs[songs['song_like']==1]['valence'], color='red', bins=40)\n",
        "sns.distplot(songs[songs['song_like']==0]['valence'], color='blue', bins=40)\n",
        "plt.subplot(4,4,2)\n",
        "sns.distplot(songs[songs['song_like']==1]['tempo'], color='red', bins=40)\n",
        "sns.distplot(songs[songs['song_like']==0]['tempo'], color='blue', bins=40)\n",
        "plt.subplot(4,4,3)\n",
        "sns.distplot(songs[songs['song_like']==1]['duration_ms'], color='red', bins=40)\n",
        "sns.distplot(songs[songs['song_like']==0]['duration_ms'], color='blue', bins=40)\n",
        "plt.subplot(4,4,4)\n",
        "sns.distplot(songs[songs['song_like']==1]['time_signature'], color='red', bins=40)\n",
        "sns.distplot(songs[songs['song_like']==0]['time_signature'], color='blue', bins=40)\n",
        "plt.legend((1,0))"
      ],
      "execution_count": null,
      "outputs": [
        {
          "output_type": "stream",
          "text": [
            "/usr/local/lib/python3.6/dist-packages/seaborn/distributions.py:2551: FutureWarning: `distplot` is a deprecated function and will be removed in a future version. Please adapt your code to use either `displot` (a figure-level function with similar flexibility) or `histplot` (an axes-level function for histograms).\n",
            "  warnings.warn(msg, FutureWarning)\n",
            "/usr/local/lib/python3.6/dist-packages/seaborn/distributions.py:2551: FutureWarning: `distplot` is a deprecated function and will be removed in a future version. Please adapt your code to use either `displot` (a figure-level function with similar flexibility) or `histplot` (an axes-level function for histograms).\n",
            "  warnings.warn(msg, FutureWarning)\n",
            "/usr/local/lib/python3.6/dist-packages/seaborn/distributions.py:2551: FutureWarning: `distplot` is a deprecated function and will be removed in a future version. Please adapt your code to use either `displot` (a figure-level function with similar flexibility) or `histplot` (an axes-level function for histograms).\n",
            "  warnings.warn(msg, FutureWarning)\n",
            "/usr/local/lib/python3.6/dist-packages/seaborn/distributions.py:2551: FutureWarning: `distplot` is a deprecated function and will be removed in a future version. Please adapt your code to use either `displot` (a figure-level function with similar flexibility) or `histplot` (an axes-level function for histograms).\n",
            "  warnings.warn(msg, FutureWarning)\n",
            "/usr/local/lib/python3.6/dist-packages/seaborn/distributions.py:2551: FutureWarning: `distplot` is a deprecated function and will be removed in a future version. Please adapt your code to use either `displot` (a figure-level function with similar flexibility) or `histplot` (an axes-level function for histograms).\n",
            "  warnings.warn(msg, FutureWarning)\n",
            "/usr/local/lib/python3.6/dist-packages/seaborn/distributions.py:2551: FutureWarning: `distplot` is a deprecated function and will be removed in a future version. Please adapt your code to use either `displot` (a figure-level function with similar flexibility) or `histplot` (an axes-level function for histograms).\n",
            "  warnings.warn(msg, FutureWarning)\n",
            "/usr/local/lib/python3.6/dist-packages/seaborn/distributions.py:2551: FutureWarning: `distplot` is a deprecated function and will be removed in a future version. Please adapt your code to use either `displot` (a figure-level function with similar flexibility) or `histplot` (an axes-level function for histograms).\n",
            "  warnings.warn(msg, FutureWarning)\n",
            "/usr/local/lib/python3.6/dist-packages/seaborn/distributions.py:2551: FutureWarning: `distplot` is a deprecated function and will be removed in a future version. Please adapt your code to use either `displot` (a figure-level function with similar flexibility) or `histplot` (an axes-level function for histograms).\n",
            "  warnings.warn(msg, FutureWarning)\n"
          ],
          "name": "stderr"
        },
        {
          "output_type": "execute_result",
          "data": {
            "text/plain": [
              "<matplotlib.legend.Legend at 0x7f21a42e5710>"
            ]
          },
          "metadata": {
            "tags": []
          },
          "execution_count": 26
        },
        {
          "output_type": "display_data",
          "data": {
            "image/png": "[encoded data removed]",
            "text/plain": [
              "<Figure size 1152x1152 with 4 Axes>"
            ]
          },
          "metadata": {
            "tags": [],
            "needs_background": "light"
          }
        }
      ]
    },
    {
      "cell_type": "code",
      "metadata": {
        "id": "WRcOJoEsK110",
        "colab": {
          "base_uri": "https://localhost:8080/",
          "height": 523
        },
        "outputId": "e830803e-08c6-4101-d856-f0b30ec3cd51"
      },
      "source": [
        "# Loudness of songs based on artists\n",
        "plt.figure(figsize=(16, 8))\n",
        "sns.set(style=\"whitegrid\")\n",
        "columns = [\"loudness\"]\n",
        "for col in columns:\n",
        "    x = like_songs.groupby(\"artist\")[col].mean()\n",
        "    ax= sns.lineplot(x=x.index,y=x,label=col)\n",
        "ax.set_title('loudness of songs based on artists')\n",
        "ax.set_ylabel('Count')\n",
        "ax.set_xlabel('artist')"
      ],
      "execution_count": null,
      "outputs": [
        {
          "output_type": "execute_result",
          "data": {
            "text/plain": [
              "Text(0.5, 0, 'artist')"
            ]
          },
          "metadata": {
            "tags": []
          },
          "execution_count": 27
        },
        {
          "output_type": "display_data",
          "data": {
            "image/png": "[encoded data removed]",
            "text/plain": [
              "<Figure size 1152x576 with 1 Axes>"
            ]
          },
          "metadata": {
            "tags": [],
            "needs_background": "light"
          }
        }
      ]
    },
    {
      "cell_type": "markdown",
      "metadata": {
        "id": "ZZZI8Q41mnEH"
      },
      "source": [
        "**Building Machine Learning Models**"
      ]
    },
    {
      "cell_type": "markdown",
      "metadata": {
        "id": "0py0uzNHmwCK"
      },
      "source": [
        "**1. Logistic Regression**"
      ]
    },
    {
      "cell_type": "code",
      "metadata": {
        "id": "WDn6rLn1CDLw"
      },
      "source": [
        "# four new df are created for building the classifier\n",
        "X_train = prediction.drop('song_like', axis=1)\n",
        "X_test = songs.drop(['song_like','track_name','artist'], axis=1)\n",
        "y_train = prediction['song_like']\n",
        "y_test = songs['song_like']"
      ],
      "execution_count": null,
      "outputs": []
    },
    {
      "cell_type": "code",
      "metadata": {
        "id": "AB4x6byBFdAn",
        "colab": {
          "base_uri": "https://localhost:8080/",
          "height": 224
        },
        "outputId": "3bdbbc52-e056-4866-a9b3-95d181c7b6e3"
      },
      "source": [
        "X_train.head()"
      ],
      "execution_count": null,
      "outputs": [
        {
          "output_type": "execute_result",
          "data": {
            "text/html": [
              "<div>\n",
              "<style scoped>\n",
              "    .dataframe tbody tr th:only-of-type {\n",
              "        vertical-align: middle;\n",
              "    }\n",
              "\n",
              "    .dataframe tbody tr th {\n",
              "        vertical-align: top;\n",
              "    }\n",
              "\n",
              "    .dataframe thead th {\n",
              "        text-align: right;\n",
              "    }\n",
              "</style>\n",
              "<table border=\"1\" class=\"dataframe\">\n",
              "  <thead>\n",
              "    <tr style=\"text-align: right;\">\n",
              "      <th></th>\n",
              "      <th>danceability</th>\n",
              "      <th>energy</th>\n",
              "      <th>key</th>\n",
              "      <th>loudness</th>\n",
              "      <th>mode</th>\n",
              "      <th>speechiness</th>\n",
              "      <th>instrumentalness</th>\n",
              "      <th>liveness</th>\n",
              "      <th>valence</th>\n",
              "      <th>tempo</th>\n",
              "      <th>duration_ms</th>\n",
              "      <th>time_signature</th>\n",
              "    </tr>\n",
              "  </thead>\n",
              "  <tbody>\n",
              "    <tr>\n",
              "      <th>0</th>\n",
              "      <td>0.161</td>\n",
              "      <td>0.293</td>\n",
              "      <td>7</td>\n",
              "      <td>-15.691</td>\n",
              "      <td>0</td>\n",
              "      <td>0.0415</td>\n",
              "      <td>0.569000</td>\n",
              "      <td>0.6610</td>\n",
              "      <td>0.0572</td>\n",
              "      <td>78.331</td>\n",
              "      <td>561640</td>\n",
              "      <td>4</td>\n",
              "    </tr>\n",
              "    <tr>\n",
              "      <th>1</th>\n",
              "      <td>0.559</td>\n",
              "      <td>0.422</td>\n",
              "      <td>11</td>\n",
              "      <td>-11.890</td>\n",
              "      <td>1</td>\n",
              "      <td>0.1950</td>\n",
              "      <td>0.000002</td>\n",
              "      <td>0.0853</td>\n",
              "      <td>0.1910</td>\n",
              "      <td>74.002</td>\n",
              "      <td>286928</td>\n",
              "      <td>4</td>\n",
              "    </tr>\n",
              "    <tr>\n",
              "      <th>2</th>\n",
              "      <td>0.526</td>\n",
              "      <td>0.328</td>\n",
              "      <td>1</td>\n",
              "      <td>-9.864</td>\n",
              "      <td>1</td>\n",
              "      <td>0.0461</td>\n",
              "      <td>0.000000</td>\n",
              "      <td>0.1120</td>\n",
              "      <td>0.1100</td>\n",
              "      <td>116.068</td>\n",
              "      <td>526387</td>\n",
              "      <td>4</td>\n",
              "    </tr>\n",
              "    <tr>\n",
              "      <th>3</th>\n",
              "      <td>0.318</td>\n",
              "      <td>0.219</td>\n",
              "      <td>7</td>\n",
              "      <td>-17.426</td>\n",
              "      <td>0</td>\n",
              "      <td>0.0406</td>\n",
              "      <td>0.913000</td>\n",
              "      <td>0.7760</td>\n",
              "      <td>0.2930</td>\n",
              "      <td>134.380</td>\n",
              "      <td>500973</td>\n",
              "      <td>4</td>\n",
              "    </tr>\n",
              "    <tr>\n",
              "      <th>4</th>\n",
              "      <td>0.709</td>\n",
              "      <td>0.220</td>\n",
              "      <td>7</td>\n",
              "      <td>-11.856</td>\n",
              "      <td>1</td>\n",
              "      <td>0.0327</td>\n",
              "      <td>0.000000</td>\n",
              "      <td>0.1750</td>\n",
              "      <td>0.5300</td>\n",
              "      <td>110.076</td>\n",
              "      <td>219040</td>\n",
              "      <td>4</td>\n",
              "    </tr>\n",
              "  </tbody>\n",
              "</table>\n",
              "</div>"
            ],
            "text/plain": [
              "   danceability  energy  key  ...    tempo  duration_ms  time_signature\n",
              "0         0.161   0.293    7  ...   78.331       561640               4\n",
              "1         0.559   0.422   11  ...   74.002       286928               4\n",
              "2         0.526   0.328    1  ...  116.068       526387               4\n",
              "3         0.318   0.219    7  ...  134.380       500973               4\n",
              "4         0.709   0.220    7  ...  110.076       219040               4\n",
              "\n",
              "[5 rows x 12 columns]"
            ]
          },
          "metadata": {
            "tags": []
          },
          "execution_count": 29
        }
      ]
    },
    {
      "cell_type": "code",
      "metadata": {
        "id": "de7eIZfdFdQQ",
        "colab": {
          "base_uri": "https://localhost:8080/",
          "height": 224
        },
        "outputId": "412cdc1f-581f-4e2c-db6f-e8e64df6534b"
      },
      "source": [
        "X_test.head()"
      ],
      "execution_count": null,
      "outputs": [
        {
          "output_type": "execute_result",
          "data": {
            "text/html": [
              "<div>\n",
              "<style scoped>\n",
              "    .dataframe tbody tr th:only-of-type {\n",
              "        vertical-align: middle;\n",
              "    }\n",
              "\n",
              "    .dataframe tbody tr th {\n",
              "        vertical-align: top;\n",
              "    }\n",
              "\n",
              "    .dataframe thead th {\n",
              "        text-align: right;\n",
              "    }\n",
              "</style>\n",
              "<table border=\"1\" class=\"dataframe\">\n",
              "  <thead>\n",
              "    <tr style=\"text-align: right;\">\n",
              "      <th></th>\n",
              "      <th>danceability</th>\n",
              "      <th>energy</th>\n",
              "      <th>key</th>\n",
              "      <th>loudness</th>\n",
              "      <th>mode</th>\n",
              "      <th>speechiness</th>\n",
              "      <th>instrumentalness</th>\n",
              "      <th>liveness</th>\n",
              "      <th>valence</th>\n",
              "      <th>tempo</th>\n",
              "      <th>duration_ms</th>\n",
              "      <th>time_signature</th>\n",
              "    </tr>\n",
              "  </thead>\n",
              "  <tbody>\n",
              "    <tr>\n",
              "      <th>0</th>\n",
              "      <td>0.161</td>\n",
              "      <td>0.293</td>\n",
              "      <td>7</td>\n",
              "      <td>-15.691</td>\n",
              "      <td>0</td>\n",
              "      <td>0.0415</td>\n",
              "      <td>0.569000</td>\n",
              "      <td>0.6610</td>\n",
              "      <td>0.0572</td>\n",
              "      <td>78.331</td>\n",
              "      <td>561640</td>\n",
              "      <td>4</td>\n",
              "    </tr>\n",
              "    <tr>\n",
              "      <th>1</th>\n",
              "      <td>0.559</td>\n",
              "      <td>0.422</td>\n",
              "      <td>11</td>\n",
              "      <td>-11.890</td>\n",
              "      <td>1</td>\n",
              "      <td>0.1950</td>\n",
              "      <td>0.000002</td>\n",
              "      <td>0.0853</td>\n",
              "      <td>0.1910</td>\n",
              "      <td>74.002</td>\n",
              "      <td>286928</td>\n",
              "      <td>4</td>\n",
              "    </tr>\n",
              "    <tr>\n",
              "      <th>2</th>\n",
              "      <td>0.526</td>\n",
              "      <td>0.328</td>\n",
              "      <td>1</td>\n",
              "      <td>-9.864</td>\n",
              "      <td>1</td>\n",
              "      <td>0.0461</td>\n",
              "      <td>0.000000</td>\n",
              "      <td>0.1120</td>\n",
              "      <td>0.1100</td>\n",
              "      <td>116.068</td>\n",
              "      <td>526387</td>\n",
              "      <td>4</td>\n",
              "    </tr>\n",
              "    <tr>\n",
              "      <th>3</th>\n",
              "      <td>0.318</td>\n",
              "      <td>0.219</td>\n",
              "      <td>7</td>\n",
              "      <td>-17.426</td>\n",
              "      <td>0</td>\n",
              "      <td>0.0406</td>\n",
              "      <td>0.913000</td>\n",
              "      <td>0.7760</td>\n",
              "      <td>0.2930</td>\n",
              "      <td>134.380</td>\n",
              "      <td>500973</td>\n",
              "      <td>4</td>\n",
              "    </tr>\n",
              "    <tr>\n",
              "      <th>4</th>\n",
              "      <td>0.709</td>\n",
              "      <td>0.220</td>\n",
              "      <td>7</td>\n",
              "      <td>-11.856</td>\n",
              "      <td>1</td>\n",
              "      <td>0.0327</td>\n",
              "      <td>0.000000</td>\n",
              "      <td>0.1750</td>\n",
              "      <td>0.5300</td>\n",
              "      <td>110.076</td>\n",
              "      <td>219040</td>\n",
              "      <td>4</td>\n",
              "    </tr>\n",
              "  </tbody>\n",
              "</table>\n",
              "</div>"
            ],
            "text/plain": [
              "   danceability  energy  key  ...    tempo  duration_ms  time_signature\n",
              "0         0.161   0.293    7  ...   78.331       561640               4\n",
              "1         0.559   0.422   11  ...   74.002       286928               4\n",
              "2         0.526   0.328    1  ...  116.068       526387               4\n",
              "3         0.318   0.219    7  ...  134.380       500973               4\n",
              "4         0.709   0.220    7  ...  110.076       219040               4\n",
              "\n",
              "[5 rows x 12 columns]"
            ]
          },
          "metadata": {
            "tags": []
          },
          "execution_count": 30
        }
      ]
    },
    {
      "cell_type": "code",
      "metadata": {
        "id": "IqHoKmSDFdFo",
        "colab": {
          "base_uri": "https://localhost:8080/"
        },
        "outputId": "66d18b82-609a-440c-f430-e71bdab2c148"
      },
      "source": [
        "y_train.tail()"
      ],
      "execution_count": null,
      "outputs": [
        {
          "output_type": "execute_result",
          "data": {
            "text/plain": [
              "95    0\n",
              "96    0\n",
              "97    0\n",
              "98    0\n",
              "99    0\n",
              "Name: song_like, dtype: int64"
            ]
          },
          "metadata": {
            "tags": []
          },
          "execution_count": 31
        }
      ]
    },
    {
      "cell_type": "code",
      "metadata": {
        "id": "qnoUL5ltFkyD",
        "colab": {
          "base_uri": "https://localhost:8080/"
        },
        "outputId": "1fb8bc93-d5b0-417f-fcc6-310a540f9207"
      },
      "source": [
        "y_test.head()"
      ],
      "execution_count": null,
      "outputs": [
        {
          "output_type": "execute_result",
          "data": {
            "text/plain": [
              "0    1\n",
              "1    1\n",
              "2    1\n",
              "3    1\n",
              "4    1\n",
              "Name: song_like, dtype: int64"
            ]
          },
          "metadata": {
            "tags": []
          },
          "execution_count": 32
        }
      ]
    },
    {
      "cell_type": "code",
      "metadata": {
        "id": "QlQl7blkFk8X"
      },
      "source": [
        "# Import packages for logistic regression\n",
        "from sklearn.model_selection import train_test_split\n",
        "from sklearn.metrics import confusion_matrix, classification_report\n",
        "from sklearn.linear_model import LogisticRegression"
      ],
      "execution_count": null,
      "outputs": []
    },
    {
      "cell_type": "code",
      "metadata": {
        "id": "n-Xj1LXXFuNg",
        "colab": {
          "base_uri": "https://localhost:8080/"
        },
        "outputId": "6eddea63-507b-49d6-b1c8-4dcc0be116e6"
      },
      "source": [
        "# create model and fitted over the data\n",
        "lr_model = LogisticRegression()\n",
        "lr_model.fit(X_train, y_train)"
      ],
      "execution_count": null,
      "outputs": [
        {
          "output_type": "execute_result",
          "data": {
            "text/plain": [
              "LogisticRegression(C=1.0, class_weight=None, dual=False, fit_intercept=True,\n",
              "                   intercept_scaling=1, l1_ratio=None, max_iter=100,\n",
              "                   multi_class='auto', n_jobs=None, penalty='l2',\n",
              "                   random_state=None, solver='lbfgs', tol=0.0001, verbose=0,\n",
              "                   warm_start=False)"
            ]
          },
          "metadata": {
            "tags": []
          },
          "execution_count": 34
        }
      ]
    },
    {
      "cell_type": "markdown",
      "metadata": {
        "id": "Owy4J8EfZFRr"
      },
      "source": [
        "Checking the model by analyze its performance with confusion matrix and classification report\n",
        "1. precision --> correctly predicted positive observations to the total predicted positive observations\n",
        "2. recall --> ratio of correctly predicted positive observations to all observations\n",
        "3. f1 score --> weighted average of precision and recall (accuracy of the model)"
      ]
    },
    {
      "cell_type": "code",
      "metadata": {
        "id": "a_HqLPR-FuQZ",
        "colab": {
          "base_uri": "https://localhost:8080/"
        },
        "outputId": "12284600-a897-41cb-9340-f9c70d04a253"
      },
      "source": [
        "lr_pred = lr_model.predict(X_test)\n",
        "print(confusion_matrix(y_test, lr_pred))\n",
        "print('\\n') # space\n",
        "print(classification_report(y_test, lr_pred))"
      ],
      "execution_count": null,
      "outputs": [
        {
          "output_type": "stream",
          "text": [
            "[[65 35]\n",
            " [37 63]]\n",
            "\n",
            "\n",
            "              precision    recall  f1-score   support\n",
            "\n",
            "           0       0.64      0.65      0.64       100\n",
            "           1       0.64      0.63      0.64       100\n",
            "\n",
            "    accuracy                           0.64       200\n",
            "   macro avg       0.64      0.64      0.64       200\n",
            "weighted avg       0.64      0.64      0.64       200\n",
            "\n"
          ],
          "name": "stdout"
        }
      ]
    },
    {
      "cell_type": "markdown",
      "metadata": {
        "id": "vQW9RaqVeYML"
      },
      "source": [
        "Based on f1-score, the accuracy of this model is 64%"
      ]
    },
    {
      "cell_type": "markdown",
      "metadata": {
        "id": "HOi8PlazqlmF"
      },
      "source": [
        "**2. K-Nearest Neighbours (KNN)**"
      ]
    },
    {
      "cell_type": "code",
      "metadata": {
        "id": "uphSjuPyFk_h"
      },
      "source": [
        "# Import packages\n",
        "from sklearn.neighbors import KNeighborsClassifier "
      ],
      "execution_count": null,
      "outputs": []
    },
    {
      "cell_type": "code",
      "metadata": {
        "id": "T34CcUigGK2b",
        "colab": {
          "base_uri": "https://localhost:8080/"
        },
        "outputId": "1c172b86-cbfe-4231-cbca-3758e8ce7a53"
      },
      "source": [
        "# create model and fitted\n",
        "knn_model = KNeighborsClassifier() \n",
        "knn_model.fit(X_train, y_train) "
      ],
      "execution_count": null,
      "outputs": [
        {
          "output_type": "execute_result",
          "data": {
            "text/plain": [
              "KNeighborsClassifier(algorithm='auto', leaf_size=30, metric='minkowski',\n",
              "                     metric_params=None, n_jobs=None, n_neighbors=5, p=2,\n",
              "                     weights='uniform')"
            ]
          },
          "metadata": {
            "tags": []
          },
          "execution_count": 37
        }
      ]
    },
    {
      "cell_type": "code",
      "metadata": {
        "id": "iuSh56KQGLIq",
        "colab": {
          "base_uri": "https://localhost:8080/"
        },
        "outputId": "427a5702-c667-49ba-b6c9-b8f6fc94024c"
      },
      "source": [
        "# checking the model performances\n",
        "knn_pred = knn_model.predict(X_test)\n",
        "print(confusion_matrix(y_test, knn_pred))\n",
        "print('\\n')\n",
        "print(classification_report(y_test, knn_pred))"
      ],
      "execution_count": null,
      "outputs": [
        {
          "output_type": "stream",
          "text": [
            "[[72 28]\n",
            " [30 70]]\n",
            "\n",
            "\n",
            "              precision    recall  f1-score   support\n",
            "\n",
            "           0       0.71      0.72      0.71       100\n",
            "           1       0.71      0.70      0.71       100\n",
            "\n",
            "    accuracy                           0.71       200\n",
            "   macro avg       0.71      0.71      0.71       200\n",
            "weighted avg       0.71      0.71      0.71       200\n",
            "\n"
          ],
          "name": "stdout"
        }
      ]
    },
    {
      "cell_type": "markdown",
      "metadata": {
        "id": "9oVgiINHeSWD"
      },
      "source": [
        "Based on f1-score, the accuracy of this model is 71%"
      ]
    },
    {
      "cell_type": "markdown",
      "metadata": {
        "id": "ljy92L1ZZkwy"
      },
      "source": [
        "**3. XG Boost**"
      ]
    },
    {
      "cell_type": "code",
      "metadata": {
        "id": "9UbOlbylZpAa"
      },
      "source": [
        "# import xgboost\n",
        "import xgboost as xgb"
      ],
      "execution_count": null,
      "outputs": []
    },
    {
      "cell_type": "code",
      "metadata": {
        "colab": {
          "base_uri": "https://localhost:8080/"
        },
        "id": "JxFA0RrNZrSH",
        "outputId": "d06968b7-de28-48bd-904a-2b6fef5e913b"
      },
      "source": [
        "# create model and fitted\n",
        "xgb_model = xgb.XGBClassifier(learning_rate=0.2, max_depth=10, min_child_weight=10, n_estimators=250)\n",
        "xgb_model.fit(X_train, y_train)"
      ],
      "execution_count": null,
      "outputs": [
        {
          "output_type": "execute_result",
          "data": {
            "text/plain": [
              "XGBClassifier(base_score=0.5, booster='gbtree', colsample_bylevel=1,\n",
              "              colsample_bynode=1, colsample_bytree=1, gamma=0,\n",
              "              learning_rate=0.2, max_delta_step=0, max_depth=10,\n",
              "              min_child_weight=10, missing=None, n_estimators=250, n_jobs=1,\n",
              "              nthread=None, objective='binary:logistic', random_state=0,\n",
              "              reg_alpha=0, reg_lambda=1, scale_pos_weight=1, seed=None,\n",
              "              silent=None, subsample=1, verbosity=1)"
            ]
          },
          "metadata": {
            "tags": []
          },
          "execution_count": 40
        }
      ]
    },
    {
      "cell_type": "code",
      "metadata": {
        "colab": {
          "base_uri": "https://localhost:8080/"
        },
        "id": "iJ9ABdJRZwMC",
        "outputId": "401ea5c9-8094-4faf-8319-e4ed2dd5156b"
      },
      "source": [
        "# checking the model performances\n",
        "xgb_pred = xgb_model.predict(X_test)\n",
        "print(confusion_matrix(y_test,xgb_pred))\n",
        "print('')\n",
        "print(classification_report(y_test, xgb_pred))"
      ],
      "execution_count": null,
      "outputs": [
        {
          "output_type": "stream",
          "text": [
            "[[91  9]\n",
            " [ 9 91]]\n",
            "\n",
            "              precision    recall  f1-score   support\n",
            "\n",
            "           0       0.91      0.91      0.91       100\n",
            "           1       0.91      0.91      0.91       100\n",
            "\n",
            "    accuracy                           0.91       200\n",
            "   macro avg       0.91      0.91      0.91       200\n",
            "weighted avg       0.91      0.91      0.91       200\n",
            "\n"
          ],
          "name": "stdout"
        }
      ]
    },
    {
      "cell_type": "markdown",
      "metadata": {
        "id": "Nw7HnZQiepR-"
      },
      "source": [
        "Based on f1-score, the accuracy of this model is 91%"
      ]
    },
    {
      "cell_type": "markdown",
      "metadata": {
        "id": "g83hQJgQaIK3"
      },
      "source": [
        "Since the accuracy of **XG boost model** is the highest. Thus, we will be using the XG boost model for predicting likes and dislikes of user"
      ]
    },
    {
      "cell_type": "code",
      "metadata": {
        "id": "UYJHzfV6GK6c"
      },
      "source": [
        "songs['prediction'] = xgb_pred"
      ],
      "execution_count": null,
      "outputs": []
    },
    {
      "cell_type": "code",
      "metadata": {
        "id": "DEMfekEQGKsh",
        "colab": {
          "base_uri": "https://localhost:8080/",
          "height": 394
        },
        "outputId": "711c2fe9-b3d1-433f-ecb3-cd4ed5bc1c3f"
      },
      "source": [
        "songs.sort_values('track_name').head()"
      ],
      "execution_count": null,
      "outputs": [
        {
          "output_type": "execute_result",
          "data": {
            "text/html": [
              "<div>\n",
              "<style scoped>\n",
              "    .dataframe tbody tr th:only-of-type {\n",
              "        vertical-align: middle;\n",
              "    }\n",
              "\n",
              "    .dataframe tbody tr th {\n",
              "        vertical-align: top;\n",
              "    }\n",
              "\n",
              "    .dataframe thead th {\n",
              "        text-align: right;\n",
              "    }\n",
              "</style>\n",
              "<table border=\"1\" class=\"dataframe\">\n",
              "  <thead>\n",
              "    <tr style=\"text-align: right;\">\n",
              "      <th></th>\n",
              "      <th>artist</th>\n",
              "      <th>track_name</th>\n",
              "      <th>danceability</th>\n",
              "      <th>energy</th>\n",
              "      <th>key</th>\n",
              "      <th>loudness</th>\n",
              "      <th>mode</th>\n",
              "      <th>speechiness</th>\n",
              "      <th>instrumentalness</th>\n",
              "      <th>liveness</th>\n",
              "      <th>valence</th>\n",
              "      <th>tempo</th>\n",
              "      <th>duration_ms</th>\n",
              "      <th>time_signature</th>\n",
              "      <th>song_like</th>\n",
              "      <th>prediction</th>\n",
              "    </tr>\n",
              "  </thead>\n",
              "  <tbody>\n",
              "    <tr>\n",
              "      <th>9</th>\n",
              "      <td>Bruno Mars</td>\n",
              "      <td>24K Magic</td>\n",
              "      <td>0.818</td>\n",
              "      <td>0.803</td>\n",
              "      <td>1</td>\n",
              "      <td>-4.282</td>\n",
              "      <td>1</td>\n",
              "      <td>0.0797</td>\n",
              "      <td>0.00000</td>\n",
              "      <td>0.1530</td>\n",
              "      <td>0.632</td>\n",
              "      <td>106.970</td>\n",
              "      <td>225983</td>\n",
              "      <td>4</td>\n",
              "      <td>0</td>\n",
              "      <td>0</td>\n",
              "    </tr>\n",
              "    <tr>\n",
              "      <th>74</th>\n",
              "      <td>Freddie Gibbs</td>\n",
              "      <td>4 Thangs (feat. Big Sean &amp; Hit-Boy)</td>\n",
              "      <td>0.813</td>\n",
              "      <td>0.557</td>\n",
              "      <td>10</td>\n",
              "      <td>-6.655</td>\n",
              "      <td>0</td>\n",
              "      <td>0.1330</td>\n",
              "      <td>0.00000</td>\n",
              "      <td>0.1280</td>\n",
              "      <td>0.764</td>\n",
              "      <td>83.012</td>\n",
              "      <td>104912</td>\n",
              "      <td>4</td>\n",
              "      <td>0</td>\n",
              "      <td>0</td>\n",
              "    </tr>\n",
              "    <tr>\n",
              "      <th>48</th>\n",
              "      <td>Palmer Ridge High School Wind Ensemble</td>\n",
              "      <td>Adventure Tale of Professor Alex (Live)</td>\n",
              "      <td>0.225</td>\n",
              "      <td>0.324</td>\n",
              "      <td>8</td>\n",
              "      <td>-15.014</td>\n",
              "      <td>1</td>\n",
              "      <td>0.0532</td>\n",
              "      <td>0.83500</td>\n",
              "      <td>0.6990</td>\n",
              "      <td>0.130</td>\n",
              "      <td>73.876</td>\n",
              "      <td>513813</td>\n",
              "      <td>4</td>\n",
              "      <td>1</td>\n",
              "      <td>1</td>\n",
              "    </tr>\n",
              "    <tr>\n",
              "      <th>98</th>\n",
              "      <td>TOTO</td>\n",
              "      <td>Africa</td>\n",
              "      <td>0.671</td>\n",
              "      <td>0.373</td>\n",
              "      <td>9</td>\n",
              "      <td>-18.064</td>\n",
              "      <td>1</td>\n",
              "      <td>0.0323</td>\n",
              "      <td>0.00008</td>\n",
              "      <td>0.0481</td>\n",
              "      <td>0.732</td>\n",
              "      <td>92.718</td>\n",
              "      <td>295893</td>\n",
              "      <td>4</td>\n",
              "      <td>1</td>\n",
              "      <td>1</td>\n",
              "    </tr>\n",
              "    <tr>\n",
              "      <th>5</th>\n",
              "      <td>Conro</td>\n",
              "      <td>All Eyes On Me</td>\n",
              "      <td>0.761</td>\n",
              "      <td>0.644</td>\n",
              "      <td>7</td>\n",
              "      <td>-6.765</td>\n",
              "      <td>1</td>\n",
              "      <td>0.0409</td>\n",
              "      <td>0.00146</td>\n",
              "      <td>0.0838</td>\n",
              "      <td>0.444</td>\n",
              "      <td>111.993</td>\n",
              "      <td>199286</td>\n",
              "      <td>4</td>\n",
              "      <td>1</td>\n",
              "      <td>1</td>\n",
              "    </tr>\n",
              "  </tbody>\n",
              "</table>\n",
              "</div>"
            ],
            "text/plain": [
              "                                    artist  ... prediction\n",
              "9                               Bruno Mars  ...          0\n",
              "74                           Freddie Gibbs  ...          0\n",
              "48  Palmer Ridge High School Wind Ensemble  ...          1\n",
              "98                                    TOTO  ...          1\n",
              "5                                    Conro  ...          1\n",
              "\n",
              "[5 rows x 16 columns]"
            ]
          },
          "metadata": {
            "tags": []
          },
          "execution_count": 43
        }
      ]
    },
    {
      "cell_type": "code",
      "metadata": {
        "id": "8zvmPSkGUWV0"
      },
      "source": [
        "final_prediction = songs[['track_name','artist','song_like','prediction']]"
      ],
      "execution_count": null,
      "outputs": []
    },
    {
      "cell_type": "code",
      "metadata": {
        "id": "qXdBfyIvUWg1",
        "colab": {
          "base_uri": "https://localhost:8080/",
          "height": 419
        },
        "outputId": "7b7927fe-a2b6-4186-dc8c-1e43d166ea39"
      },
      "source": [
        "final_prediction"
      ],
      "execution_count": null,
      "outputs": [
        {
          "output_type": "execute_result",
          "data": {
            "text/html": [
              "<div>\n",
              "<style scoped>\n",
              "    .dataframe tbody tr th:only-of-type {\n",
              "        vertical-align: middle;\n",
              "    }\n",
              "\n",
              "    .dataframe tbody tr th {\n",
              "        vertical-align: top;\n",
              "    }\n",
              "\n",
              "    .dataframe thead th {\n",
              "        text-align: right;\n",
              "    }\n",
              "</style>\n",
              "<table border=\"1\" class=\"dataframe\">\n",
              "  <thead>\n",
              "    <tr style=\"text-align: right;\">\n",
              "      <th></th>\n",
              "      <th>track_name</th>\n",
              "      <th>artist</th>\n",
              "      <th>song_like</th>\n",
              "      <th>prediction</th>\n",
              "    </tr>\n",
              "  </thead>\n",
              "  <tbody>\n",
              "    <tr>\n",
              "      <th>0</th>\n",
              "      <td>Hymn to the Sun, \"With the Beat of Mother Earth\"</td>\n",
              "      <td>Tom Lee Hong Kong Youth NeoWinds Orchestra</td>\n",
              "      <td>1</td>\n",
              "      <td>1</td>\n",
              "    </tr>\n",
              "    <tr>\n",
              "      <th>1</th>\n",
              "      <td>Malibu Nights</td>\n",
              "      <td>LANY</td>\n",
              "      <td>1</td>\n",
              "      <td>1</td>\n",
              "    </tr>\n",
              "    <tr>\n",
              "      <th>2</th>\n",
              "      <td>Give Me Love</td>\n",
              "      <td>Ed Sheeran</td>\n",
              "      <td>1</td>\n",
              "      <td>1</td>\n",
              "    </tr>\n",
              "    <tr>\n",
              "      <th>3</th>\n",
              "      <td>Persis Overture - Live</td>\n",
              "      <td>Coastal Communities Concert Band</td>\n",
              "      <td>1</td>\n",
              "      <td>1</td>\n",
              "    </tr>\n",
              "    <tr>\n",
              "      <th>4</th>\n",
              "      <td>Little Things</td>\n",
              "      <td>One Direction</td>\n",
              "      <td>1</td>\n",
              "      <td>1</td>\n",
              "    </tr>\n",
              "    <tr>\n",
              "      <th>...</th>\n",
              "      <td>...</td>\n",
              "      <td>...</td>\n",
              "      <td>...</td>\n",
              "      <td>...</td>\n",
              "    </tr>\n",
              "    <tr>\n",
              "      <th>95</th>\n",
              "      <td>Let Me Know</td>\n",
              "      <td>Brent Faiyaz</td>\n",
              "      <td>0</td>\n",
              "      <td>0</td>\n",
              "    </tr>\n",
              "    <tr>\n",
              "      <th>96</th>\n",
              "      <td>Good News</td>\n",
              "      <td>Mac Miller</td>\n",
              "      <td>0</td>\n",
              "      <td>0</td>\n",
              "    </tr>\n",
              "    <tr>\n",
              "      <th>97</th>\n",
              "      <td>You should be sad</td>\n",
              "      <td>Halsey</td>\n",
              "      <td>0</td>\n",
              "      <td>0</td>\n",
              "    </tr>\n",
              "    <tr>\n",
              "      <th>98</th>\n",
              "      <td>Sometimes</td>\n",
              "      <td>H.E.R.</td>\n",
              "      <td>0</td>\n",
              "      <td>0</td>\n",
              "    </tr>\n",
              "    <tr>\n",
              "      <th>99</th>\n",
              "      <td>Go Crazy</td>\n",
              "      <td>Chris Brown</td>\n",
              "      <td>0</td>\n",
              "      <td>0</td>\n",
              "    </tr>\n",
              "  </tbody>\n",
              "</table>\n",
              "<p>200 rows × 4 columns</p>\n",
              "</div>"
            ],
            "text/plain": [
              "                                          track_name  ... prediction\n",
              "0   Hymn to the Sun, \"With the Beat of Mother Earth\"  ...          1\n",
              "1                                      Malibu Nights  ...          1\n",
              "2                                       Give Me Love  ...          1\n",
              "3                             Persis Overture - Live  ...          1\n",
              "4                                      Little Things  ...          1\n",
              "..                                               ...  ...        ...\n",
              "95                                       Let Me Know  ...          0\n",
              "96                                         Good News  ...          0\n",
              "97                                 You should be sad  ...          0\n",
              "98                                         Sometimes  ...          0\n",
              "99                                          Go Crazy  ...          0\n",
              "\n",
              "[200 rows x 4 columns]"
            ]
          },
          "metadata": {
            "tags": []
          },
          "execution_count": 45
        }
      ]
    }
  ]
}